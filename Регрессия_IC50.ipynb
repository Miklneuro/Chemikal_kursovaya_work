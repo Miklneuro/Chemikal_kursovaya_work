{
  "cells": [
    {
      "cell_type": "markdown",
      "metadata": {
        "id": "view-in-github",
        "colab_type": "text"
      },
      "source": [
        "<a href=\"https://colab.research.google.com/github/Miklneuro/Chemikal_kursovaya_work/blob/main/%D0%A0%D0%B5%D0%B3%D1%80%D0%B5%D1%81%D1%81%D0%B8%D1%8F_IC50.ipynb\" target=\"_parent\"><img src=\"https://colab.research.google.com/assets/colab-badge.svg\" alt=\"Open In Colab\"/></a>"
      ]
    },
    {
      "cell_type": "code",
      "execution_count": null,
      "metadata": {
        "id": "EOc2KebXaA5Z"
      },
      "outputs": [],
      "source": [
        "\n",
        "!pip install numpy==1.26.4 --no-cache-dir > /dev/null\n",
        "!pip install xgboost optuna scikit-learn pandas matplotlib lightautoml > /dev/null\n",
        "\n",
        "\n",
        "\n",
        "import time\n",
        "import warnings\n",
        "warnings.filterwarnings(\"ignore\")\n",
        "\n",
        "import pandas as pd\n",
        "import numpy as np\n",
        "import matplotlib.pyplot as plt\n",
        "\n",
        "from sklearn.model_selection import train_test_split, GridSearchCV\n",
        "from sklearn.metrics import mean_squared_error, mean_absolute_error, r2_score\n",
        "\n",
        "# Модели\n",
        "from sklearn.linear_model import LinearRegression\n",
        "from sklearn.ensemble import RandomForestRegressor, GradientBoostingRegressor\n",
        "from sklearn.svm import SVR\n",
        "from sklearn.neighbors import KNeighborsRegressor\n",
        "from xgboost import XGBRegressor\n",
        "\n",
        "# LightAutoML\n",
        "from lightautoml.automl.presets.tabular_presets import TabularUtilizedAutoML\n",
        "from lightautoml.tasks import Task\n",
        "\n",
        "# Optuna\n",
        "import optuna\n",
        "\n",
        "# Google Colab\n",
        "from google.colab import drive\n",
        "\n",
        "import joblib"
      ]
    },
    {
      "cell_type": "code",
      "execution_count": null,
      "metadata": {
        "id": "GzSq5l9qbg23"
      },
      "outputs": [],
      "source": [
        "data = pd.read_csv('/content/drive/MyDrive/MIFI_kurs_chemickal_data/processed_data.csv')"
      ]
    },
    {
      "cell_type": "code",
      "execution_count": null,
      "metadata": {
        "colab": {
          "base_uri": "https://localhost:8080/"
        },
        "id": "dpzbg-nFcLBn",
        "outputId": "291e3858-6ae1-419e-c019-f3d63ebf3f40"
      },
      "outputs": [
        {
          "data": {
            "text/plain": [
              "Index(['IC50, mM', 'CC50, mM', 'SI', 'SMR_VSA10_scaled', 'fr_Al_COO_scaled',\n",
              "       'fr_Al_OH_scaled', 'fr_Al_OH_noTert_scaled', 'fr_ArN_scaled',\n",
              "       'fr_Ar_COO_scaled', 'fr_Ar_N_scaled',\n",
              "       ...\n",
              "       'BCUT2D_MWLOW_sqrt_scaled', 'BCUT2D_CHGHI_sqrt_scaled',\n",
              "       'BCUT2D_CHGLO_sqrt_scaled', 'BCUT2D_LOGPHI_sqrt_scaled',\n",
              "       'BCUT2D_LOGPLOW_sqrt_scaled', 'BCUT2D_MRHI_sqrt_scaled',\n",
              "       'BCUT2D_MRLOW_sqrt_scaled', 'AvgIpc_sqrt_scaled',\n",
              "       'BalabanJ_sqrt_scaled', 'HallKierAlpha_sqrt_scaled'],\n",
              "      dtype='object', length=188)"
            ]
          },
          "execution_count": 7,
          "metadata": {},
          "output_type": "execute_result"
        }
      ],
      "source": [
        "data.columns\n"
      ]
    },
    {
      "cell_type": "code",
      "execution_count": null,
      "metadata": {
        "id": "sxQeFi2ifHl5"
      },
      "outputs": [],
      "source": [
        "X = data.drop(columns=['IC50, mM', 'CC50, mM', 'SI'])"
      ]
    },
    {
      "cell_type": "code",
      "execution_count": null,
      "metadata": {
        "id": "4KcPtCFcfK-4"
      },
      "outputs": [],
      "source": [
        "y = data['IC50, mM']"
      ]
    },
    {
      "cell_type": "code",
      "execution_count": null,
      "metadata": {
        "colab": {
          "base_uri": "https://localhost:8080/"
        },
        "id": "WbnfE7NcmHnY",
        "outputId": "b131e556-7aaa-4647-a4a9-01480373d748"
      },
      "outputs": [
        {
          "name": "stdout",
          "output_type": "stream",
          "text": [
            "Разделение на train/test завершено.\n"
          ]
        }
      ],
      "source": [
        "# Разделение данных на обучающую и тестовую выборки (80% - 20%)\n",
        "X_train, X_test, y_train, y_test = train_test_split(X, y, test_size=0.2, random_state=42)\n",
        "\n",
        "print(\"Разделение на train/test завершено.\")"
      ]
    },
    {
      "cell_type": "markdown",
      "metadata": {
        "id": "QXRZVV6mrYc4"
      },
      "source": [
        "Для  дальнейшей работы определимся с пакетом метрик"
      ]
    },
    {
      "cell_type": "markdown",
      "metadata": {
        "id": "zlmb5hp5nw6j"
      },
      "source": [
        "\n",
        "| Метрика | Описание | Зачем нужна |\n",
        "|--------|----------|-------------|\n",
        "| **RMSE** (Root Mean Squared Error) | Среднеквадратичное отклонение предсказанных значений от реальных | Позволяет оценить точность модели с акцентом на большие ошибки; полезна, когда критично минимизировать крупные отклонения в прогнозе активности вещества |\n",
        "| **MAE** (Mean Absolute Error) | Среднее абсолютное отклонение предсказаний от истинных значений | Даёт интуитивно понятную меру средней ошибки модели; устойчива к выбросам и удобна для интерпретации |\n",
        "| **R²** (Коэффициент детерминации) | Доля дисперсии целевой переменной, объяснённой моделью | Показывает, насколько хорошо модель воспроизводит вариации в данных; позволяет сравнить модель с тривиальным предсказанием среднего значения |"
      ]
    },
    {
      "cell_type": "markdown",
      "metadata": {
        "id": "rydQkCROrm1w"
      },
      "source": [
        "Проведём моделирование с целью выбора оптимальной, с нашей точки зрения, системы подбора гиперпараметров. Будем исследовать возможности GridSearchCV и Optuna по скорости работы и достигаемым результатам на одинаковых моделях"
      ]
    },
    {
      "cell_type": "markdown",
      "metadata": {
        "id": "g_fkO05htLPK"
      },
      "source": [
        "| Модель | Особенности | Преимущества | Параметры для подбора |\n",
        "|--------|-------------|--------------|------------------------|\n",
        "| **Linear Regression** | Простая линейная модель, предполагает линейную зависимость между признаками и целевой переменной | Быстрая, интерпретируемая, хороша как базовая модель | `fit_intercept`, `normalize` (опционально), `alpha` (если используется Ridge/Lasso) |\n",
        "| **Random Forest Regressor** | Ансамблевая модель на основе множества деревьев, устойчива к переобучению | Хорошо работает \"из коробки\", оценивает важность признаков | `n_estimators`, `max_depth`, `min_samples_split`, `max_features` |\n",
        "| **Gradient Boosting Regressor** | Последовательное построение моделей с корректировкой ошибок | Высокая точность прогноза, гибкость | `learning_rate`, `n_estimators`, `max_depth`, `subsample` |\n",
        "| **Support Vector Regressor (SVR)** | Работает в условиях сложных нелинейных зависимостей | Хорош при малом числе признаков | `C`, `epsilon`, `kernel`, `gamma` |\n",
        "| **KNeighbors Regressor** | Непараметрический метод, основанный на ближайших соседях | Прост в понимании, не требует обучения | `n_neighbors`, `weights`, `p` (метрика расстояния) |\n",
        "| **XGBoost Regressor** | Реализация градиентного бустинга с оптимизацией скорости и памяти | Очень высокая эффективность, поддерживает регуляризацию | `learning_rate`, `max_depth`, `n_estimators`, `subsample`, `colsample_bytree` |"
      ]
    },
    {
      "cell_type": "code",
      "execution_count": null,
      "metadata": {
        "id": "v5rzRa1tvSbZ"
      },
      "outputs": [],
      "source": [
        "# Словарь моделей с настраиваемыми гиперпараметрами\n",
        "model_params = {\n",
        "    'LinearRegression': {\n",
        "        'model': LinearRegression(),\n",
        "        'params': {}\n",
        "    },\n",
        "    'RandomForest': {\n",
        "        'model': RandomForestRegressor(random_state=42),\n",
        "        'params': {\n",
        "            'n_estimators': [50, 100, 200],\n",
        "            'max_depth': [None, 5, 10],\n",
        "            'min_samples_split': [2, 5]\n",
        "        }\n",
        "    },\n",
        "    'GradientBoosting': {\n",
        "        'model': GradientBoostingRegressor(random_state=42),\n",
        "        'params': {\n",
        "            'learning_rate': [0.01, 0.1, 0.2],\n",
        "            'n_estimators': [50, 100, 200],\n",
        "            'max_depth': [3, 5, 7]\n",
        "        }\n",
        "    },\n",
        "    'SVR': {\n",
        "        'model': SVR(),\n",
        "        'params': {\n",
        "            'C': [0.1, 1, 10],\n",
        "            'epsilon': [0.1, 0.2],\n",
        "            'kernel': ['linear', 'rbf']\n",
        "        }\n",
        "    },\n",
        "    'KNeighbors': {\n",
        "        'model': KNeighborsRegressor(),\n",
        "        'params': {\n",
        "            'n_neighbors': [3, 5, 7],\n",
        "            'weights': ['uniform', 'distance'],\n",
        "            'p': [1, 2]\n",
        "        }\n",
        "    },\n",
        "    'XGBoost': {\n",
        "        'model': XGBRegressor(random_state=42, eval_metric='logloss'),\n",
        "        'params': {\n",
        "            'learning_rate': [0.01, 0.1, 0.2],\n",
        "            'max_depth': [3, 5, 7],\n",
        "            'n_estimators': [50, 100, 200],\n",
        "            'subsample': [0.8, 1.0]\n",
        "        }\n",
        "    }\n",
        "}"
      ]
    },
    {
      "cell_type": "code",
      "execution_count": null,
      "metadata": {
        "id": "cokHq-kivnhY"
      },
      "outputs": [],
      "source": [
        "# Функция вычисления основных метрик\n",
        "def evaluate_model(y_true, y_pred):\n",
        "    rmse = np.sqrt(mean_squared_error(y_true, y_pred))\n",
        "    mae = mean_absolute_error(y_true, y_pred)\n",
        "    r2 = r2_score(y_true, y_pred)\n",
        "    return {'RMSE': rmse, 'MAE': mae, 'R²': r2}"
      ]
    },
    {
      "cell_type": "code",
      "execution_count": null,
      "metadata": {
        "id": "taYKxm9qv4WM"
      },
      "outputs": [],
      "source": [
        "# Функция запуска с замером времени\n",
        "def run_and_time(func, *args, **kwargs):\n",
        "    start = time.time()\n",
        "    result = func(*args, **kwargs)\n",
        "    duration = time.time() - start\n",
        "    return result, duration"
      ]
    },
    {
      "cell_type": "markdown",
      "metadata": {
        "id": "DAN3Ka_2xGCp"
      },
      "source": [
        "###Этап I: Базовое обучение моделей без подбора гиперпараметров\n",
        "\n",
        "Для проведения дальнейшей оценки и сравнения методов настройки гиперпараметров, необходимо установить базовый уровень качества каждой модели без их подбора. Это позволит понять, насколько каждый метод (GridSearchCV и Optuna) улучшает предсказательную способность моделей по сравнению с начальным состоянием.  "
      ]
    },
    {
      "cell_type": "code",
      "execution_count": null,
      "metadata": {
        "colab": {
          "base_uri": "https://localhost:8080/",
          "height": 238
        },
        "id": "nnQMdrp7xMaz",
        "outputId": "4af31e38-441c-4746-ddf2-ea0fa8101c3f"
      },
      "outputs": [
        {
          "data": {
            "application/vnd.google.colaboratory.intrinsic+json": {
              "summary": "{\n  \"name\": \"pd\",\n  \"rows\": 6,\n  \"fields\": [\n    {\n      \"column\": \"Model\",\n      \"properties\": {\n        \"dtype\": \"string\",\n        \"num_unique_values\": 6,\n        \"samples\": [\n          \"LinearRegression\",\n          \"RandomForest\",\n          \"XGBoost\"\n        ],\n        \"semantic_type\": \"\",\n        \"description\": \"\"\n      }\n    },\n    {\n      \"column\": \"Params\",\n      \"properties\": {\n        \"dtype\": \"category\",\n        \"num_unique_values\": 1,\n        \"samples\": [\n          \"default\"\n        ],\n        \"semantic_type\": \"\",\n        \"description\": \"\"\n      }\n    },\n    {\n      \"column\": \"Approach\",\n      \"properties\": {\n        \"dtype\": \"category\",\n        \"num_unique_values\": 1,\n        \"samples\": [\n          \"Baseline\"\n        ],\n        \"semantic_type\": \"\",\n        \"description\": \"\"\n      }\n    },\n    {\n      \"column\": \"Time\",\n      \"properties\": {\n        \"dtype\": \"category\",\n        \"num_unique_values\": 1,\n        \"samples\": [\n          \"-\"\n        ],\n        \"semantic_type\": \"\",\n        \"description\": \"\"\n      }\n    },\n    {\n      \"column\": \"RMSE\",\n      \"properties\": {\n        \"dtype\": \"number\",\n        \"std\": 16.51579601672127,\n        \"min\": 218.1066758571984,\n        \"max\": 256.1413150373679,\n        \"num_unique_values\": 6,\n        \"samples\": [\n          253.56584777959245\n        ],\n        \"semantic_type\": \"\",\n        \"description\": \"\"\n      }\n    },\n    {\n      \"column\": \"MAE\",\n      \"properties\": {\n        \"dtype\": \"number\",\n        \"std\": 14.000405299978535,\n        \"min\": 127.73478539421549,\n        \"max\": 168.92186800650606,\n        \"num_unique_values\": 6,\n        \"samples\": [\n          168.92186800650606\n        ],\n        \"semantic_type\": \"\",\n        \"description\": \"\"\n      }\n    },\n    {\n      \"column\": \"R\\u00b2\",\n      \"properties\": {\n        \"dtype\": \"number\",\n        \"std\": 0.1439303742526516,\n        \"min\": -0.20616424098242314,\n        \"max\": 0.12544908878547523,\n        \"num_unique_values\": 6,\n        \"samples\": [\n          -0.18203053881660658\n        ],\n        \"semantic_type\": \"\",\n        \"description\": \"\"\n      }\n    }\n  ]\n}",
              "type": "dataframe"
            },
            "text/html": [
              "\n",
              "  <div id=\"df-78be518c-d62c-4a35-858c-4b1de2915558\" class=\"colab-df-container\">\n",
              "    <div>\n",
              "<style scoped>\n",
              "    .dataframe tbody tr th:only-of-type {\n",
              "        vertical-align: middle;\n",
              "    }\n",
              "\n",
              "    .dataframe tbody tr th {\n",
              "        vertical-align: top;\n",
              "    }\n",
              "\n",
              "    .dataframe thead th {\n",
              "        text-align: right;\n",
              "    }\n",
              "</style>\n",
              "<table border=\"1\" class=\"dataframe\">\n",
              "  <thead>\n",
              "    <tr style=\"text-align: right;\">\n",
              "      <th></th>\n",
              "      <th>Model</th>\n",
              "      <th>Params</th>\n",
              "      <th>Approach</th>\n",
              "      <th>Time</th>\n",
              "      <th>RMSE</th>\n",
              "      <th>MAE</th>\n",
              "      <th>R²</th>\n",
              "    </tr>\n",
              "  </thead>\n",
              "  <tbody>\n",
              "    <tr>\n",
              "      <th>0</th>\n",
              "      <td>LinearRegression</td>\n",
              "      <td>default</td>\n",
              "      <td>Baseline</td>\n",
              "      <td>-</td>\n",
              "      <td>253.565848</td>\n",
              "      <td>168.921868</td>\n",
              "      <td>-0.182031</td>\n",
              "    </tr>\n",
              "    <tr>\n",
              "      <th>1</th>\n",
              "      <td>RandomForest</td>\n",
              "      <td>default</td>\n",
              "      <td>Baseline</td>\n",
              "      <td>-</td>\n",
              "      <td>218.106676</td>\n",
              "      <td>140.291133</td>\n",
              "      <td>0.125449</td>\n",
              "    </tr>\n",
              "    <tr>\n",
              "      <th>2</th>\n",
              "      <td>GradientBoosting</td>\n",
              "      <td>default</td>\n",
              "      <td>Baseline</td>\n",
              "      <td>-</td>\n",
              "      <td>219.763929</td>\n",
              "      <td>140.942137</td>\n",
              "      <td>0.112108</td>\n",
              "    </tr>\n",
              "    <tr>\n",
              "      <th>3</th>\n",
              "      <td>SVR</td>\n",
              "      <td>default</td>\n",
              "      <td>Baseline</td>\n",
              "      <td>-</td>\n",
              "      <td>256.141315</td>\n",
              "      <td>127.734785</td>\n",
              "      <td>-0.206164</td>\n",
              "    </tr>\n",
              "    <tr>\n",
              "      <th>4</th>\n",
              "      <td>KNeighbors</td>\n",
              "      <td>default</td>\n",
              "      <td>Baseline</td>\n",
              "      <td>-</td>\n",
              "      <td>230.624306</td>\n",
              "      <td>140.264934</td>\n",
              "      <td>0.022184</td>\n",
              "    </tr>\n",
              "    <tr>\n",
              "      <th>5</th>\n",
              "      <td>XGBoost</td>\n",
              "      <td>default</td>\n",
              "      <td>Baseline</td>\n",
              "      <td>-</td>\n",
              "      <td>242.356968</td>\n",
              "      <td>151.975359</td>\n",
              "      <td>-0.079837</td>\n",
              "    </tr>\n",
              "  </tbody>\n",
              "</table>\n",
              "</div>\n",
              "    <div class=\"colab-df-buttons\">\n",
              "\n",
              "  <div class=\"colab-df-container\">\n",
              "    <button class=\"colab-df-convert\" onclick=\"convertToInteractive('df-78be518c-d62c-4a35-858c-4b1de2915558')\"\n",
              "            title=\"Convert this dataframe to an interactive table.\"\n",
              "            style=\"display:none;\">\n",
              "\n",
              "  <svg xmlns=\"http://www.w3.org/2000/svg\" height=\"24px\" viewBox=\"0 -960 960 960\">\n",
              "    <path d=\"M120-120v-720h720v720H120Zm60-500h600v-160H180v160Zm220 220h160v-160H400v160Zm0 220h160v-160H400v160ZM180-400h160v-160H180v160Zm440 0h160v-160H620v160ZM180-180h160v-160H180v160Zm440 0h160v-160H620v160Z\"/>\n",
              "  </svg>\n",
              "    </button>\n",
              "\n",
              "  <style>\n",
              "    .colab-df-container {\n",
              "      display:flex;\n",
              "      gap: 12px;\n",
              "    }\n",
              "\n",
              "    .colab-df-convert {\n",
              "      background-color: #E8F0FE;\n",
              "      border: none;\n",
              "      border-radius: 50%;\n",
              "      cursor: pointer;\n",
              "      display: none;\n",
              "      fill: #1967D2;\n",
              "      height: 32px;\n",
              "      padding: 0 0 0 0;\n",
              "      width: 32px;\n",
              "    }\n",
              "\n",
              "    .colab-df-convert:hover {\n",
              "      background-color: #E2EBFA;\n",
              "      box-shadow: 0px 1px 2px rgba(60, 64, 67, 0.3), 0px 1px 3px 1px rgba(60, 64, 67, 0.15);\n",
              "      fill: #174EA6;\n",
              "    }\n",
              "\n",
              "    .colab-df-buttons div {\n",
              "      margin-bottom: 4px;\n",
              "    }\n",
              "\n",
              "    [theme=dark] .colab-df-convert {\n",
              "      background-color: #3B4455;\n",
              "      fill: #D2E3FC;\n",
              "    }\n",
              "\n",
              "    [theme=dark] .colab-df-convert:hover {\n",
              "      background-color: #434B5C;\n",
              "      box-shadow: 0px 1px 3px 1px rgba(0, 0, 0, 0.15);\n",
              "      filter: drop-shadow(0px 1px 2px rgba(0, 0, 0, 0.3));\n",
              "      fill: #FFFFFF;\n",
              "    }\n",
              "  </style>\n",
              "\n",
              "    <script>\n",
              "      const buttonEl =\n",
              "        document.querySelector('#df-78be518c-d62c-4a35-858c-4b1de2915558 button.colab-df-convert');\n",
              "      buttonEl.style.display =\n",
              "        google.colab.kernel.accessAllowed ? 'block' : 'none';\n",
              "\n",
              "      async function convertToInteractive(key) {\n",
              "        const element = document.querySelector('#df-78be518c-d62c-4a35-858c-4b1de2915558');\n",
              "        const dataTable =\n",
              "          await google.colab.kernel.invokeFunction('convertToInteractive',\n",
              "                                                    [key], {});\n",
              "        if (!dataTable) return;\n",
              "\n",
              "        const docLinkHtml = 'Like what you see? Visit the ' +\n",
              "          '<a target=\"_blank\" href=https://colab.research.google.com/notebooks/data_table.ipynb>data table notebook</a>'\n",
              "          + ' to learn more about interactive tables.';\n",
              "        element.innerHTML = '';\n",
              "        dataTable['output_type'] = 'display_data';\n",
              "        await google.colab.output.renderOutput(dataTable, element);\n",
              "        const docLink = document.createElement('div');\n",
              "        docLink.innerHTML = docLinkHtml;\n",
              "        element.appendChild(docLink);\n",
              "      }\n",
              "    </script>\n",
              "  </div>\n",
              "\n",
              "\n",
              "    <div id=\"df-8090ef59-1134-4af1-af05-55135890b556\">\n",
              "      <button class=\"colab-df-quickchart\" onclick=\"quickchart('df-8090ef59-1134-4af1-af05-55135890b556')\"\n",
              "                title=\"Suggest charts\"\n",
              "                style=\"display:none;\">\n",
              "\n",
              "<svg xmlns=\"http://www.w3.org/2000/svg\" height=\"24px\"viewBox=\"0 0 24 24\"\n",
              "     width=\"24px\">\n",
              "    <g>\n",
              "        <path d=\"M19 3H5c-1.1 0-2 .9-2 2v14c0 1.1.9 2 2 2h14c1.1 0 2-.9 2-2V5c0-1.1-.9-2-2-2zM9 17H7v-7h2v7zm4 0h-2V7h2v10zm4 0h-2v-4h2v4z\"/>\n",
              "    </g>\n",
              "</svg>\n",
              "      </button>\n",
              "\n",
              "<style>\n",
              "  .colab-df-quickchart {\n",
              "      --bg-color: #E8F0FE;\n",
              "      --fill-color: #1967D2;\n",
              "      --hover-bg-color: #E2EBFA;\n",
              "      --hover-fill-color: #174EA6;\n",
              "      --disabled-fill-color: #AAA;\n",
              "      --disabled-bg-color: #DDD;\n",
              "  }\n",
              "\n",
              "  [theme=dark] .colab-df-quickchart {\n",
              "      --bg-color: #3B4455;\n",
              "      --fill-color: #D2E3FC;\n",
              "      --hover-bg-color: #434B5C;\n",
              "      --hover-fill-color: #FFFFFF;\n",
              "      --disabled-bg-color: #3B4455;\n",
              "      --disabled-fill-color: #666;\n",
              "  }\n",
              "\n",
              "  .colab-df-quickchart {\n",
              "    background-color: var(--bg-color);\n",
              "    border: none;\n",
              "    border-radius: 50%;\n",
              "    cursor: pointer;\n",
              "    display: none;\n",
              "    fill: var(--fill-color);\n",
              "    height: 32px;\n",
              "    padding: 0;\n",
              "    width: 32px;\n",
              "  }\n",
              "\n",
              "  .colab-df-quickchart:hover {\n",
              "    background-color: var(--hover-bg-color);\n",
              "    box-shadow: 0 1px 2px rgba(60, 64, 67, 0.3), 0 1px 3px 1px rgba(60, 64, 67, 0.15);\n",
              "    fill: var(--button-hover-fill-color);\n",
              "  }\n",
              "\n",
              "  .colab-df-quickchart-complete:disabled,\n",
              "  .colab-df-quickchart-complete:disabled:hover {\n",
              "    background-color: var(--disabled-bg-color);\n",
              "    fill: var(--disabled-fill-color);\n",
              "    box-shadow: none;\n",
              "  }\n",
              "\n",
              "  .colab-df-spinner {\n",
              "    border: 2px solid var(--fill-color);\n",
              "    border-color: transparent;\n",
              "    border-bottom-color: var(--fill-color);\n",
              "    animation:\n",
              "      spin 1s steps(1) infinite;\n",
              "  }\n",
              "\n",
              "  @keyframes spin {\n",
              "    0% {\n",
              "      border-color: transparent;\n",
              "      border-bottom-color: var(--fill-color);\n",
              "      border-left-color: var(--fill-color);\n",
              "    }\n",
              "    20% {\n",
              "      border-color: transparent;\n",
              "      border-left-color: var(--fill-color);\n",
              "      border-top-color: var(--fill-color);\n",
              "    }\n",
              "    30% {\n",
              "      border-color: transparent;\n",
              "      border-left-color: var(--fill-color);\n",
              "      border-top-color: var(--fill-color);\n",
              "      border-right-color: var(--fill-color);\n",
              "    }\n",
              "    40% {\n",
              "      border-color: transparent;\n",
              "      border-right-color: var(--fill-color);\n",
              "      border-top-color: var(--fill-color);\n",
              "    }\n",
              "    60% {\n",
              "      border-color: transparent;\n",
              "      border-right-color: var(--fill-color);\n",
              "    }\n",
              "    80% {\n",
              "      border-color: transparent;\n",
              "      border-right-color: var(--fill-color);\n",
              "      border-bottom-color: var(--fill-color);\n",
              "    }\n",
              "    90% {\n",
              "      border-color: transparent;\n",
              "      border-bottom-color: var(--fill-color);\n",
              "    }\n",
              "  }\n",
              "</style>\n",
              "\n",
              "      <script>\n",
              "        async function quickchart(key) {\n",
              "          const quickchartButtonEl =\n",
              "            document.querySelector('#' + key + ' button');\n",
              "          quickchartButtonEl.disabled = true;  // To prevent multiple clicks.\n",
              "          quickchartButtonEl.classList.add('colab-df-spinner');\n",
              "          try {\n",
              "            const charts = await google.colab.kernel.invokeFunction(\n",
              "                'suggestCharts', [key], {});\n",
              "          } catch (error) {\n",
              "            console.error('Error during call to suggestCharts:', error);\n",
              "          }\n",
              "          quickchartButtonEl.classList.remove('colab-df-spinner');\n",
              "          quickchartButtonEl.classList.add('colab-df-quickchart-complete');\n",
              "        }\n",
              "        (() => {\n",
              "          let quickchartButtonEl =\n",
              "            document.querySelector('#df-8090ef59-1134-4af1-af05-55135890b556 button');\n",
              "          quickchartButtonEl.style.display =\n",
              "            google.colab.kernel.accessAllowed ? 'block' : 'none';\n",
              "        })();\n",
              "      </script>\n",
              "    </div>\n",
              "    </div>\n",
              "  </div>\n"
            ],
            "text/plain": [
              "              Model   Params  Approach Time        RMSE         MAE        R²\n",
              "0  LinearRegression  default  Baseline    -  253.565848  168.921868 -0.182031\n",
              "1      RandomForest  default  Baseline    -  218.106676  140.291133  0.125449\n",
              "2  GradientBoosting  default  Baseline    -  219.763929  140.942137  0.112108\n",
              "3               SVR  default  Baseline    -  256.141315  127.734785 -0.206164\n",
              "4        KNeighbors  default  Baseline    -  230.624306  140.264934  0.022184\n",
              "5           XGBoost  default  Baseline    -  242.356968  151.975359 -0.079837"
            ]
          },
          "execution_count": 23,
          "metadata": {},
          "output_type": "execute_result"
        }
      ],
      "source": [
        "results_baseline = []\n",
        "\n",
        "for model_name, config in model_params.items():\n",
        "    model = config['model']\n",
        "\n",
        "    # Обучение\n",
        "    model.fit(X_train, y_train)\n",
        "    y_pred = model.predict(X_test)\n",
        "\n",
        "    # Оценка\n",
        "    metrics = evaluate_model(y_test, y_pred)\n",
        "\n",
        "    # Сохраняем результаты\n",
        "    results_baseline.append({\n",
        "        'Model': model_name,\n",
        "        'Params': 'default',\n",
        "        'Approach': 'Baseline',\n",
        "        'Time': '-',  # Не замеряем на этом этапе\n",
        "        'RMSE': metrics['RMSE'],\n",
        "        'MAE': metrics['MAE'],\n",
        "        'R²': metrics['R²']\n",
        "    })\n",
        "\n",
        "# Вывод таблицы с результатами\n",
        "pd.DataFrame(results_baseline)"
      ]
    },
    {
      "cell_type": "markdown",
      "metadata": {
        "id": "19DzYsJPzyu5"
      },
      "source": [
        " Вывод по базовому уровню моделей (без подбора гиперпараметров)\n",
        "\n",
        "Анализ показал, что модели в режиме \"по умолчанию\" демонстрируют разный уровень прогнозирующей способности , но большинство из них пока не обеспечивает высокой точности.\n"
      ]
    },
    {
      "cell_type": "markdown",
      "metadata": {
        "id": "7Hs7fLqK0fbh"
      },
      "source": [
        "### Этап II обучение моделей  при  помоши GridSearchCV\n",
        "*Здесь следует сделать оговорку, что модель линейной регрессии не требует подбора гиперпараметров , поскольку она не имеет настраиваемых параметров вне обучения по методу наименьших квадратов. Эта модель будет использоваться как базовый уровень  для определения прогресса других, более сложных моделей.*"
      ]
    },
    {
      "cell_type": "code",
      "execution_count": null,
      "metadata": {
        "colab": {
          "base_uri": "https://localhost:8080/",
          "height": 206
        },
        "id": "3CZE4mAz0YS5",
        "outputId": "f28f50e1-4493-475e-c047-d0c7380ed6a6"
      },
      "outputs": [
        {
          "data": {
            "application/vnd.google.colaboratory.intrinsic+json": {
              "summary": "{\n  \"name\": \"pd\",\n  \"rows\": 5,\n  \"fields\": [\n    {\n      \"column\": \"Model\",\n      \"properties\": {\n        \"dtype\": \"string\",\n        \"num_unique_values\": 5,\n        \"samples\": [\n          \"GradientBoosting\",\n          \"XGBoost\",\n          \"SVR\"\n        ],\n        \"semantic_type\": \"\",\n        \"description\": \"\"\n      }\n    },\n    {\n      \"column\": \"Params\",\n      \"properties\": {\n        \"dtype\": \"object\",\n        \"semantic_type\": \"\",\n        \"description\": \"\"\n      }\n    },\n    {\n      \"column\": \"Approach\",\n      \"properties\": {\n        \"dtype\": \"category\",\n        \"num_unique_values\": 1,\n        \"samples\": [\n          \"GridSearchCV\"\n        ],\n        \"semantic_type\": \"\",\n        \"description\": \"\"\n      }\n    },\n    {\n      \"column\": \"Time\",\n      \"properties\": {\n        \"dtype\": \"number\",\n        \"std\": 109.75399459700772,\n        \"min\": 0.83,\n        \"max\": 224.81,\n        \"num_unique_values\": 5,\n        \"samples\": [\n          201.64\n        ],\n        \"semantic_type\": \"\",\n        \"description\": \"\"\n      }\n    },\n    {\n      \"column\": \"RMSE\",\n      \"properties\": {\n        \"dtype\": \"number\",\n        \"std\": 6.363456877195486,\n        \"min\": 217.72849741331254,\n        \"max\": 232.6443430998,\n        \"num_unique_values\": 5,\n        \"samples\": [\n          219.29276592230605\n        ],\n        \"semantic_type\": \"\",\n        \"description\": \"\"\n      }\n    },\n    {\n      \"column\": \"MAE\",\n      \"properties\": {\n        \"dtype\": \"number\",\n        \"std\": 6.797938734871773,\n        \"min\": 129.82690433383794,\n        \"max\": 146.75459633007702,\n        \"num_unique_values\": 5,\n        \"samples\": [\n          146.75459633007702\n        ],\n        \"semantic_type\": \"\",\n        \"description\": \"\"\n      }\n    },\n    {\n      \"column\": \"R\\u00b2\",\n      \"properties\": {\n        \"dtype\": \"number\",\n        \"std\": 0.05265587829110754,\n        \"min\": 0.00497916927557307,\n        \"max\": 0.12847925342468114,\n        \"num_unique_values\": 5,\n        \"samples\": [\n          0.11591140165971581\n        ],\n        \"semantic_type\": \"\",\n        \"description\": \"\"\n      }\n    }\n  ]\n}",
              "type": "dataframe"
            },
            "text/html": [
              "\n",
              "  <div id=\"df-3e9d8d37-fe1b-49c5-b2ef-6107a75f9253\" class=\"colab-df-container\">\n",
              "    <div>\n",
              "<style scoped>\n",
              "    .dataframe tbody tr th:only-of-type {\n",
              "        vertical-align: middle;\n",
              "    }\n",
              "\n",
              "    .dataframe tbody tr th {\n",
              "        vertical-align: top;\n",
              "    }\n",
              "\n",
              "    .dataframe thead th {\n",
              "        text-align: right;\n",
              "    }\n",
              "</style>\n",
              "<table border=\"1\" class=\"dataframe\">\n",
              "  <thead>\n",
              "    <tr style=\"text-align: right;\">\n",
              "      <th></th>\n",
              "      <th>Model</th>\n",
              "      <th>Params</th>\n",
              "      <th>Approach</th>\n",
              "      <th>Time</th>\n",
              "      <th>RMSE</th>\n",
              "      <th>MAE</th>\n",
              "      <th>R²</th>\n",
              "    </tr>\n",
              "  </thead>\n",
              "  <tbody>\n",
              "    <tr>\n",
              "      <th>0</th>\n",
              "      <td>RandomForest</td>\n",
              "      <td>{'max_depth': 5, 'min_samples_split': 5, 'n_es...</td>\n",
              "      <td>GridSearchCV</td>\n",
              "      <td>177.58</td>\n",
              "      <td>217.892849</td>\n",
              "      <td>144.080745</td>\n",
              "      <td>0.127163</td>\n",
              "    </tr>\n",
              "    <tr>\n",
              "      <th>1</th>\n",
              "      <td>GradientBoosting</td>\n",
              "      <td>{'learning_rate': 0.01, 'max_depth': 3, 'n_est...</td>\n",
              "      <td>GridSearchCV</td>\n",
              "      <td>201.64</td>\n",
              "      <td>219.292766</td>\n",
              "      <td>146.754596</td>\n",
              "      <td>0.115911</td>\n",
              "    </tr>\n",
              "    <tr>\n",
              "      <th>2</th>\n",
              "      <td>SVR</td>\n",
              "      <td>{'C': 10, 'epsilon': 0.1, 'kernel': 'linear'}</td>\n",
              "      <td>GridSearchCV</td>\n",
              "      <td>5.81</td>\n",
              "      <td>232.644343</td>\n",
              "      <td>129.826904</td>\n",
              "      <td>0.004979</td>\n",
              "    </tr>\n",
              "    <tr>\n",
              "      <th>3</th>\n",
              "      <td>KNeighbors</td>\n",
              "      <td>{'n_neighbors': 7, 'p': 1, 'weights': 'uniform'}</td>\n",
              "      <td>GridSearchCV</td>\n",
              "      <td>0.83</td>\n",
              "      <td>224.690841</td>\n",
              "      <td>137.205076</td>\n",
              "      <td>0.071851</td>\n",
              "    </tr>\n",
              "    <tr>\n",
              "      <th>4</th>\n",
              "      <td>XGBoost</td>\n",
              "      <td>{'learning_rate': 0.01, 'max_depth': 3, 'n_est...</td>\n",
              "      <td>GridSearchCV</td>\n",
              "      <td>224.81</td>\n",
              "      <td>217.728497</td>\n",
              "      <td>143.404539</td>\n",
              "      <td>0.128479</td>\n",
              "    </tr>\n",
              "  </tbody>\n",
              "</table>\n",
              "</div>\n",
              "    <div class=\"colab-df-buttons\">\n",
              "\n",
              "  <div class=\"colab-df-container\">\n",
              "    <button class=\"colab-df-convert\" onclick=\"convertToInteractive('df-3e9d8d37-fe1b-49c5-b2ef-6107a75f9253')\"\n",
              "            title=\"Convert this dataframe to an interactive table.\"\n",
              "            style=\"display:none;\">\n",
              "\n",
              "  <svg xmlns=\"http://www.w3.org/2000/svg\" height=\"24px\" viewBox=\"0 -960 960 960\">\n",
              "    <path d=\"M120-120v-720h720v720H120Zm60-500h600v-160H180v160Zm220 220h160v-160H400v160Zm0 220h160v-160H400v160ZM180-400h160v-160H180v160Zm440 0h160v-160H620v160ZM180-180h160v-160H180v160Zm440 0h160v-160H620v160Z\"/>\n",
              "  </svg>\n",
              "    </button>\n",
              "\n",
              "  <style>\n",
              "    .colab-df-container {\n",
              "      display:flex;\n",
              "      gap: 12px;\n",
              "    }\n",
              "\n",
              "    .colab-df-convert {\n",
              "      background-color: #E8F0FE;\n",
              "      border: none;\n",
              "      border-radius: 50%;\n",
              "      cursor: pointer;\n",
              "      display: none;\n",
              "      fill: #1967D2;\n",
              "      height: 32px;\n",
              "      padding: 0 0 0 0;\n",
              "      width: 32px;\n",
              "    }\n",
              "\n",
              "    .colab-df-convert:hover {\n",
              "      background-color: #E2EBFA;\n",
              "      box-shadow: 0px 1px 2px rgba(60, 64, 67, 0.3), 0px 1px 3px 1px rgba(60, 64, 67, 0.15);\n",
              "      fill: #174EA6;\n",
              "    }\n",
              "\n",
              "    .colab-df-buttons div {\n",
              "      margin-bottom: 4px;\n",
              "    }\n",
              "\n",
              "    [theme=dark] .colab-df-convert {\n",
              "      background-color: #3B4455;\n",
              "      fill: #D2E3FC;\n",
              "    }\n",
              "\n",
              "    [theme=dark] .colab-df-convert:hover {\n",
              "      background-color: #434B5C;\n",
              "      box-shadow: 0px 1px 3px 1px rgba(0, 0, 0, 0.15);\n",
              "      filter: drop-shadow(0px 1px 2px rgba(0, 0, 0, 0.3));\n",
              "      fill: #FFFFFF;\n",
              "    }\n",
              "  </style>\n",
              "\n",
              "    <script>\n",
              "      const buttonEl =\n",
              "        document.querySelector('#df-3e9d8d37-fe1b-49c5-b2ef-6107a75f9253 button.colab-df-convert');\n",
              "      buttonEl.style.display =\n",
              "        google.colab.kernel.accessAllowed ? 'block' : 'none';\n",
              "\n",
              "      async function convertToInteractive(key) {\n",
              "        const element = document.querySelector('#df-3e9d8d37-fe1b-49c5-b2ef-6107a75f9253');\n",
              "        const dataTable =\n",
              "          await google.colab.kernel.invokeFunction('convertToInteractive',\n",
              "                                                    [key], {});\n",
              "        if (!dataTable) return;\n",
              "\n",
              "        const docLinkHtml = 'Like what you see? Visit the ' +\n",
              "          '<a target=\"_blank\" href=https://colab.research.google.com/notebooks/data_table.ipynb>data table notebook</a>'\n",
              "          + ' to learn more about interactive tables.';\n",
              "        element.innerHTML = '';\n",
              "        dataTable['output_type'] = 'display_data';\n",
              "        await google.colab.output.renderOutput(dataTable, element);\n",
              "        const docLink = document.createElement('div');\n",
              "        docLink.innerHTML = docLinkHtml;\n",
              "        element.appendChild(docLink);\n",
              "      }\n",
              "    </script>\n",
              "  </div>\n",
              "\n",
              "\n",
              "    <div id=\"df-3d11c5a4-bbe5-4428-95a4-f1f1f1b57bd7\">\n",
              "      <button class=\"colab-df-quickchart\" onclick=\"quickchart('df-3d11c5a4-bbe5-4428-95a4-f1f1f1b57bd7')\"\n",
              "                title=\"Suggest charts\"\n",
              "                style=\"display:none;\">\n",
              "\n",
              "<svg xmlns=\"http://www.w3.org/2000/svg\" height=\"24px\"viewBox=\"0 0 24 24\"\n",
              "     width=\"24px\">\n",
              "    <g>\n",
              "        <path d=\"M19 3H5c-1.1 0-2 .9-2 2v14c0 1.1.9 2 2 2h14c1.1 0 2-.9 2-2V5c0-1.1-.9-2-2-2zM9 17H7v-7h2v7zm4 0h-2V7h2v10zm4 0h-2v-4h2v4z\"/>\n",
              "    </g>\n",
              "</svg>\n",
              "      </button>\n",
              "\n",
              "<style>\n",
              "  .colab-df-quickchart {\n",
              "      --bg-color: #E8F0FE;\n",
              "      --fill-color: #1967D2;\n",
              "      --hover-bg-color: #E2EBFA;\n",
              "      --hover-fill-color: #174EA6;\n",
              "      --disabled-fill-color: #AAA;\n",
              "      --disabled-bg-color: #DDD;\n",
              "  }\n",
              "\n",
              "  [theme=dark] .colab-df-quickchart {\n",
              "      --bg-color: #3B4455;\n",
              "      --fill-color: #D2E3FC;\n",
              "      --hover-bg-color: #434B5C;\n",
              "      --hover-fill-color: #FFFFFF;\n",
              "      --disabled-bg-color: #3B4455;\n",
              "      --disabled-fill-color: #666;\n",
              "  }\n",
              "\n",
              "  .colab-df-quickchart {\n",
              "    background-color: var(--bg-color);\n",
              "    border: none;\n",
              "    border-radius: 50%;\n",
              "    cursor: pointer;\n",
              "    display: none;\n",
              "    fill: var(--fill-color);\n",
              "    height: 32px;\n",
              "    padding: 0;\n",
              "    width: 32px;\n",
              "  }\n",
              "\n",
              "  .colab-df-quickchart:hover {\n",
              "    background-color: var(--hover-bg-color);\n",
              "    box-shadow: 0 1px 2px rgba(60, 64, 67, 0.3), 0 1px 3px 1px rgba(60, 64, 67, 0.15);\n",
              "    fill: var(--button-hover-fill-color);\n",
              "  }\n",
              "\n",
              "  .colab-df-quickchart-complete:disabled,\n",
              "  .colab-df-quickchart-complete:disabled:hover {\n",
              "    background-color: var(--disabled-bg-color);\n",
              "    fill: var(--disabled-fill-color);\n",
              "    box-shadow: none;\n",
              "  }\n",
              "\n",
              "  .colab-df-spinner {\n",
              "    border: 2px solid var(--fill-color);\n",
              "    border-color: transparent;\n",
              "    border-bottom-color: var(--fill-color);\n",
              "    animation:\n",
              "      spin 1s steps(1) infinite;\n",
              "  }\n",
              "\n",
              "  @keyframes spin {\n",
              "    0% {\n",
              "      border-color: transparent;\n",
              "      border-bottom-color: var(--fill-color);\n",
              "      border-left-color: var(--fill-color);\n",
              "    }\n",
              "    20% {\n",
              "      border-color: transparent;\n",
              "      border-left-color: var(--fill-color);\n",
              "      border-top-color: var(--fill-color);\n",
              "    }\n",
              "    30% {\n",
              "      border-color: transparent;\n",
              "      border-left-color: var(--fill-color);\n",
              "      border-top-color: var(--fill-color);\n",
              "      border-right-color: var(--fill-color);\n",
              "    }\n",
              "    40% {\n",
              "      border-color: transparent;\n",
              "      border-right-color: var(--fill-color);\n",
              "      border-top-color: var(--fill-color);\n",
              "    }\n",
              "    60% {\n",
              "      border-color: transparent;\n",
              "      border-right-color: var(--fill-color);\n",
              "    }\n",
              "    80% {\n",
              "      border-color: transparent;\n",
              "      border-right-color: var(--fill-color);\n",
              "      border-bottom-color: var(--fill-color);\n",
              "    }\n",
              "    90% {\n",
              "      border-color: transparent;\n",
              "      border-bottom-color: var(--fill-color);\n",
              "    }\n",
              "  }\n",
              "</style>\n",
              "\n",
              "      <script>\n",
              "        async function quickchart(key) {\n",
              "          const quickchartButtonEl =\n",
              "            document.querySelector('#' + key + ' button');\n",
              "          quickchartButtonEl.disabled = true;  // To prevent multiple clicks.\n",
              "          quickchartButtonEl.classList.add('colab-df-spinner');\n",
              "          try {\n",
              "            const charts = await google.colab.kernel.invokeFunction(\n",
              "                'suggestCharts', [key], {});\n",
              "          } catch (error) {\n",
              "            console.error('Error during call to suggestCharts:', error);\n",
              "          }\n",
              "          quickchartButtonEl.classList.remove('colab-df-spinner');\n",
              "          quickchartButtonEl.classList.add('colab-df-quickchart-complete');\n",
              "        }\n",
              "        (() => {\n",
              "          let quickchartButtonEl =\n",
              "            document.querySelector('#df-3d11c5a4-bbe5-4428-95a4-f1f1f1b57bd7 button');\n",
              "          quickchartButtonEl.style.display =\n",
              "            google.colab.kernel.accessAllowed ? 'block' : 'none';\n",
              "        })();\n",
              "      </script>\n",
              "    </div>\n",
              "    </div>\n",
              "  </div>\n"
            ],
            "text/plain": [
              "              Model                                             Params  \\\n",
              "0      RandomForest  {'max_depth': 5, 'min_samples_split': 5, 'n_es...   \n",
              "1  GradientBoosting  {'learning_rate': 0.01, 'max_depth': 3, 'n_est...   \n",
              "2               SVR      {'C': 10, 'epsilon': 0.1, 'kernel': 'linear'}   \n",
              "3        KNeighbors   {'n_neighbors': 7, 'p': 1, 'weights': 'uniform'}   \n",
              "4           XGBoost  {'learning_rate': 0.01, 'max_depth': 3, 'n_est...   \n",
              "\n",
              "       Approach    Time        RMSE         MAE        R²  \n",
              "0  GridSearchCV  177.58  217.892849  144.080745  0.127163  \n",
              "1  GridSearchCV  201.64  219.292766  146.754596  0.115911  \n",
              "2  GridSearchCV    5.81  232.644343  129.826904  0.004979  \n",
              "3  GridSearchCV    0.83  224.690841  137.205076  0.071851  \n",
              "4  GridSearchCV  224.81  217.728497  143.404539  0.128479  "
            ]
          },
          "execution_count": 24,
          "metadata": {},
          "output_type": "execute_result"
        }
      ],
      "source": [
        "results_grid = []\n",
        "\n",
        "for model_name, config in model_params.items():\n",
        "    if not config['params']:  # Пропускаем LinearRegression\n",
        "        continue\n",
        "\n",
        "    model = config['model']\n",
        "    params = config['params']\n",
        "\n",
        "    gs = GridSearchCV(model, params, cv=3, scoring='neg_root_mean_squared_error', n_jobs=-1)\n",
        "\n",
        "    result, duration = run_and_time(gs.fit, X_train, y_train)\n",
        "\n",
        "    best_model = result.best_estimator_\n",
        "    y_pred = best_model.predict(X_test)\n",
        "\n",
        "    metrics = evaluate_model(y_test, y_pred)\n",
        "\n",
        "    results_grid.append({\n",
        "        'Model': model_name,\n",
        "        'Params': result.best_params_,\n",
        "        'Approach': 'GridSearchCV',\n",
        "        'Time': round(duration, 2),\n",
        "        **metrics\n",
        "    })\n",
        "\n",
        "# Вывод\n",
        "pd.DataFrame(results_grid)"
      ]
    },
    {
      "cell_type": "markdown",
      "metadata": {
        "id": "UDufmTTO5Fqy"
      },
      "source": [
        "Выводы:\n",
        "\n",
        "    Лучшие модели : RandomForest и XGBoost показали наиболее стабильные результаты.\n",
        "    Сравнение по времени :\n",
        "        KNeighbors и SVR работают очень быстро, но дают худшее качество.\n",
        "        RandomForest, XGBoost и GradientBoosting требуют больше времени, но обеспечивают лучший прогноз.\n",
        "         \n",
        "    Нужно сравнение с Optuna , чтобы понять:\n",
        "        позволяет ли он достичь тех же/лучших метрик за меньшее время?\n",
        "        какие параметры действительно важны?\n",
        "         \n",
        "     "
      ]
    },
    {
      "cell_type": "markdown",
      "metadata": {
        "id": "sPuIf30A5Zpa"
      },
      "source": [
        "### Этап III Обучение  моделей  при помоши  Optuna — байесовская оптимизация"
      ]
    },
    {
      "cell_type": "markdown",
      "metadata": {
        "id": "LsaBdkkV67zt"
      },
      "source": [
        "Optuna  — это фреймворк для автоматической оптимизации гиперпараметров, основанный на байесовских методах  и использующий стратегию TPE (Tree-structured Parzen Estimator) .\n",
        " Как работает Optuna:\n",
        "\n",
        "    В отличие от GridSearchCV, который перебирает все возможные комбинации параметров,\n",
        "    Optuna \"умно\" исследует пространство параметров , выбирая наиболее перспективные направления поиска.\n",
        "    На каждой итерации (trial) он учится на предыдущих результатах и исключает заведомо слабые комбинации.\n",
        "    Это позволяет достигать хороших результатов за меньшее время , особенно при большом числе настраиваемых параметров.\n",
        "     \n",
        "\n",
        " Преимущества Optuna:\n",
        "\n",
        "    Не требует полного перебора\n",
        "    Гибкая настройка диапазонов параметров\n",
        "    Поддерживает early-stopping (прерывание плохих trial-ов)\n",
        "    Работает с любыми моделями машинного обучения\n",
        "     "
      ]
    },
    {
      "cell_type": "markdown",
      "metadata": {
        "id": "6snz2QDI7mKS"
      },
      "source": [
        "PE (Tree-structured Parzen Estimator) — это алгоритм, который строит две вероятностные модели:\n",
        "\n",
        "    ℓ(x) — распределение гиперпараметров для успешных  запусков (с низкой ошибкой)\n",
        "    g(x) — распределение гиперпараметров для неуспешных  запусков\n",
        "     \n",
        "\n",
        "На каждой итерации Optuna выбирает такие гиперпараметры x, которые максимизируют отношение:\n",
        "$$\n",
        "\\text{score}(x) = \\frac{\\ell(x)}{g(x)}\n",
        "$$​\n",
        "\n",
        "То есть, он ищет такие параметры, которые чаще встречались у хороших моделей , и редко — у плохих.   Тким образом алгоритм использует  статичтику  предыдущих  попыток"
      ]
    },
    {
      "cell_type": "code",
      "execution_count": null,
      "metadata": {
        "colab": {
          "base_uri": "https://localhost:8080/",
          "height": 1000,
          "referenced_widgets": [
            "58289f00844b4cfabe89434e5290defe",
            "01ce0ee21f5249c2884cb5b0498e1af6",
            "637fd5eadb3e4702be159324f9f951a3",
            "3e127c78ce6c4c95b61b4d5d39d8f448",
            "bca408e926884954a53c5f5ad1fa3dee",
            "3d78137c9b2548298d952f96620015df",
            "1cc60f57c3ad4cba8c03a2109380c99f",
            "c9d896491d024538837f2140be568701",
            "f5018e6a59574ddab12282739ef761ad",
            "0eabf64dad9c460d96be26228e052e1a",
            "8241c0949e114e96be7b356eedc788e0",
            "8f0b7095d9aa47b48737e6932bdcb455",
            "67e342c19306498189a3074a91636c49",
            "242465cc346446fd980e1bba85afe68e",
            "4c7455555d834fc79d4d2642ec3283f0",
            "5d59443271c948b78c25cfc3fa7647ee",
            "dbafdbf42fc742beae3a462ba933b614",
            "ab6d9f5b9753402ca9716937cee29340",
            "aa4ceb6fb5034174be01e407b567478b",
            "7b8dee4eed0d4a7b81a65a4fc57bfc2e",
            "97c8b48f50d646e9b3c6c614f4d49870",
            "91810fc66f5945678bae582354c93d7a",
            "5ac7d34a19024c43877737f30e1867ba",
            "aa5d16e7be21492ebc5277b6a475b84c",
            "45a8778b30834a62b3303f9a2496d0ba",
            "2e67c3907f424da09b91bcb0ff06f0d8",
            "6a4c75d6b03c47a3aad4ac6316db0198",
            "ee4e44cb9def436491a7c6b24658a25e",
            "3d166821271d46a789fa6fa18a9bf810",
            "19382a7bc62447afb12173cfe6fbf8d8",
            "3f080f9a7ad446cf9d66d34c09c78c36",
            "bc9043fac28340628b8140f2dcc3de2c",
            "d8c9351c621b49149c140f6e35783c96",
            "34cceb1926914ab4ac1b22a72460d55c",
            "2f902c36a71741ad9581e21c51c166e3",
            "cc172ce608874c6d9cd8327848eafc0e",
            "79c9d7dafb6d4f2fbcce50786951234b",
            "90ff5dba274e4e4a864d9e141f15e79e",
            "6ff609501adc47fa9258e9dbc82a78e2",
            "cf4aa778c9a94de1ab1fb0aa1655262a",
            "d373f5dd3e574323932094b142e172b0",
            "f0f66fa9a0a84e3c97592a2cf63ba94d",
            "10991dd21d8448ba9daddab886b7c5f2",
            "332a1e104e264510b70dc3716f0b8c8b",
            "8745f456c49644eaaaa2877870aa5169",
            "ff6ef5bd51754ca0a17acce4343e3eec",
            "2001ea26a2354a5198e0f7927d3d657f",
            "22febbd294e94a51a781b238a56c2c7a",
            "3507a57279be4a48a0cec95b2764c100",
            "3316d46bd1b249bf93f6be12b2cd16fb",
            "db1f18d6f5f142d3af489bdd1383a160",
            "d9c256530be14ef9bf05dbae135c9b3a",
            "5fb59915407846fba2fbb479330d7788",
            "2388253449bd41d9bc230139229d5846",
            "518f854aba01474c9489d27455ba8f1d"
          ]
        },
        "id": "5uj7e1Xk6c9a",
        "outputId": "144bdc9d-c866-43c7-8a7f-7bde4a19bcf0"
      },
      "outputs": [
        {
          "name": "stderr",
          "output_type": "stream",
          "text": [
            "[I 2025-05-13 09:42:27,127] A new study created in memory with name: no-name-9cdef8d2-6a6d-4af2-817a-8bb158dd68e2\n"
          ]
        },
        {
          "name": "stdout",
          "output_type": "stream",
          "text": [
            "Запуск Optuna для RandomForest...\n"
          ]
        },
        {
          "data": {
            "application/vnd.jupyter.widget-view+json": {
              "model_id": "58289f00844b4cfabe89434e5290defe",
              "version_major": 2,
              "version_minor": 0
            },
            "text/plain": [
              "  0%|          | 0/30 [00:00<?, ?it/s]"
            ]
          },
          "metadata": {},
          "output_type": "display_data"
        },
        {
          "name": "stdout",
          "output_type": "stream",
          "text": [
            "[I 2025-05-13 09:42:29,431] Trial 0 finished with value: 218.07169173000446 and parameters: {'n_estimators': 50, 'max_depth': 10, 'min_samples_split': 2}. Best is trial 0 with value: 218.07169173000446.\n",
            "[I 2025-05-13 09:42:32,373] Trial 1 finished with value: 218.1196409141292 and parameters: {'n_estimators': 100, 'max_depth': 5, 'min_samples_split': 2}. Best is trial 0 with value: 218.07169173000446.\n",
            "[I 2025-05-13 09:42:48,882] Trial 2 finished with value: 217.07329243506126 and parameters: {'n_estimators': 200, 'max_depth': None, 'min_samples_split': 2}. Best is trial 2 with value: 217.07329243506126.\n",
            "[I 2025-05-13 09:42:53,861] Trial 3 finished with value: 216.9296432987146 and parameters: {'n_estimators': 200, 'max_depth': 5, 'min_samples_split': 5}. Best is trial 3 with value: 216.9296432987146.\n",
            "[I 2025-05-13 09:43:08,264] Trial 4 finished with value: 217.90043688446656 and parameters: {'n_estimators': 200, 'max_depth': None, 'min_samples_split': 5}. Best is trial 3 with value: 216.9296432987146.\n",
            "[I 2025-05-13 09:43:09,556] Trial 5 finished with value: 219.2241307227568 and parameters: {'n_estimators': 50, 'max_depth': 5, 'min_samples_split': 2}. Best is trial 3 with value: 216.9296432987146.\n",
            "[I 2025-05-13 09:43:11,756] Trial 6 finished with value: 217.79376836917677 and parameters: {'n_estimators': 50, 'max_depth': 10, 'min_samples_split': 5}. Best is trial 3 with value: 216.9296432987146.\n",
            "[I 2025-05-13 09:43:26,180] Trial 7 finished with value: 217.90043688446656 and parameters: {'n_estimators': 200, 'max_depth': None, 'min_samples_split': 5}. Best is trial 3 with value: 216.9296432987146.\n",
            "[I 2025-05-13 09:43:36,032] Trial 8 finished with value: 216.46216330280714 and parameters: {'n_estimators': 200, 'max_depth': 10, 'min_samples_split': 5}. Best is trial 8 with value: 216.46216330280714.\n",
            "[I 2025-05-13 09:43:37,283] Trial 9 finished with value: 219.2241307227568 and parameters: {'n_estimators': 50, 'max_depth': 5, 'min_samples_split': 2}. Best is trial 8 with value: 216.46216330280714.\n",
            "[I 2025-05-13 09:43:42,043] Trial 10 finished with value: 217.2536147092156 and parameters: {'n_estimators': 100, 'max_depth': 10, 'min_samples_split': 5}. Best is trial 8 with value: 216.46216330280714.\n",
            "[I 2025-05-13 09:43:48,907] Trial 11 finished with value: 216.9296432987146 and parameters: {'n_estimators': 200, 'max_depth': 5, 'min_samples_split': 5}. Best is trial 8 with value: 216.46216330280714.\n",
            "[I 2025-05-13 09:43:58,316] Trial 12 finished with value: 216.46216330280714 and parameters: {'n_estimators': 200, 'max_depth': 10, 'min_samples_split': 5}. Best is trial 8 with value: 216.46216330280714.\n",
            "[I 2025-05-13 09:44:07,647] Trial 13 finished with value: 216.46216330280714 and parameters: {'n_estimators': 200, 'max_depth': 10, 'min_samples_split': 5}. Best is trial 8 with value: 216.46216330280714.\n",
            "[I 2025-05-13 09:44:17,495] Trial 14 finished with value: 216.46216330280714 and parameters: {'n_estimators': 200, 'max_depth': 10, 'min_samples_split': 5}. Best is trial 8 with value: 216.46216330280714.\n",
            "[I 2025-05-13 09:44:27,139] Trial 15 finished with value: 216.46216330280714 and parameters: {'n_estimators': 200, 'max_depth': 10, 'min_samples_split': 5}. Best is trial 8 with value: 216.46216330280714.\n",
            "[I 2025-05-13 09:44:31,816] Trial 16 finished with value: 217.2536147092156 and parameters: {'n_estimators': 100, 'max_depth': 10, 'min_samples_split': 5}. Best is trial 8 with value: 216.46216330280714.\n",
            "[I 2025-05-13 09:44:41,588] Trial 17 finished with value: 216.46216330280714 and parameters: {'n_estimators': 200, 'max_depth': 10, 'min_samples_split': 5}. Best is trial 8 with value: 216.46216330280714.\n",
            "[I 2025-05-13 09:44:50,605] Trial 18 finished with value: 216.46216330280714 and parameters: {'n_estimators': 200, 'max_depth': 10, 'min_samples_split': 5}. Best is trial 8 with value: 216.46216330280714.\n",
            "[I 2025-05-13 09:44:56,075] Trial 19 finished with value: 217.2536147092156 and parameters: {'n_estimators': 100, 'max_depth': 10, 'min_samples_split': 5}. Best is trial 8 with value: 216.46216330280714.\n",
            "[I 2025-05-13 09:45:10,526] Trial 20 finished with value: 217.90043688446656 and parameters: {'n_estimators': 200, 'max_depth': None, 'min_samples_split': 5}. Best is trial 8 with value: 216.46216330280714.\n",
            "[I 2025-05-13 09:45:19,335] Trial 21 finished with value: 216.46216330280714 and parameters: {'n_estimators': 200, 'max_depth': 10, 'min_samples_split': 5}. Best is trial 8 with value: 216.46216330280714.\n",
            "[I 2025-05-13 09:45:29,187] Trial 22 finished with value: 216.46216330280714 and parameters: {'n_estimators': 200, 'max_depth': 10, 'min_samples_split': 5}. Best is trial 8 with value: 216.46216330280714.\n",
            "[I 2025-05-13 09:45:39,112] Trial 23 finished with value: 216.46216330280714 and parameters: {'n_estimators': 200, 'max_depth': 10, 'min_samples_split': 5}. Best is trial 8 with value: 216.46216330280714.\n",
            "[I 2025-05-13 09:45:47,904] Trial 24 finished with value: 216.46216330280714 and parameters: {'n_estimators': 200, 'max_depth': 10, 'min_samples_split': 5}. Best is trial 8 with value: 216.46216330280714.\n",
            "[I 2025-05-13 09:45:57,777] Trial 25 finished with value: 216.46216330280714 and parameters: {'n_estimators': 200, 'max_depth': 10, 'min_samples_split': 5}. Best is trial 8 with value: 216.46216330280714.\n",
            "[I 2025-05-13 09:46:08,021] Trial 26 finished with value: 215.8627919346514 and parameters: {'n_estimators': 200, 'max_depth': 10, 'min_samples_split': 2}. Best is trial 26 with value: 215.8627919346514.\n",
            "[I 2025-05-13 09:46:17,534] Trial 27 finished with value: 215.8627919346514 and parameters: {'n_estimators': 200, 'max_depth': 10, 'min_samples_split': 2}. Best is trial 26 with value: 215.8627919346514.\n",
            "[I 2025-05-13 09:46:20,538] Trial 28 finished with value: 218.07169173000446 and parameters: {'n_estimators': 50, 'max_depth': 10, 'min_samples_split': 2}. Best is trial 26 with value: 215.8627919346514.\n",
            "[I 2025-05-13 09:46:27,856] Trial 29 finished with value: 218.1066758571984 and parameters: {'n_estimators': 100, 'max_depth': None, 'min_samples_split': 2}. Best is trial 26 with value: 215.8627919346514.\n"
          ]
        },
        {
          "name": "stderr",
          "output_type": "stream",
          "text": [
            "[I 2025-05-13 09:46:38,085] A new study created in memory with name: no-name-a04964ca-9687-438e-9608-5774eefa780e\n"
          ]
        },
        {
          "name": "stdout",
          "output_type": "stream",
          "text": [
            "Запуск Optuna для GradientBoosting...\n"
          ]
        },
        {
          "data": {
            "application/vnd.jupyter.widget-view+json": {
              "model_id": "8f0b7095d9aa47b48737e6932bdcb455",
              "version_major": 2,
              "version_minor": 0
            },
            "text/plain": [
              "  0%|          | 0/30 [00:00<?, ?it/s]"
            ]
          },
          "metadata": {},
          "output_type": "display_data"
        },
        {
          "name": "stdout",
          "output_type": "stream",
          "text": [
            "[I 2025-05-13 09:46:39,273] Trial 0 finished with value: 220.10248071990696 and parameters: {'learning_rate': 0.048595091758306945, 'n_estimators': 50, 'max_depth': 3}. Best is trial 0 with value: 220.10248071990696.\n",
            "[I 2025-05-13 09:46:40,435] Trial 1 finished with value: 217.46332605832458 and parameters: {'learning_rate': 0.10736500903869574, 'n_estimators': 50, 'max_depth': 3}. Best is trial 1 with value: 217.46332605832458.\n",
            "[I 2025-05-13 09:46:46,036] Trial 2 finished with value: 236.65101055535507 and parameters: {'learning_rate': 0.0677957224100187, 'n_estimators': 100, 'max_depth': 7}. Best is trial 1 with value: 217.46332605832458.\n",
            "[I 2025-05-13 09:46:47,603] Trial 3 finished with value: 230.7573015128935 and parameters: {'learning_rate': 0.196876944354923, 'n_estimators': 50, 'max_depth': 3}. Best is trial 1 with value: 217.46332605832458.\n",
            "[I 2025-05-13 09:46:58,349] Trial 4 finished with value: 236.04058412970528 and parameters: {'learning_rate': 0.07310073111824159, 'n_estimators': 200, 'max_depth': 7}. Best is trial 1 with value: 217.46332605832458.\n",
            "[I 2025-05-13 09:47:01,529] Trial 5 finished with value: 235.2796403243984 and parameters: {'learning_rate': 0.19536208043184886, 'n_estimators': 100, 'max_depth': 3}. Best is trial 1 with value: 217.46332605832458.\n",
            "[I 2025-05-13 09:47:05,533] Trial 6 finished with value: 237.7193934397969 and parameters: {'learning_rate': 0.18516201454462883, 'n_estimators': 100, 'max_depth': 5}. Best is trial 1 with value: 217.46332605832458.\n",
            "[I 2025-05-13 09:47:07,875] Trial 7 finished with value: 220.68989303102006 and parameters: {'learning_rate': 0.1762543721395635, 'n_estimators': 100, 'max_depth': 3}. Best is trial 1 with value: 217.46332605832458.\n",
            "[I 2025-05-13 09:47:10,175] Trial 8 finished with value: 221.51341396063765 and parameters: {'learning_rate': 0.011586539260419793, 'n_estimators': 100, 'max_depth': 3}. Best is trial 1 with value: 217.46332605832458.\n",
            "[I 2025-05-13 09:47:15,722] Trial 9 finished with value: 221.95459661237194 and parameters: {'learning_rate': 0.07240436304174741, 'n_estimators': 200, 'max_depth': 3}. Best is trial 1 with value: 217.46332605832458.\n",
            "[I 2025-05-13 09:47:17,692] Trial 10 finished with value: 227.48422124088347 and parameters: {'learning_rate': 0.1369074867757909, 'n_estimators': 50, 'max_depth': 5}. Best is trial 1 with value: 217.46332605832458.\n",
            "[I 2025-05-13 09:47:18,856] Trial 11 finished with value: 220.64074856739617 and parameters: {'learning_rate': 0.11367447895077765, 'n_estimators': 50, 'max_depth': 3}. Best is trial 1 with value: 217.46332605832458.\n",
            "[I 2025-05-13 09:47:20,016] Trial 12 finished with value: 222.20247774715247 and parameters: {'learning_rate': 0.022711067202424003, 'n_estimators': 50, 'max_depth': 3}. Best is trial 1 with value: 217.46332605832458.\n",
            "[I 2025-05-13 09:47:21,181] Trial 13 finished with value: 219.75866580621528 and parameters: {'learning_rate': 0.04453289801981965, 'n_estimators': 50, 'max_depth': 3}. Best is trial 1 with value: 217.46332605832458.\n",
            "[I 2025-05-13 09:47:23,712] Trial 14 finished with value: 233.22554806457538 and parameters: {'learning_rate': 0.10787294836084219, 'n_estimators': 50, 'max_depth': 7}. Best is trial 1 with value: 217.46332605832458.\n",
            "[I 2025-05-13 09:47:25,597] Trial 15 finished with value: 233.73331823120736 and parameters: {'learning_rate': 0.15273724696500954, 'n_estimators': 50, 'max_depth': 5}. Best is trial 1 with value: 217.46332605832458.\n",
            "[I 2025-05-13 09:47:26,992] Trial 16 finished with value: 220.71926590214665 and parameters: {'learning_rate': 0.04267705942663489, 'n_estimators': 50, 'max_depth': 3}. Best is trial 1 with value: 217.46332605832458.\n",
            "[I 2025-05-13 09:47:32,420] Trial 17 finished with value: 226.28190770707252 and parameters: {'learning_rate': 0.09621235053972178, 'n_estimators': 200, 'max_depth': 3}. Best is trial 1 with value: 217.46332605832458.\n",
            "[I 2025-05-13 09:47:34,289] Trial 18 finished with value: 237.50261531962698 and parameters: {'learning_rate': 0.13038195530942245, 'n_estimators': 50, 'max_depth': 5}. Best is trial 1 with value: 217.46332605832458.\n",
            "[I 2025-05-13 09:47:36,843] Trial 19 finished with value: 228.87586449164874 and parameters: {'learning_rate': 0.09477442861114822, 'n_estimators': 50, 'max_depth': 7}. Best is trial 1 with value: 217.46332605832458.\n",
            "[I 2025-05-13 09:47:41,920] Trial 20 finished with value: 220.53067839275167 and parameters: {'learning_rate': 0.04707692980117427, 'n_estimators': 200, 'max_depth': 3}. Best is trial 1 with value: 217.46332605832458.\n",
            "[I 2025-05-13 09:47:43,493] Trial 21 finished with value: 220.02314518417077 and parameters: {'learning_rate': 0.043727591333494645, 'n_estimators': 50, 'max_depth': 3}. Best is trial 1 with value: 217.46332605832458.\n",
            "[I 2025-05-13 09:47:44,798] Trial 22 finished with value: 221.5683150591873 and parameters: {'learning_rate': 0.0382634841556531, 'n_estimators': 50, 'max_depth': 3}. Best is trial 1 with value: 217.46332605832458.\n",
            "[I 2025-05-13 09:47:45,963] Trial 23 finished with value: 220.15577106335465 and parameters: {'learning_rate': 0.08387036916935357, 'n_estimators': 50, 'max_depth': 3}. Best is trial 1 with value: 217.46332605832458.\n",
            "[I 2025-05-13 09:47:47,134] Trial 24 finished with value: 221.65095807399928 and parameters: {'learning_rate': 0.0241342366617755, 'n_estimators': 50, 'max_depth': 3}. Best is trial 1 with value: 217.46332605832458.\n",
            "[I 2025-05-13 09:47:48,293] Trial 25 finished with value: 218.64895664251233 and parameters: {'learning_rate': 0.056679043517661225, 'n_estimators': 50, 'max_depth': 3}. Best is trial 1 with value: 217.46332605832458.\n",
            "[I 2025-05-13 09:47:49,456] Trial 26 finished with value: 221.5848640052458 and parameters: {'learning_rate': 0.06094767813538923, 'n_estimators': 50, 'max_depth': 3}. Best is trial 1 with value: 217.46332605832458.\n",
            "[I 2025-05-13 09:47:50,636] Trial 27 finished with value: 220.01988643592787 and parameters: {'learning_rate': 0.11998451297431706, 'n_estimators': 50, 'max_depth': 3}. Best is trial 1 with value: 217.46332605832458.\n",
            "[I 2025-05-13 09:47:59,088] Trial 28 finished with value: 229.92206390741885 and parameters: {'learning_rate': 0.05892620605723795, 'n_estimators': 200, 'max_depth': 5}. Best is trial 1 with value: 217.46332605832458.\n",
            "[I 2025-05-13 09:48:01,640] Trial 29 finished with value: 235.0873141748124 and parameters: {'learning_rate': 0.08063344720963211, 'n_estimators': 50, 'max_depth': 7}. Best is trial 1 with value: 217.46332605832458.\n"
          ]
        },
        {
          "name": "stderr",
          "output_type": "stream",
          "text": [
            "[I 2025-05-13 09:48:02,815] A new study created in memory with name: no-name-91958162-b53a-4f6a-9b4a-de942cb114c0\n"
          ]
        },
        {
          "name": "stdout",
          "output_type": "stream",
          "text": [
            "Запуск Optuna для SVR...\n"
          ]
        },
        {
          "data": {
            "application/vnd.jupyter.widget-view+json": {
              "model_id": "5ac7d34a19024c43877737f30e1867ba",
              "version_major": 2,
              "version_minor": 0
            },
            "text/plain": [
              "  0%|          | 0/30 [00:00<?, ?it/s]"
            ]
          },
          "metadata": {},
          "output_type": "display_data"
        },
        {
          "name": "stdout",
          "output_type": "stream",
          "text": [
            "[I 2025-05-13 09:48:02,946] Trial 0 finished with value: 241.1448677186458 and parameters: {'C': 1, 'epsilon': 0.11153912217798384, 'kernel': 'linear'}. Best is trial 0 with value: 241.1448677186458.\n",
            "[I 2025-05-13 09:48:03,071] Trial 1 finished with value: 256.15253903271855 and parameters: {'C': 1, 'epsilon': 0.19676038012520528, 'kernel': 'rbf'}. Best is trial 0 with value: 241.1448677186458.\n",
            "[I 2025-05-13 09:48:03,195] Trial 2 finished with value: 249.06691205784844 and parameters: {'C': 10, 'epsilon': 0.1700862189895488, 'kernel': 'rbf'}. Best is trial 0 with value: 241.1448677186458.\n",
            "[I 2025-05-13 09:48:03,308] Trial 3 finished with value: 241.13786605764747 and parameters: {'C': 1, 'epsilon': 0.13585013500790014, 'kernel': 'linear'}. Best is trial 3 with value: 241.13786605764747.\n",
            "[I 2025-05-13 09:48:03,755] Trial 4 finished with value: 232.6510807151565 and parameters: {'C': 10, 'epsilon': 0.16094514257681192, 'kernel': 'linear'}. Best is trial 4 with value: 232.6510807151565.\n",
            "[I 2025-05-13 09:48:03,881] Trial 5 finished with value: 241.14642504526202 and parameters: {'C': 1, 'epsilon': 0.10558523751273674, 'kernel': 'linear'}. Best is trial 4 with value: 232.6510807151565.\n",
            "[I 2025-05-13 09:48:04,002] Trial 6 finished with value: 256.1479222155567 and parameters: {'C': 1, 'epsilon': 0.16352519708541094, 'kernel': 'rbf'}. Best is trial 4 with value: 232.6510807151565.\n",
            "[I 2025-05-13 09:48:04,124] Trial 7 finished with value: 256.1430876367269 and parameters: {'C': 1, 'epsilon': 0.11925125734056004, 'kernel': 'rbf'}. Best is trial 4 with value: 232.6510807151565.\n",
            "[I 2025-05-13 09:48:04,246] Trial 8 finished with value: 256.523877249515 and parameters: {'C': 0.1, 'epsilon': 0.1297474478764571, 'kernel': 'rbf'}. Best is trial 4 with value: 232.6510807151565.\n",
            "[I 2025-05-13 09:48:04,834] Trial 9 finished with value: 232.64701030143993 and parameters: {'C': 10, 'epsilon': 0.1347244655215436, 'kernel': 'linear'}. Best is trial 9 with value: 232.64701030143993.\n",
            "[I 2025-05-13 09:48:05,391] Trial 10 finished with value: 232.6479529878591 and parameters: {'C': 10, 'epsilon': 0.1420478226482802, 'kernel': 'linear'}. Best is trial 9 with value: 232.64701030143993.\n",
            "[I 2025-05-13 09:48:05,830] Trial 11 finished with value: 232.64850619359444 and parameters: {'C': 10, 'epsilon': 0.14533557756631038, 'kernel': 'linear'}. Best is trial 9 with value: 232.64701030143993.\n",
            "[I 2025-05-13 09:48:06,323] Trial 12 finished with value: 232.64887086847668 and parameters: {'C': 10, 'epsilon': 0.1474944620229091, 'kernel': 'linear'}. Best is trial 9 with value: 232.64701030143993.\n",
            "[I 2025-05-13 09:48:06,820] Trial 13 finished with value: 232.64649113389635 and parameters: {'C': 10, 'epsilon': 0.12776822880419578, 'kernel': 'linear'}. Best is trial 13 with value: 232.64649113389635.\n",
            "[I 2025-05-13 09:48:06,920] Trial 14 finished with value: 245.26984210513666 and parameters: {'C': 0.1, 'epsilon': 0.12478004450569743, 'kernel': 'linear'}. Best is trial 13 with value: 232.64649113389635.\n",
            "[I 2025-05-13 09:48:07,550] Trial 15 finished with value: 232.65199269191478 and parameters: {'C': 10, 'epsilon': 0.1786865023215679, 'kernel': 'linear'}. Best is trial 13 with value: 232.64649113389635.\n",
            "[I 2025-05-13 09:48:08,261] Trial 16 finished with value: 232.64573760499226 and parameters: {'C': 10, 'epsilon': 0.11748411647536537, 'kernel': 'linear'}. Best is trial 16 with value: 232.64573760499226.\n",
            "[I 2025-05-13 09:48:09,301] Trial 17 finished with value: 232.64464267448778 and parameters: {'C': 10, 'epsilon': 0.10215542495822831, 'kernel': 'linear'}. Best is trial 17 with value: 232.64464267448778.\n",
            "[I 2025-05-13 09:48:09,469] Trial 18 finished with value: 245.26855721155266 and parameters: {'C': 0.1, 'epsilon': 0.10186718572801583, 'kernel': 'linear'}. Best is trial 17 with value: 232.64464267448778.\n",
            "[I 2025-05-13 09:48:10,406] Trial 19 finished with value: 232.64567194266706 and parameters: {'C': 10, 'epsilon': 0.11675708006319079, 'kernel': 'linear'}. Best is trial 17 with value: 232.64464267448778.\n",
            "[I 2025-05-13 09:48:11,228] Trial 20 finished with value: 232.64450293020656 and parameters: {'C': 10, 'epsilon': 0.10033218705315815, 'kernel': 'linear'}. Best is trial 20 with value: 232.64450293020656.\n",
            "[I 2025-05-13 09:48:12,194] Trial 21 finished with value: 232.6443520070243 and parameters: {'C': 10, 'epsilon': 0.10001788537603798, 'kernel': 'linear'}. Best is trial 21 with value: 232.6443520070243.\n",
            "[I 2025-05-13 09:48:12,664] Trial 22 finished with value: 232.64484514062926 and parameters: {'C': 10, 'epsilon': 0.10441115908525186, 'kernel': 'linear'}. Best is trial 21 with value: 232.6443520070243.\n",
            "[I 2025-05-13 09:48:13,244] Trial 23 finished with value: 232.64448432736395 and parameters: {'C': 10, 'epsilon': 0.10021635810440484, 'kernel': 'linear'}. Best is trial 21 with value: 232.6443520070243.\n",
            "[I 2025-05-13 09:48:13,668] Trial 24 finished with value: 232.64532259768623 and parameters: {'C': 10, 'epsilon': 0.11190978254139612, 'kernel': 'linear'}. Best is trial 21 with value: 232.6443520070243.\n",
            "[I 2025-05-13 09:48:13,769] Trial 25 finished with value: 245.26889714961217 and parameters: {'C': 0.1, 'epsilon': 0.10764152855442476, 'kernel': 'linear'}. Best is trial 21 with value: 232.6443520070243.\n",
            "[I 2025-05-13 09:48:13,898] Trial 26 finished with value: 249.0696195565874 and parameters: {'C': 10, 'epsilon': 0.10097065385760381, 'kernel': 'rbf'}. Best is trial 21 with value: 232.6443520070243.\n",
            "[I 2025-05-13 09:48:14,355] Trial 27 finished with value: 232.64615605401062 and parameters: {'C': 10, 'epsilon': 0.12194314781801602, 'kernel': 'linear'}. Best is trial 21 with value: 232.6443520070243.\n",
            "[I 2025-05-13 09:48:14,785] Trial 28 finished with value: 232.64534063578043 and parameters: {'C': 10, 'epsilon': 0.1105680996985845, 'kernel': 'linear'}. Best is trial 21 with value: 232.6443520070243.\n",
            "[I 2025-05-13 09:48:14,888] Trial 29 finished with value: 245.2692903355908 and parameters: {'C': 0.1, 'epsilon': 0.11478357703410391, 'kernel': 'linear'}. Best is trial 21 with value: 232.6443520070243.\n"
          ]
        },
        {
          "name": "stderr",
          "output_type": "stream",
          "text": [
            "[I 2025-05-13 09:48:15,515] A new study created in memory with name: no-name-fd52f417-61b0-45aa-9d61-593a079b1aae\n"
          ]
        },
        {
          "name": "stdout",
          "output_type": "stream",
          "text": [
            "Запуск Optuna для KNeighbors...\n"
          ]
        },
        {
          "data": {
            "application/vnd.jupyter.widget-view+json": {
              "model_id": "34cceb1926914ab4ac1b22a72460d55c",
              "version_major": 2,
              "version_minor": 0
            },
            "text/plain": [
              "  0%|          | 0/30 [00:00<?, ?it/s]"
            ]
          },
          "metadata": {},
          "output_type": "display_data"
        },
        {
          "name": "stdout",
          "output_type": "stream",
          "text": [
            "[I 2025-05-13 09:48:15,551] Trial 0 finished with value: 230.62430640398094 and parameters: {'n_neighbors': 5, 'weights': 'uniform', 'p': 2}. Best is trial 0 with value: 230.62430640398094.\n",
            "[I 2025-05-13 09:48:15,566] Trial 1 finished with value: 226.64824722310732 and parameters: {'n_neighbors': 7, 'weights': 'uniform', 'p': 2}. Best is trial 1 with value: 226.64824722310732.\n",
            "[I 2025-05-13 09:48:15,583] Trial 2 finished with value: 226.64824722310732 and parameters: {'n_neighbors': 7, 'weights': 'uniform', 'p': 2}. Best is trial 1 with value: 226.64824722310732.\n",
            "[I 2025-05-13 09:48:15,602] Trial 3 finished with value: 231.30415442783 and parameters: {'n_neighbors': 5, 'weights': 'distance', 'p': 2}. Best is trial 1 with value: 226.64824722310732.\n",
            "[I 2025-05-13 09:48:15,658] Trial 4 finished with value: 232.95266862135844 and parameters: {'n_neighbors': 3, 'weights': 'distance', 'p': 1}. Best is trial 1 with value: 226.64824722310732.\n",
            "[I 2025-05-13 09:48:15,679] Trial 5 finished with value: 230.62430640398094 and parameters: {'n_neighbors': 5, 'weights': 'uniform', 'p': 2}. Best is trial 1 with value: 226.64824722310732.\n",
            "[I 2025-05-13 09:48:15,691] Trial 6 finished with value: 246.00891882418117 and parameters: {'n_neighbors': 3, 'weights': 'uniform', 'p': 2}. Best is trial 1 with value: 226.64824722310732.\n",
            "[I 2025-05-13 09:48:15,708] Trial 7 finished with value: 243.08965651499324 and parameters: {'n_neighbors': 3, 'weights': 'distance', 'p': 2}. Best is trial 1 with value: 226.64824722310732.\n",
            "[I 2025-05-13 09:48:15,765] Trial 8 finished with value: 226.4650594416342 and parameters: {'n_neighbors': 5, 'weights': 'distance', 'p': 1}. Best is trial 8 with value: 226.4650594416342.\n",
            "[I 2025-05-13 09:48:15,831] Trial 9 finished with value: 232.95266862135844 and parameters: {'n_neighbors': 3, 'weights': 'distance', 'p': 1}. Best is trial 8 with value: 226.4650594416342.\n",
            "[I 2025-05-13 09:48:15,883] Trial 10 finished with value: 226.4650594416342 and parameters: {'n_neighbors': 5, 'weights': 'distance', 'p': 1}. Best is trial 8 with value: 226.4650594416342.\n",
            "[I 2025-05-13 09:48:15,940] Trial 11 finished with value: 226.4650594416342 and parameters: {'n_neighbors': 5, 'weights': 'distance', 'p': 1}. Best is trial 8 with value: 226.4650594416342.\n",
            "[I 2025-05-13 09:48:15,998] Trial 12 finished with value: 226.4650594416342 and parameters: {'n_neighbors': 5, 'weights': 'distance', 'p': 1}. Best is trial 8 with value: 226.4650594416342.\n",
            "[I 2025-05-13 09:48:16,062] Trial 13 finished with value: 226.4650594416342 and parameters: {'n_neighbors': 5, 'weights': 'distance', 'p': 1}. Best is trial 8 with value: 226.4650594416342.\n",
            "[I 2025-05-13 09:48:16,114] Trial 14 finished with value: 226.4650594416342 and parameters: {'n_neighbors': 5, 'weights': 'distance', 'p': 1}. Best is trial 8 with value: 226.4650594416342.\n",
            "[I 2025-05-13 09:48:16,173] Trial 15 finished with value: 226.4650594416342 and parameters: {'n_neighbors': 5, 'weights': 'distance', 'p': 1}. Best is trial 8 with value: 226.4650594416342.\n",
            "[I 2025-05-13 09:48:16,236] Trial 16 finished with value: 227.8090778594493 and parameters: {'n_neighbors': 7, 'weights': 'distance', 'p': 1}. Best is trial 8 with value: 226.4650594416342.\n",
            "[I 2025-05-13 09:48:16,289] Trial 17 finished with value: 226.4650594416342 and parameters: {'n_neighbors': 5, 'weights': 'distance', 'p': 1}. Best is trial 8 with value: 226.4650594416342.\n",
            "[I 2025-05-13 09:48:16,345] Trial 18 finished with value: 226.4650594416342 and parameters: {'n_neighbors': 5, 'weights': 'distance', 'p': 1}. Best is trial 8 with value: 226.4650594416342.\n",
            "[I 2025-05-13 09:48:16,416] Trial 19 finished with value: 227.8090778594493 and parameters: {'n_neighbors': 7, 'weights': 'distance', 'p': 1}. Best is trial 8 with value: 226.4650594416342.\n",
            "[I 2025-05-13 09:48:16,469] Trial 20 finished with value: 226.4650594416342 and parameters: {'n_neighbors': 5, 'weights': 'distance', 'p': 1}. Best is trial 8 with value: 226.4650594416342.\n",
            "[I 2025-05-13 09:48:16,526] Trial 21 finished with value: 226.4650594416342 and parameters: {'n_neighbors': 5, 'weights': 'distance', 'p': 1}. Best is trial 8 with value: 226.4650594416342.\n",
            "[I 2025-05-13 09:48:16,586] Trial 22 finished with value: 226.4650594416342 and parameters: {'n_neighbors': 5, 'weights': 'distance', 'p': 1}. Best is trial 8 with value: 226.4650594416342.\n",
            "[I 2025-05-13 09:48:16,638] Trial 23 finished with value: 226.4650594416342 and parameters: {'n_neighbors': 5, 'weights': 'distance', 'p': 1}. Best is trial 8 with value: 226.4650594416342.\n",
            "[I 2025-05-13 09:48:16,702] Trial 24 finished with value: 226.4650594416342 and parameters: {'n_neighbors': 5, 'weights': 'distance', 'p': 1}. Best is trial 8 with value: 226.4650594416342.\n",
            "[I 2025-05-13 09:48:16,754] Trial 25 finished with value: 226.4650594416342 and parameters: {'n_neighbors': 5, 'weights': 'distance', 'p': 1}. Best is trial 8 with value: 226.4650594416342.\n",
            "[I 2025-05-13 09:48:16,817] Trial 26 finished with value: 221.9843728275776 and parameters: {'n_neighbors': 5, 'weights': 'uniform', 'p': 1}. Best is trial 26 with value: 221.9843728275776.\n",
            "[I 2025-05-13 09:48:16,871] Trial 27 finished with value: 221.9843728275776 and parameters: {'n_neighbors': 5, 'weights': 'uniform', 'p': 1}. Best is trial 26 with value: 221.9843728275776.\n"
          ]
        },
        {
          "name": "stderr",
          "output_type": "stream",
          "text": [
            "[I 2025-05-13 09:48:17,047] A new study created in memory with name: no-name-5d31dfbb-d8bc-496e-b869-ea8cdf97813a\n"
          ]
        },
        {
          "name": "stdout",
          "output_type": "stream",
          "text": [
            "[I 2025-05-13 09:48:16,934] Trial 28 finished with value: 227.51405488690207 and parameters: {'n_neighbors': 3, 'weights': 'uniform', 'p': 1}. Best is trial 26 with value: 221.9843728275776.\n",
            "[I 2025-05-13 09:48:16,986] Trial 29 finished with value: 224.69084095485948 and parameters: {'n_neighbors': 7, 'weights': 'uniform', 'p': 1}. Best is trial 26 with value: 221.9843728275776.\n",
            "Запуск Optuna для XGBoost...\n"
          ]
        },
        {
          "data": {
            "application/vnd.jupyter.widget-view+json": {
              "model_id": "8745f456c49644eaaaa2877870aa5169",
              "version_major": 2,
              "version_minor": 0
            },
            "text/plain": [
              "  0%|          | 0/30 [00:00<?, ?it/s]"
            ]
          },
          "metadata": {},
          "output_type": "display_data"
        },
        {
          "name": "stdout",
          "output_type": "stream",
          "text": [
            "[I 2025-05-13 09:48:17,626] Trial 0 finished with value: 217.91870138188625 and parameters: {'learning_rate': 0.09456697816680996, 'max_depth': 3, 'n_estimators': 100, 'subsample': 0.8081240428353174}. Best is trial 0 with value: 217.91870138188625.\n",
            "[I 2025-05-13 09:48:18,377] Trial 1 finished with value: 216.03769662866844 and parameters: {'learning_rate': 0.019148082811739076, 'max_depth': 5, 'n_estimators': 50, 'subsample': 0.8976535968587642}. Best is trial 1 with value: 216.03769662866844.\n",
            "[I 2025-05-13 09:48:18,954] Trial 2 finished with value: 217.60131602616852 and parameters: {'learning_rate': 0.06564931355729389, 'max_depth': 3, 'n_estimators': 100, 'subsample': 0.9854688716833389}. Best is trial 1 with value: 216.03769662866844.\n",
            "[I 2025-05-13 09:48:25,778] Trial 3 finished with value: 217.7757101719483 and parameters: {'learning_rate': 0.04001357837598256, 'max_depth': 7, 'n_estimators': 200, 'subsample': 0.8314546254186508}. Best is trial 1 with value: 216.03769662866844.\n",
            "[I 2025-05-13 09:48:26,743] Trial 4 finished with value: 223.55601671396124 and parameters: {'learning_rate': 0.08973917449864556, 'max_depth': 3, 'n_estimators': 200, 'subsample': 0.9809289729123196}. Best is trial 1 with value: 216.03769662866844.\n",
            "[I 2025-05-13 09:48:27,682] Trial 5 finished with value: 228.02950586644465 and parameters: {'learning_rate': 0.1992859591449984, 'max_depth': 3, 'n_estimators': 200, 'subsample': 0.8420917084602915}. Best is trial 1 with value: 216.03769662866844.\n",
            "[I 2025-05-13 09:48:28,640] Trial 6 finished with value: 226.4571811981545 and parameters: {'learning_rate': 0.16597868972557367, 'max_depth': 3, 'n_estimators': 200, 'subsample': 0.8633204650255897}. Best is trial 1 with value: 216.03769662866844.\n",
            "[I 2025-05-13 09:48:28,979] Trial 7 finished with value: 217.97511816389843 and parameters: {'learning_rate': 0.043578259912599004, 'max_depth': 3, 'n_estimators': 50, 'subsample': 0.9486736381217671}. Best is trial 1 with value: 216.03769662866844.\n",
            "[I 2025-05-13 09:48:29,686] Trial 8 finished with value: 221.4233607613856 and parameters: {'learning_rate': 0.08450254503758368, 'max_depth': 5, 'n_estimators': 50, 'subsample': 0.8849596072498064}. Best is trial 1 with value: 216.03769662866844.\n",
            "[I 2025-05-13 09:48:30,411] Trial 9 finished with value: 215.80860142986288 and parameters: {'learning_rate': 0.05182320708333857, 'max_depth': 5, 'n_estimators': 50, 'subsample': 0.8192966782723652}. Best is trial 9 with value: 215.80860142986288.\n",
            "[I 2025-05-13 09:48:31,053] Trial 10 finished with value: 218.03681625627138 and parameters: {'learning_rate': 0.1310144264247226, 'max_depth': 5, 'n_estimators': 50, 'subsample': 0.9323202092348857}. Best is trial 9 with value: 215.80860142986288.\n",
            "[I 2025-05-13 09:48:31,855] Trial 11 finished with value: 216.5187720756029 and parameters: {'learning_rate': 0.018866532335572624, 'max_depth': 5, 'n_estimators': 50, 'subsample': 0.9119455110950049}. Best is trial 9 with value: 215.80860142986288.\n",
            "[I 2025-05-13 09:48:32,614] Trial 12 finished with value: 218.1825348492705 and parameters: {'learning_rate': 0.0166439609847766, 'max_depth': 5, 'n_estimators': 50, 'subsample': 0.8009100394523403}. Best is trial 9 with value: 215.80860142986288.\n",
            "[I 2025-05-13 09:48:33,362] Trial 13 finished with value: 218.1882346897657 and parameters: {'learning_rate': 0.05921261799986398, 'max_depth': 5, 'n_estimators': 50, 'subsample': 0.878932034768547}. Best is trial 9 with value: 215.80860142986288.\n",
            "[I 2025-05-13 09:48:34,575] Trial 14 finished with value: 221.5432169959277 and parameters: {'learning_rate': 0.11930586748031878, 'max_depth': 7, 'n_estimators': 50, 'subsample': 0.8478775712054374}. Best is trial 9 with value: 215.80860142986288.\n",
            "[I 2025-05-13 09:48:35,350] Trial 15 finished with value: 218.49214867122848 and parameters: {'learning_rate': 0.014098579148098051, 'max_depth': 5, 'n_estimators': 50, 'subsample': 0.9105409896084237}. Best is trial 9 with value: 215.80860142986288.\n",
            "[I 2025-05-13 09:48:39,473] Trial 16 finished with value: 217.32523397669829 and parameters: {'learning_rate': 0.039255883253007995, 'max_depth': 5, 'n_estimators': 100, 'subsample': 0.9421680015196463}. Best is trial 9 with value: 215.80860142986288.\n",
            "[I 2025-05-13 09:48:40,888] Trial 17 finished with value: 216.31233965824774 and parameters: {'learning_rate': 0.05616593351954388, 'max_depth': 7, 'n_estimators': 50, 'subsample': 0.824823092499479}. Best is trial 9 with value: 215.80860142986288.\n",
            "[I 2025-05-13 09:48:41,565] Trial 18 finished with value: 218.62720648647812 and parameters: {'learning_rate': 0.07437319304744529, 'max_depth': 5, 'n_estimators': 50, 'subsample': 0.8706235911071755}. Best is trial 9 with value: 215.80860142986288.\n",
            "[I 2025-05-13 09:48:42,694] Trial 19 finished with value: 220.74038517916486 and parameters: {'learning_rate': 0.1153100435896499, 'max_depth': 5, 'n_estimators': 100, 'subsample': 0.8977151079034398}. Best is trial 9 with value: 215.80860142986288.\n",
            "[I 2025-05-13 09:48:43,448] Trial 20 finished with value: 215.74481835284428 and parameters: {'learning_rate': 0.0329881592493203, 'max_depth': 5, 'n_estimators': 50, 'subsample': 0.9646053390599935}. Best is trial 20 with value: 215.74481835284428.\n",
            "[I 2025-05-13 09:48:44,227] Trial 21 finished with value: 218.74898738750156 and parameters: {'learning_rate': 0.028999708346183387, 'max_depth': 5, 'n_estimators': 50, 'subsample': 0.9959612735626402}. Best is trial 20 with value: 215.74481835284428.\n",
            "[I 2025-05-13 09:48:44,993] Trial 22 finished with value: 217.7692078286404 and parameters: {'learning_rate': 0.04747049142497553, 'max_depth': 5, 'n_estimators': 50, 'subsample': 0.9689997893653465}. Best is trial 20 with value: 215.74481835284428.\n",
            "[I 2025-05-13 09:48:45,734] Trial 23 finished with value: 215.58165825094076 and parameters: {'learning_rate': 0.03049962591086366, 'max_depth': 5, 'n_estimators': 50, 'subsample': 0.9608025288230501}. Best is trial 23 with value: 215.58165825094076.\n",
            "[I 2025-05-13 09:48:46,497] Trial 24 finished with value: 215.84642832977474 and parameters: {'learning_rate': 0.031674155005577236, 'max_depth': 5, 'n_estimators': 50, 'subsample': 0.960460621734957}. Best is trial 23 with value: 215.58165825094076.\n",
            "[I 2025-05-13 09:48:47,985] Trial 25 finished with value: 212.31001964633623 and parameters: {'learning_rate': 0.07281884214361883, 'max_depth': 7, 'n_estimators': 50, 'subsample': 0.9280697852441582}. Best is trial 25 with value: 212.31001964633623.\n",
            "[I 2025-05-13 09:48:52,207] Trial 26 finished with value: 218.14083782392615 and parameters: {'learning_rate': 0.07420142000775246, 'max_depth': 7, 'n_estimators': 50, 'subsample': 0.9306617297297075}. Best is trial 25 with value: 212.31001964633623.\n",
            "[I 2025-05-13 09:48:53,509] Trial 27 finished with value: 219.85535819602975 and parameters: {'learning_rate': 0.10520280085800388, 'max_depth': 7, 'n_estimators': 50, 'subsample': 0.9610612960213187}. Best is trial 25 with value: 212.31001964633623.\n",
            "[I 2025-05-13 09:48:57,414] Trial 28 finished with value: 225.11006795881156 and parameters: {'learning_rate': 0.06956032907995091, 'max_depth': 7, 'n_estimators': 200, 'subsample': 0.9239214584685007}. Best is trial 25 with value: 212.31001964633623.\n",
            "[I 2025-05-13 09:48:59,402] Trial 29 finished with value: 224.9073114349549 and parameters: {'learning_rate': 0.14228005518416453, 'max_depth': 7, 'n_estimators': 100, 'subsample': 0.951903956875243}. Best is trial 25 with value: 212.31001964633623.\n"
          ]
        },
        {
          "data": {
            "application/vnd.google.colaboratory.intrinsic+json": {
              "summary": "{\n  \"name\": \"pd\",\n  \"rows\": 5,\n  \"fields\": [\n    {\n      \"column\": \"Model\",\n      \"properties\": {\n        \"dtype\": \"string\",\n        \"num_unique_values\": 5,\n        \"samples\": [\n          \"GradientBoosting\",\n          \"XGBoost\",\n          \"SVR\"\n        ],\n        \"semantic_type\": \"\",\n        \"description\": \"\"\n      }\n    },\n    {\n      \"column\": \"Params\",\n      \"properties\": {\n        \"dtype\": \"object\",\n        \"semantic_type\": \"\",\n        \"description\": \"\"\n      }\n    },\n    {\n      \"column\": \"Approach\",\n      \"properties\": {\n        \"dtype\": \"category\",\n        \"num_unique_values\": 1,\n        \"samples\": [\n          \"Optuna\"\n        ],\n        \"semantic_type\": \"\",\n        \"description\": \"\"\n      }\n    },\n    {\n      \"column\": \"Time\",\n      \"properties\": {\n        \"dtype\": \"number\",\n        \"std\": 97.42337424868839,\n        \"min\": 1.47,\n        \"max\": 240.73,\n        \"num_unique_values\": 5,\n        \"samples\": [\n          83.56\n        ],\n        \"semantic_type\": \"\",\n        \"description\": \"\"\n      }\n    },\n    {\n      \"column\": \"RMSE\",\n      \"properties\": {\n        \"dtype\": \"number\",\n        \"std\": 7.85000550752109,\n        \"min\": 212.31001964633623,\n        \"max\": 232.6443520070243,\n        \"num_unique_values\": 5,\n        \"samples\": [\n          217.46332605832458\n        ],\n        \"semantic_type\": \"\",\n        \"description\": \"\"\n      }\n    },\n    {\n      \"column\": \"MAE\",\n      \"properties\": {\n        \"dtype\": \"number\",\n        \"std\": 5.978352699978632,\n        \"min\": 129.82690720350942,\n        \"max\": 142.8427680829214,\n        \"num_unique_values\": 5,\n        \"samples\": [\n          142.8427680829214\n        ],\n        \"semantic_type\": \"\",\n        \"description\": \"\"\n      }\n    },\n    {\n      \"column\": \"R\\u00b2\",\n      \"properties\": {\n        \"dtype\": \"number\",\n        \"std\": 0.06436823102793254,\n        \"min\": 0.004979093083100294,\n        \"max\": 0.17131751421341235,\n        \"num_unique_values\": 5,\n        \"samples\": [\n          0.1306008094942055\n        ],\n        \"semantic_type\": \"\",\n        \"description\": \"\"\n      }\n    }\n  ]\n}",
              "type": "dataframe"
            },
            "text/html": [
              "\n",
              "  <div id=\"df-e61b4cff-5aa3-4285-a8dc-4a939ba6323b\" class=\"colab-df-container\">\n",
              "    <div>\n",
              "<style scoped>\n",
              "    .dataframe tbody tr th:only-of-type {\n",
              "        vertical-align: middle;\n",
              "    }\n",
              "\n",
              "    .dataframe tbody tr th {\n",
              "        vertical-align: top;\n",
              "    }\n",
              "\n",
              "    .dataframe thead th {\n",
              "        text-align: right;\n",
              "    }\n",
              "</style>\n",
              "<table border=\"1\" class=\"dataframe\">\n",
              "  <thead>\n",
              "    <tr style=\"text-align: right;\">\n",
              "      <th></th>\n",
              "      <th>Model</th>\n",
              "      <th>Params</th>\n",
              "      <th>Approach</th>\n",
              "      <th>Time</th>\n",
              "      <th>RMSE</th>\n",
              "      <th>MAE</th>\n",
              "      <th>R²</th>\n",
              "    </tr>\n",
              "  </thead>\n",
              "  <tbody>\n",
              "    <tr>\n",
              "      <th>0</th>\n",
              "      <td>RandomForest</td>\n",
              "      <td>{'n_estimators': 200, 'max_depth': 10, 'min_sa...</td>\n",
              "      <td>Optuna</td>\n",
              "      <td>240.73</td>\n",
              "      <td>215.862792</td>\n",
              "      <td>141.829151</td>\n",
              "      <td>0.143351</td>\n",
              "    </tr>\n",
              "    <tr>\n",
              "      <th>1</th>\n",
              "      <td>GradientBoosting</td>\n",
              "      <td>{'learning_rate': 0.10736500903869574, 'n_esti...</td>\n",
              "      <td>Optuna</td>\n",
              "      <td>83.56</td>\n",
              "      <td>217.463326</td>\n",
              "      <td>142.842768</td>\n",
              "      <td>0.130601</td>\n",
              "    </tr>\n",
              "    <tr>\n",
              "      <th>2</th>\n",
              "      <td>SVR</td>\n",
              "      <td>{'C': 10, 'epsilon': 0.10001788537603798, 'ker...</td>\n",
              "      <td>Optuna</td>\n",
              "      <td>12.08</td>\n",
              "      <td>232.644352</td>\n",
              "      <td>129.826907</td>\n",
              "      <td>0.004979</td>\n",
              "    </tr>\n",
              "    <tr>\n",
              "      <th>3</th>\n",
              "      <td>KNeighbors</td>\n",
              "      <td>{'n_neighbors': 5, 'weights': 'uniform', 'p': 1}</td>\n",
              "      <td>Optuna</td>\n",
              "      <td>1.47</td>\n",
              "      <td>221.984373</td>\n",
              "      <td>133.854239</td>\n",
              "      <td>0.094076</td>\n",
              "    </tr>\n",
              "    <tr>\n",
              "      <th>4</th>\n",
              "      <td>XGBoost</td>\n",
              "      <td>{'learning_rate': 0.07281884214361883, 'max_de...</td>\n",
              "      <td>Optuna</td>\n",
              "      <td>42.36</td>\n",
              "      <td>212.310020</td>\n",
              "      <td>131.589829</td>\n",
              "      <td>0.171318</td>\n",
              "    </tr>\n",
              "  </tbody>\n",
              "</table>\n",
              "</div>\n",
              "    <div class=\"colab-df-buttons\">\n",
              "\n",
              "  <div class=\"colab-df-container\">\n",
              "    <button class=\"colab-df-convert\" onclick=\"convertToInteractive('df-e61b4cff-5aa3-4285-a8dc-4a939ba6323b')\"\n",
              "            title=\"Convert this dataframe to an interactive table.\"\n",
              "            style=\"display:none;\">\n",
              "\n",
              "  <svg xmlns=\"http://www.w3.org/2000/svg\" height=\"24px\" viewBox=\"0 -960 960 960\">\n",
              "    <path d=\"M120-120v-720h720v720H120Zm60-500h600v-160H180v160Zm220 220h160v-160H400v160Zm0 220h160v-160H400v160ZM180-400h160v-160H180v160Zm440 0h160v-160H620v160ZM180-180h160v-160H180v160Zm440 0h160v-160H620v160Z\"/>\n",
              "  </svg>\n",
              "    </button>\n",
              "\n",
              "  <style>\n",
              "    .colab-df-container {\n",
              "      display:flex;\n",
              "      gap: 12px;\n",
              "    }\n",
              "\n",
              "    .colab-df-convert {\n",
              "      background-color: #E8F0FE;\n",
              "      border: none;\n",
              "      border-radius: 50%;\n",
              "      cursor: pointer;\n",
              "      display: none;\n",
              "      fill: #1967D2;\n",
              "      height: 32px;\n",
              "      padding: 0 0 0 0;\n",
              "      width: 32px;\n",
              "    }\n",
              "\n",
              "    .colab-df-convert:hover {\n",
              "      background-color: #E2EBFA;\n",
              "      box-shadow: 0px 1px 2px rgba(60, 64, 67, 0.3), 0px 1px 3px 1px rgba(60, 64, 67, 0.15);\n",
              "      fill: #174EA6;\n",
              "    }\n",
              "\n",
              "    .colab-df-buttons div {\n",
              "      margin-bottom: 4px;\n",
              "    }\n",
              "\n",
              "    [theme=dark] .colab-df-convert {\n",
              "      background-color: #3B4455;\n",
              "      fill: #D2E3FC;\n",
              "    }\n",
              "\n",
              "    [theme=dark] .colab-df-convert:hover {\n",
              "      background-color: #434B5C;\n",
              "      box-shadow: 0px 1px 3px 1px rgba(0, 0, 0, 0.15);\n",
              "      filter: drop-shadow(0px 1px 2px rgba(0, 0, 0, 0.3));\n",
              "      fill: #FFFFFF;\n",
              "    }\n",
              "  </style>\n",
              "\n",
              "    <script>\n",
              "      const buttonEl =\n",
              "        document.querySelector('#df-e61b4cff-5aa3-4285-a8dc-4a939ba6323b button.colab-df-convert');\n",
              "      buttonEl.style.display =\n",
              "        google.colab.kernel.accessAllowed ? 'block' : 'none';\n",
              "\n",
              "      async function convertToInteractive(key) {\n",
              "        const element = document.querySelector('#df-e61b4cff-5aa3-4285-a8dc-4a939ba6323b');\n",
              "        const dataTable =\n",
              "          await google.colab.kernel.invokeFunction('convertToInteractive',\n",
              "                                                    [key], {});\n",
              "        if (!dataTable) return;\n",
              "\n",
              "        const docLinkHtml = 'Like what you see? Visit the ' +\n",
              "          '<a target=\"_blank\" href=https://colab.research.google.com/notebooks/data_table.ipynb>data table notebook</a>'\n",
              "          + ' to learn more about interactive tables.';\n",
              "        element.innerHTML = '';\n",
              "        dataTable['output_type'] = 'display_data';\n",
              "        await google.colab.output.renderOutput(dataTable, element);\n",
              "        const docLink = document.createElement('div');\n",
              "        docLink.innerHTML = docLinkHtml;\n",
              "        element.appendChild(docLink);\n",
              "      }\n",
              "    </script>\n",
              "  </div>\n",
              "\n",
              "\n",
              "    <div id=\"df-2edcfd9e-a100-4158-ada8-22104eb0e98d\">\n",
              "      <button class=\"colab-df-quickchart\" onclick=\"quickchart('df-2edcfd9e-a100-4158-ada8-22104eb0e98d')\"\n",
              "                title=\"Suggest charts\"\n",
              "                style=\"display:none;\">\n",
              "\n",
              "<svg xmlns=\"http://www.w3.org/2000/svg\" height=\"24px\"viewBox=\"0 0 24 24\"\n",
              "     width=\"24px\">\n",
              "    <g>\n",
              "        <path d=\"M19 3H5c-1.1 0-2 .9-2 2v14c0 1.1.9 2 2 2h14c1.1 0 2-.9 2-2V5c0-1.1-.9-2-2-2zM9 17H7v-7h2v7zm4 0h-2V7h2v10zm4 0h-2v-4h2v4z\"/>\n",
              "    </g>\n",
              "</svg>\n",
              "      </button>\n",
              "\n",
              "<style>\n",
              "  .colab-df-quickchart {\n",
              "      --bg-color: #E8F0FE;\n",
              "      --fill-color: #1967D2;\n",
              "      --hover-bg-color: #E2EBFA;\n",
              "      --hover-fill-color: #174EA6;\n",
              "      --disabled-fill-color: #AAA;\n",
              "      --disabled-bg-color: #DDD;\n",
              "  }\n",
              "\n",
              "  [theme=dark] .colab-df-quickchart {\n",
              "      --bg-color: #3B4455;\n",
              "      --fill-color: #D2E3FC;\n",
              "      --hover-bg-color: #434B5C;\n",
              "      --hover-fill-color: #FFFFFF;\n",
              "      --disabled-bg-color: #3B4455;\n",
              "      --disabled-fill-color: #666;\n",
              "  }\n",
              "\n",
              "  .colab-df-quickchart {\n",
              "    background-color: var(--bg-color);\n",
              "    border: none;\n",
              "    border-radius: 50%;\n",
              "    cursor: pointer;\n",
              "    display: none;\n",
              "    fill: var(--fill-color);\n",
              "    height: 32px;\n",
              "    padding: 0;\n",
              "    width: 32px;\n",
              "  }\n",
              "\n",
              "  .colab-df-quickchart:hover {\n",
              "    background-color: var(--hover-bg-color);\n",
              "    box-shadow: 0 1px 2px rgba(60, 64, 67, 0.3), 0 1px 3px 1px rgba(60, 64, 67, 0.15);\n",
              "    fill: var(--button-hover-fill-color);\n",
              "  }\n",
              "\n",
              "  .colab-df-quickchart-complete:disabled,\n",
              "  .colab-df-quickchart-complete:disabled:hover {\n",
              "    background-color: var(--disabled-bg-color);\n",
              "    fill: var(--disabled-fill-color);\n",
              "    box-shadow: none;\n",
              "  }\n",
              "\n",
              "  .colab-df-spinner {\n",
              "    border: 2px solid var(--fill-color);\n",
              "    border-color: transparent;\n",
              "    border-bottom-color: var(--fill-color);\n",
              "    animation:\n",
              "      spin 1s steps(1) infinite;\n",
              "  }\n",
              "\n",
              "  @keyframes spin {\n",
              "    0% {\n",
              "      border-color: transparent;\n",
              "      border-bottom-color: var(--fill-color);\n",
              "      border-left-color: var(--fill-color);\n",
              "    }\n",
              "    20% {\n",
              "      border-color: transparent;\n",
              "      border-left-color: var(--fill-color);\n",
              "      border-top-color: var(--fill-color);\n",
              "    }\n",
              "    30% {\n",
              "      border-color: transparent;\n",
              "      border-left-color: var(--fill-color);\n",
              "      border-top-color: var(--fill-color);\n",
              "      border-right-color: var(--fill-color);\n",
              "    }\n",
              "    40% {\n",
              "      border-color: transparent;\n",
              "      border-right-color: var(--fill-color);\n",
              "      border-top-color: var(--fill-color);\n",
              "    }\n",
              "    60% {\n",
              "      border-color: transparent;\n",
              "      border-right-color: var(--fill-color);\n",
              "    }\n",
              "    80% {\n",
              "      border-color: transparent;\n",
              "      border-right-color: var(--fill-color);\n",
              "      border-bottom-color: var(--fill-color);\n",
              "    }\n",
              "    90% {\n",
              "      border-color: transparent;\n",
              "      border-bottom-color: var(--fill-color);\n",
              "    }\n",
              "  }\n",
              "</style>\n",
              "\n",
              "      <script>\n",
              "        async function quickchart(key) {\n",
              "          const quickchartButtonEl =\n",
              "            document.querySelector('#' + key + ' button');\n",
              "          quickchartButtonEl.disabled = true;  // To prevent multiple clicks.\n",
              "          quickchartButtonEl.classList.add('colab-df-spinner');\n",
              "          try {\n",
              "            const charts = await google.colab.kernel.invokeFunction(\n",
              "                'suggestCharts', [key], {});\n",
              "          } catch (error) {\n",
              "            console.error('Error during call to suggestCharts:', error);\n",
              "          }\n",
              "          quickchartButtonEl.classList.remove('colab-df-spinner');\n",
              "          quickchartButtonEl.classList.add('colab-df-quickchart-complete');\n",
              "        }\n",
              "        (() => {\n",
              "          let quickchartButtonEl =\n",
              "            document.querySelector('#df-2edcfd9e-a100-4158-ada8-22104eb0e98d button');\n",
              "          quickchartButtonEl.style.display =\n",
              "            google.colab.kernel.accessAllowed ? 'block' : 'none';\n",
              "        })();\n",
              "      </script>\n",
              "    </div>\n",
              "    </div>\n",
              "  </div>\n"
            ],
            "text/plain": [
              "              Model                                             Params  \\\n",
              "0      RandomForest  {'n_estimators': 200, 'max_depth': 10, 'min_sa...   \n",
              "1  GradientBoosting  {'learning_rate': 0.10736500903869574, 'n_esti...   \n",
              "2               SVR  {'C': 10, 'epsilon': 0.10001788537603798, 'ker...   \n",
              "3        KNeighbors   {'n_neighbors': 5, 'weights': 'uniform', 'p': 1}   \n",
              "4           XGBoost  {'learning_rate': 0.07281884214361883, 'max_de...   \n",
              "\n",
              "  Approach    Time        RMSE         MAE        R²  \n",
              "0   Optuna  240.73  215.862792  141.829151  0.143351  \n",
              "1   Optuna   83.56  217.463326  142.842768  0.130601  \n",
              "2   Optuna   12.08  232.644352  129.826907  0.004979  \n",
              "3   Optuna    1.47  221.984373  133.854239  0.094076  \n",
              "4   Optuna   42.36  212.310020  131.589829  0.171318  "
            ]
          },
          "execution_count": 29,
          "metadata": {},
          "output_type": "execute_result"
        }
      ],
      "source": [
        "results_optuna = []\n",
        "\n",
        "def objective(trial, model_name):\n",
        "    model_config = model_params[model_name]\n",
        "    model_class = type(model_config['model'])\n",
        "    params_space = model_config['params']\n",
        "\n",
        "    # Подбираем параметры\n",
        "    params = {}\n",
        "    for param_name, values in params_space.items():\n",
        "        if isinstance(values, list):\n",
        "            if all(isinstance(v, int) for v in values):\n",
        "                params[param_name] = trial.suggest_categorical(param_name, values)\n",
        "            elif all(isinstance(v, float) for v in values):\n",
        "                params[param_name] = trial.suggest_float(param_name, min(values), max(values))\n",
        "            else:\n",
        "                params[param_name] = trial.suggest_categorical(param_name, values)\n",
        "        elif isinstance(values, tuple):\n",
        "            if all(isinstance(v, int) for v in values):\n",
        "                params[param_name] = trial.suggest_int(param_name, *values)\n",
        "            elif all(isinstance(v, float) for v in values):\n",
        "                params[param_name] = trial.suggest_float(param_name, *values)\n",
        "\n",
        "    # Создаём модель\n",
        "    model = model_class(**params, random_state=42) if 'random_state' in model_class().get_params() else model_class(**params)\n",
        "    model.fit(X_train, y_train)\n",
        "    y_pred = model.predict(X_test)\n",
        "\n",
        "    # Используем уже готовую функцию для подсчёта метрик\n",
        "    metrics = evaluate_model(y_test, y_pred)\n",
        "\n",
        "    return metrics['RMSE']  # Оптимизация по RMSE\n",
        "\n",
        "# Запуск Optuna для каждой модели\n",
        "for model_name, config in model_params.items():\n",
        "    if not config['params']:  # Пропускаем LinearRegression\n",
        "        continue\n",
        "\n",
        "    print(f\"Запуск Optuna для {model_name}...\")\n",
        "\n",
        "    study = optuna.create_study(direction='minimize')\n",
        "    func = lambda trial, mn=model_name: objective(trial, mn)\n",
        "\n",
        "    # Замеряем время\n",
        "    start_time = time.time()\n",
        "    study.optimize(func, n_trials=30, n_jobs=1, show_progress_bar=True)\n",
        "    duration = time.time() - start_time\n",
        "\n",
        "    # Обучаем финальную модель с лучшими параметрами\n",
        "    best_params = study.best_params\n",
        "    model_class = type(config['model'])\n",
        "    model = model_class(**best_params, random_state=42) if 'random_state' in model_class().get_params() else model_class(**best_params)\n",
        "    model.fit(X_train, y_train)\n",
        "    y_pred = model.predict(X_test)\n",
        "    metrics = evaluate_model(y_test, y_pred)\n",
        "\n",
        "    # Сохраняем результаты\n",
        "    results_optuna.append({\n",
        "        'Model': model_name,\n",
        "        'Params': best_params,\n",
        "        'Approach': 'Optuna',\n",
        "        'Time': round(duration, 2),\n",
        "        'RMSE': metrics['RMSE'],\n",
        "        'MAE': metrics['MAE'],\n",
        "        'R²': metrics['R²']\n",
        "    })\n",
        "\n",
        "# Вывод таблицы с результатами\n",
        "pd.DataFrame(results_optuna)"
      ]
    },
    {
      "cell_type": "code",
      "execution_count": null,
      "metadata": {
        "colab": {
          "base_uri": "https://localhost:8080/",
          "height": 607
        },
        "id": "tfIWjGosDb5U",
        "outputId": "518ffb19-6f25-4ef7-abc8-c7c3312f6862"
      },
      "outputs": [
        {
          "data": {
            "image/png": "[encoded data removed]",
            "text/plain": [
              "<Figure size 1400x600 with 3 Axes>"
            ]
          },
          "metadata": {},
          "output_type": "display_data"
        }
      ],
      "source": [
        "# Объединяем все результаты\n",
        "all_results = pd.concat([\n",
        "    pd.DataFrame(results_baseline),\n",
        "    pd.DataFrame(results_grid),\n",
        "    pd.DataFrame(results_optuna)\n",
        "], ignore_index=True)\n",
        "\n",
        "# Делаем сводную таблицу только по числовым метрикам\n",
        "pivot_results = all_results.pivot_table(\n",
        "    index='Model',\n",
        "    columns='Approach',\n",
        "    values=['RMSE', 'MAE', 'R²']\n",
        ")\n",
        "\n",
        "# Получаем список моделей и подходов\n",
        "models = pivot_results.index.tolist()\n",
        "approaches = ['Baseline', 'GridSearchCV', 'Optuna']\n",
        "\n",
        "# Цвета для каждого подхода\n",
        "colors = {\n",
        "    'Baseline': 'green',\n",
        "    'GridSearchCV': 'orange',\n",
        "    'Optuna': 'blue'\n",
        "}\n",
        "\n",
        "bar_width = 0.25\n",
        "x = np.arange(len(models))\n",
        "\n",
        "# Визуализируем\n",
        "plt.figure(figsize=(14, 6))\n",
        "\n",
        "# RMSE\n",
        "plt.subplot(1, 3, 1)\n",
        "for i, approach in enumerate(approaches):\n",
        "    values = pivot_results['RMSE'][approach].values\n",
        "    plt.bar(x + bar_width * (i - 1), values, width=bar_width, label=approach, color=colors[approach])\n",
        "plt.title('RMSE')\n",
        "plt.xticks(x, models, rotation=90, fontsize=8)\n",
        "plt.legend()\n",
        "\n",
        "# MAE\n",
        "plt.subplot(1, 3, 2)\n",
        "for i, approach in enumerate(approaches):\n",
        "    values = pivot_results['MAE'][approach].values\n",
        "    plt.bar(x + bar_width * (i - 1), values, width=bar_width, label=approach, color=colors[approach])\n",
        "plt.title('MAE')\n",
        "plt.xticks(x, models, rotation=90, fontsize=8)\n",
        "plt.legend()\n",
        "\n",
        "# R²\n",
        "plt.subplot(1, 3, 3)\n",
        "for i, approach in enumerate(approaches):\n",
        "    values = pivot_results['R²'][approach].values\n",
        "    plt.bar(x + bar_width * (i - 1), values, width=bar_width, label=approach, color=colors[approach])\n",
        "plt.title('R²')\n",
        "plt.xticks(x, models, rotation=90, fontsize=8)\n",
        "plt.legend()\n",
        "\n",
        "plt.tight_layout()\n",
        "plt.show()"
      ]
    },
    {
      "cell_type": "code",
      "execution_count": null,
      "metadata": {
        "colab": {
          "base_uri": "https://localhost:8080/",
          "height": 255
        },
        "id": "dLdCJyfpMRBk",
        "outputId": "8718c31f-5ac7-40fb-c499-6cb6f90281eb"
      },
      "outputs": [
        {
          "name": "stdout",
          "output_type": "stream",
          "text": [
            " Сравнение моделей по метрикам:\n"
          ]
        },
        {
          "data": {
            "application/vnd.google.colaboratory.intrinsic+json": {
              "summary": "{\n  \"name\": \"pivot_table\",\n  \"rows\": 6,\n  \"fields\": [\n    {\n      \"column\": \"Model\",\n      \"properties\": {\n        \"dtype\": \"string\",\n        \"num_unique_values\": 6,\n        \"samples\": [\n          \"GradientBoosting\",\n          \"KNeighbors\",\n          \"XGBoost\"\n        ],\n        \"semantic_type\": \"\",\n        \"description\": \"\"\n      }\n    },\n    {\n      \"column\": \"MAE_Baseline\",\n      \"properties\": {\n        \"dtype\": \"number\",\n        \"std\": 14.000405299978535,\n        \"min\": 127.73478539421549,\n        \"max\": 168.92186800650606,\n        \"num_unique_values\": 6,\n        \"samples\": [\n          140.94213684531235,\n          140.26493372793826,\n          151.97535871410625\n        ],\n        \"semantic_type\": \"\",\n        \"description\": \"\"\n      }\n    },\n    {\n      \"column\": \"MAE_GridSearchCV\",\n      \"properties\": {\n        \"dtype\": \"number\",\n        \"std\": 6.797938734871773,\n        \"min\": 129.82690433383794,\n        \"max\": 146.75459633007702,\n        \"num_unique_values\": 5,\n        \"samples\": [\n          137.20507576191653,\n          143.40453851843324,\n          144.08074485959588\n        ],\n        \"semantic_type\": \"\",\n        \"description\": \"\"\n      }\n    },\n    {\n      \"column\": \"MAE_Optuna\",\n      \"properties\": {\n        \"dtype\": \"number\",\n        \"std\": 5.978352699978632,\n        \"min\": 129.82690720350942,\n        \"max\": 142.8427680829214,\n        \"num_unique_values\": 5,\n        \"samples\": [\n          133.85423895842672,\n          131.58982884825326,\n          141.82915143758743\n        ],\n        \"semantic_type\": \"\",\n        \"description\": \"\"\n      }\n    },\n    {\n      \"column\": \"RMSE_Baseline\",\n      \"properties\": {\n        \"dtype\": \"number\",\n        \"std\": 16.51579601672127,\n        \"min\": 218.1066758571984,\n        \"max\": 256.1413150373679,\n        \"num_unique_values\": 6,\n        \"samples\": [\n          219.76392948234363,\n          230.62430640398094,\n          242.3569677319295\n        ],\n        \"semantic_type\": \"\",\n        \"description\": \"\"\n      }\n    },\n    {\n      \"column\": \"RMSE_GridSearchCV\",\n      \"properties\": {\n        \"dtype\": \"number\",\n        \"std\": 6.363456877195486,\n        \"min\": 217.72849741331254,\n        \"max\": 232.6443430998,\n        \"num_unique_values\": 5,\n        \"samples\": [\n          224.69084095485948,\n          217.72849741331254,\n          217.89284949867627\n        ],\n        \"semantic_type\": \"\",\n        \"description\": \"\"\n      }\n    },\n    {\n      \"column\": \"RMSE_Optuna\",\n      \"properties\": {\n        \"dtype\": \"number\",\n        \"std\": 7.85000550752109,\n        \"min\": 212.31001964633623,\n        \"max\": 232.6443520070243,\n        \"num_unique_values\": 5,\n        \"samples\": [\n          221.9843728275776,\n          212.31001964633623,\n          215.8627919346514\n        ],\n        \"semantic_type\": \"\",\n        \"description\": \"\"\n      }\n    },\n    {\n      \"column\": \"R\\u00b2_Baseline\",\n      \"properties\": {\n        \"dtype\": \"number\",\n        \"std\": 0.1439303742526516,\n        \"min\": -0.20616424098242314,\n        \"max\": 0.12544908878547523,\n        \"num_unique_values\": 6,\n        \"samples\": [\n          0.11210828648426541,\n          0.022183562071130147,\n          -0.0798369879448595\n        ],\n        \"semantic_type\": \"\",\n        \"description\": \"\"\n      }\n    },\n    {\n      \"column\": \"R\\u00b2_GridSearchCV\",\n      \"properties\": {\n        \"dtype\": \"number\",\n        \"std\": 0.05265587829110753,\n        \"min\": 0.00497916927557307,\n        \"max\": 0.12847925342468114,\n        \"num_unique_values\": 5,\n        \"samples\": [\n          0.07185053543261921,\n          0.12847925342468114,\n          0.12716302413275937\n        ],\n        \"semantic_type\": \"\",\n        \"description\": \"\"\n      }\n    },\n    {\n      \"column\": \"R\\u00b2_Optuna\",\n      \"properties\": {\n        \"dtype\": \"number\",\n        \"std\": 0.06436823102793254,\n        \"min\": 0.004979093083100294,\n        \"max\": 0.17131751421341235,\n        \"num_unique_values\": 5,\n        \"samples\": [\n          0.09407554466348289,\n          0.17131751421341235,\n          0.14335130266826301\n        ],\n        \"semantic_type\": \"\",\n        \"description\": \"\"\n      }\n    }\n  ]\n}",
              "type": "dataframe",
              "variable_name": "pivot_table"
            },
            "text/html": [
              "\n",
              "  <div id=\"df-2078c6ee-4541-4e1b-871d-43b2d9ecd190\" class=\"colab-df-container\">\n",
              "    <div>\n",
              "<style scoped>\n",
              "    .dataframe tbody tr th:only-of-type {\n",
              "        vertical-align: middle;\n",
              "    }\n",
              "\n",
              "    .dataframe tbody tr th {\n",
              "        vertical-align: top;\n",
              "    }\n",
              "\n",
              "    .dataframe thead th {\n",
              "        text-align: right;\n",
              "    }\n",
              "</style>\n",
              "<table border=\"1\" class=\"dataframe\">\n",
              "  <thead>\n",
              "    <tr style=\"text-align: right;\">\n",
              "      <th></th>\n",
              "      <th>Model</th>\n",
              "      <th>MAE_Baseline</th>\n",
              "      <th>MAE_GridSearchCV</th>\n",
              "      <th>MAE_Optuna</th>\n",
              "      <th>RMSE_Baseline</th>\n",
              "      <th>RMSE_GridSearchCV</th>\n",
              "      <th>RMSE_Optuna</th>\n",
              "      <th>R²_Baseline</th>\n",
              "      <th>R²_GridSearchCV</th>\n",
              "      <th>R²_Optuna</th>\n",
              "    </tr>\n",
              "  </thead>\n",
              "  <tbody>\n",
              "    <tr>\n",
              "      <th>0</th>\n",
              "      <td>GradientBoosting</td>\n",
              "      <td>140.942137</td>\n",
              "      <td>146.754596</td>\n",
              "      <td>142.842768</td>\n",
              "      <td>219.763929</td>\n",
              "      <td>219.292766</td>\n",
              "      <td>217.463326</td>\n",
              "      <td>0.112108</td>\n",
              "      <td>0.115911</td>\n",
              "      <td>0.130601</td>\n",
              "    </tr>\n",
              "    <tr>\n",
              "      <th>1</th>\n",
              "      <td>KNeighbors</td>\n",
              "      <td>140.264934</td>\n",
              "      <td>137.205076</td>\n",
              "      <td>133.854239</td>\n",
              "      <td>230.624306</td>\n",
              "      <td>224.690841</td>\n",
              "      <td>221.984373</td>\n",
              "      <td>0.022184</td>\n",
              "      <td>0.071851</td>\n",
              "      <td>0.094076</td>\n",
              "    </tr>\n",
              "    <tr>\n",
              "      <th>2</th>\n",
              "      <td>LinearRegression</td>\n",
              "      <td>168.921868</td>\n",
              "      <td>NaN</td>\n",
              "      <td>NaN</td>\n",
              "      <td>253.565848</td>\n",
              "      <td>NaN</td>\n",
              "      <td>NaN</td>\n",
              "      <td>-0.182031</td>\n",
              "      <td>NaN</td>\n",
              "      <td>NaN</td>\n",
              "    </tr>\n",
              "    <tr>\n",
              "      <th>3</th>\n",
              "      <td>RandomForest</td>\n",
              "      <td>140.291133</td>\n",
              "      <td>144.080745</td>\n",
              "      <td>141.829151</td>\n",
              "      <td>218.106676</td>\n",
              "      <td>217.892849</td>\n",
              "      <td>215.862792</td>\n",
              "      <td>0.125449</td>\n",
              "      <td>0.127163</td>\n",
              "      <td>0.143351</td>\n",
              "    </tr>\n",
              "    <tr>\n",
              "      <th>4</th>\n",
              "      <td>SVR</td>\n",
              "      <td>127.734785</td>\n",
              "      <td>129.826904</td>\n",
              "      <td>129.826907</td>\n",
              "      <td>256.141315</td>\n",
              "      <td>232.644343</td>\n",
              "      <td>232.644352</td>\n",
              "      <td>-0.206164</td>\n",
              "      <td>0.004979</td>\n",
              "      <td>0.004979</td>\n",
              "    </tr>\n",
              "    <tr>\n",
              "      <th>5</th>\n",
              "      <td>XGBoost</td>\n",
              "      <td>151.975359</td>\n",
              "      <td>143.404539</td>\n",
              "      <td>131.589829</td>\n",
              "      <td>242.356968</td>\n",
              "      <td>217.728497</td>\n",
              "      <td>212.310020</td>\n",
              "      <td>-0.079837</td>\n",
              "      <td>0.128479</td>\n",
              "      <td>0.171318</td>\n",
              "    </tr>\n",
              "  </tbody>\n",
              "</table>\n",
              "</div>\n",
              "    <div class=\"colab-df-buttons\">\n",
              "\n",
              "  <div class=\"colab-df-container\">\n",
              "    <button class=\"colab-df-convert\" onclick=\"convertToInteractive('df-2078c6ee-4541-4e1b-871d-43b2d9ecd190')\"\n",
              "            title=\"Convert this dataframe to an interactive table.\"\n",
              "            style=\"display:none;\">\n",
              "\n",
              "  <svg xmlns=\"http://www.w3.org/2000/svg\" height=\"24px\" viewBox=\"0 -960 960 960\">\n",
              "    <path d=\"M120-120v-720h720v720H120Zm60-500h600v-160H180v160Zm220 220h160v-160H400v160Zm0 220h160v-160H400v160ZM180-400h160v-160H180v160Zm440 0h160v-160H620v160ZM180-180h160v-160H180v160Zm440 0h160v-160H620v160Z\"/>\n",
              "  </svg>\n",
              "    </button>\n",
              "\n",
              "  <style>\n",
              "    .colab-df-container {\n",
              "      display:flex;\n",
              "      gap: 12px;\n",
              "    }\n",
              "\n",
              "    .colab-df-convert {\n",
              "      background-color: #E8F0FE;\n",
              "      border: none;\n",
              "      border-radius: 50%;\n",
              "      cursor: pointer;\n",
              "      display: none;\n",
              "      fill: #1967D2;\n",
              "      height: 32px;\n",
              "      padding: 0 0 0 0;\n",
              "      width: 32px;\n",
              "    }\n",
              "\n",
              "    .colab-df-convert:hover {\n",
              "      background-color: #E2EBFA;\n",
              "      box-shadow: 0px 1px 2px rgba(60, 64, 67, 0.3), 0px 1px 3px 1px rgba(60, 64, 67, 0.15);\n",
              "      fill: #174EA6;\n",
              "    }\n",
              "\n",
              "    .colab-df-buttons div {\n",
              "      margin-bottom: 4px;\n",
              "    }\n",
              "\n",
              "    [theme=dark] .colab-df-convert {\n",
              "      background-color: #3B4455;\n",
              "      fill: #D2E3FC;\n",
              "    }\n",
              "\n",
              "    [theme=dark] .colab-df-convert:hover {\n",
              "      background-color: #434B5C;\n",
              "      box-shadow: 0px 1px 3px 1px rgba(0, 0, 0, 0.15);\n",
              "      filter: drop-shadow(0px 1px 2px rgba(0, 0, 0, 0.3));\n",
              "      fill: #FFFFFF;\n",
              "    }\n",
              "  </style>\n",
              "\n",
              "    <script>\n",
              "      const buttonEl =\n",
              "        document.querySelector('#df-2078c6ee-4541-4e1b-871d-43b2d9ecd190 button.colab-df-convert');\n",
              "      buttonEl.style.display =\n",
              "        google.colab.kernel.accessAllowed ? 'block' : 'none';\n",
              "\n",
              "      async function convertToInteractive(key) {\n",
              "        const element = document.querySelector('#df-2078c6ee-4541-4e1b-871d-43b2d9ecd190');\n",
              "        const dataTable =\n",
              "          await google.colab.kernel.invokeFunction('convertToInteractive',\n",
              "                                                    [key], {});\n",
              "        if (!dataTable) return;\n",
              "\n",
              "        const docLinkHtml = 'Like what you see? Visit the ' +\n",
              "          '<a target=\"_blank\" href=https://colab.research.google.com/notebooks/data_table.ipynb>data table notebook</a>'\n",
              "          + ' to learn more about interactive tables.';\n",
              "        element.innerHTML = '';\n",
              "        dataTable['output_type'] = 'display_data';\n",
              "        await google.colab.output.renderOutput(dataTable, element);\n",
              "        const docLink = document.createElement('div');\n",
              "        docLink.innerHTML = docLinkHtml;\n",
              "        element.appendChild(docLink);\n",
              "      }\n",
              "    </script>\n",
              "  </div>\n",
              "\n",
              "\n",
              "    <div id=\"df-a02e09f4-cbe4-4169-af76-2b8ca28d6153\">\n",
              "      <button class=\"colab-df-quickchart\" onclick=\"quickchart('df-a02e09f4-cbe4-4169-af76-2b8ca28d6153')\"\n",
              "                title=\"Suggest charts\"\n",
              "                style=\"display:none;\">\n",
              "\n",
              "<svg xmlns=\"http://www.w3.org/2000/svg\" height=\"24px\"viewBox=\"0 0 24 24\"\n",
              "     width=\"24px\">\n",
              "    <g>\n",
              "        <path d=\"M19 3H5c-1.1 0-2 .9-2 2v14c0 1.1.9 2 2 2h14c1.1 0 2-.9 2-2V5c0-1.1-.9-2-2-2zM9 17H7v-7h2v7zm4 0h-2V7h2v10zm4 0h-2v-4h2v4z\"/>\n",
              "    </g>\n",
              "</svg>\n",
              "      </button>\n",
              "\n",
              "<style>\n",
              "  .colab-df-quickchart {\n",
              "      --bg-color: #E8F0FE;\n",
              "      --fill-color: #1967D2;\n",
              "      --hover-bg-color: #E2EBFA;\n",
              "      --hover-fill-color: #174EA6;\n",
              "      --disabled-fill-color: #AAA;\n",
              "      --disabled-bg-color: #DDD;\n",
              "  }\n",
              "\n",
              "  [theme=dark] .colab-df-quickchart {\n",
              "      --bg-color: #3B4455;\n",
              "      --fill-color: #D2E3FC;\n",
              "      --hover-bg-color: #434B5C;\n",
              "      --hover-fill-color: #FFFFFF;\n",
              "      --disabled-bg-color: #3B4455;\n",
              "      --disabled-fill-color: #666;\n",
              "  }\n",
              "\n",
              "  .colab-df-quickchart {\n",
              "    background-color: var(--bg-color);\n",
              "    border: none;\n",
              "    border-radius: 50%;\n",
              "    cursor: pointer;\n",
              "    display: none;\n",
              "    fill: var(--fill-color);\n",
              "    height: 32px;\n",
              "    padding: 0;\n",
              "    width: 32px;\n",
              "  }\n",
              "\n",
              "  .colab-df-quickchart:hover {\n",
              "    background-color: var(--hover-bg-color);\n",
              "    box-shadow: 0 1px 2px rgba(60, 64, 67, 0.3), 0 1px 3px 1px rgba(60, 64, 67, 0.15);\n",
              "    fill: var(--button-hover-fill-color);\n",
              "  }\n",
              "\n",
              "  .colab-df-quickchart-complete:disabled,\n",
              "  .colab-df-quickchart-complete:disabled:hover {\n",
              "    background-color: var(--disabled-bg-color);\n",
              "    fill: var(--disabled-fill-color);\n",
              "    box-shadow: none;\n",
              "  }\n",
              "\n",
              "  .colab-df-spinner {\n",
              "    border: 2px solid var(--fill-color);\n",
              "    border-color: transparent;\n",
              "    border-bottom-color: var(--fill-color);\n",
              "    animation:\n",
              "      spin 1s steps(1) infinite;\n",
              "  }\n",
              "\n",
              "  @keyframes spin {\n",
              "    0% {\n",
              "      border-color: transparent;\n",
              "      border-bottom-color: var(--fill-color);\n",
              "      border-left-color: var(--fill-color);\n",
              "    }\n",
              "    20% {\n",
              "      border-color: transparent;\n",
              "      border-left-color: var(--fill-color);\n",
              "      border-top-color: var(--fill-color);\n",
              "    }\n",
              "    30% {\n",
              "      border-color: transparent;\n",
              "      border-left-color: var(--fill-color);\n",
              "      border-top-color: var(--fill-color);\n",
              "      border-right-color: var(--fill-color);\n",
              "    }\n",
              "    40% {\n",
              "      border-color: transparent;\n",
              "      border-right-color: var(--fill-color);\n",
              "      border-top-color: var(--fill-color);\n",
              "    }\n",
              "    60% {\n",
              "      border-color: transparent;\n",
              "      border-right-color: var(--fill-color);\n",
              "    }\n",
              "    80% {\n",
              "      border-color: transparent;\n",
              "      border-right-color: var(--fill-color);\n",
              "      border-bottom-color: var(--fill-color);\n",
              "    }\n",
              "    90% {\n",
              "      border-color: transparent;\n",
              "      border-bottom-color: var(--fill-color);\n",
              "    }\n",
              "  }\n",
              "</style>\n",
              "\n",
              "      <script>\n",
              "        async function quickchart(key) {\n",
              "          const quickchartButtonEl =\n",
              "            document.querySelector('#' + key + ' button');\n",
              "          quickchartButtonEl.disabled = true;  // To prevent multiple clicks.\n",
              "          quickchartButtonEl.classList.add('colab-df-spinner');\n",
              "          try {\n",
              "            const charts = await google.colab.kernel.invokeFunction(\n",
              "                'suggestCharts', [key], {});\n",
              "          } catch (error) {\n",
              "            console.error('Error during call to suggestCharts:', error);\n",
              "          }\n",
              "          quickchartButtonEl.classList.remove('colab-df-spinner');\n",
              "          quickchartButtonEl.classList.add('colab-df-quickchart-complete');\n",
              "        }\n",
              "        (() => {\n",
              "          let quickchartButtonEl =\n",
              "            document.querySelector('#df-a02e09f4-cbe4-4169-af76-2b8ca28d6153 button');\n",
              "          quickchartButtonEl.style.display =\n",
              "            google.colab.kernel.accessAllowed ? 'block' : 'none';\n",
              "        })();\n",
              "      </script>\n",
              "    </div>\n",
              "    </div>\n",
              "  </div>\n"
            ],
            "text/plain": [
              "              Model  MAE_Baseline  MAE_GridSearchCV  MAE_Optuna  \\\n",
              "0  GradientBoosting    140.942137        146.754596  142.842768   \n",
              "1        KNeighbors    140.264934        137.205076  133.854239   \n",
              "2  LinearRegression    168.921868               NaN         NaN   \n",
              "3      RandomForest    140.291133        144.080745  141.829151   \n",
              "4               SVR    127.734785        129.826904  129.826907   \n",
              "5           XGBoost    151.975359        143.404539  131.589829   \n",
              "\n",
              "   RMSE_Baseline  RMSE_GridSearchCV  RMSE_Optuna  R²_Baseline  \\\n",
              "0     219.763929         219.292766   217.463326     0.112108   \n",
              "1     230.624306         224.690841   221.984373     0.022184   \n",
              "2     253.565848                NaN          NaN    -0.182031   \n",
              "3     218.106676         217.892849   215.862792     0.125449   \n",
              "4     256.141315         232.644343   232.644352    -0.206164   \n",
              "5     242.356968         217.728497   212.310020    -0.079837   \n",
              "\n",
              "   R²_GridSearchCV  R²_Optuna  \n",
              "0         0.115911   0.130601  \n",
              "1         0.071851   0.094076  \n",
              "2              NaN        NaN  \n",
              "3         0.127163   0.143351  \n",
              "4         0.004979   0.004979  \n",
              "5         0.128479   0.171318  "
            ]
          },
          "execution_count": 41,
          "metadata": {},
          "output_type": "execute_result"
        }
      ],
      "source": [
        "import pandas as pd\n",
        "\n",
        "# Объединяем все результаты в один DataFrame\n",
        "all_results = pd.concat([\n",
        "    pd.DataFrame(results_baseline),\n",
        "    pd.DataFrame(results_grid),\n",
        "    pd.DataFrame(results_optuna)\n",
        "], ignore_index=True)\n",
        "\n",
        "# Делаем сводную таблицу: модель + подход -> метрики\n",
        "pivot_table = all_results.pivot_table(\n",
        "    index='Model',\n",
        "    columns='Approach',\n",
        "    values=['RMSE', 'MAE', 'R²']\n",
        ")\n",
        "\n",
        "# Меняем названия столбцов для удобства\n",
        "pivot_table.columns = [f\"{metric}_{approach}\" for metric, approach in pivot_table.columns]\n",
        "\n",
        "# Сброс индекса для удобства\n",
        "pivot_table.reset_index(inplace=True)\n",
        "\n",
        "# Вывод таблицы\n",
        "print(\" Сравнение моделей по метрикам:\")\n",
        "pivot_table.head(len(pivot_table))"
      ]
    },
    {
      "cell_type": "markdown",
      "metadata": {
        "id": "fDPw8SwaR7pz"
      },
      "source": [
        "Ключевые наблюдения\n",
        "\n",
        "1. Optuna показывает лучшие результаты\n",
        "\n",
        "Для большинства моделей (XGBoost, RandomForest, GradientBoosting) метод Optuna даёт наибольшее значение R² и наименьшие значения RMSE/MAE.\n",
        "\n",
        "Особенно заметный прогресс у модели XGBoost:\n",
        "\n",
        "    R² вырос с -0.08 (Baseline) до 0.171 (Optuna) — это значительное улучшение, особенно если учитывать, что ранее модель\n",
        "    не объясняла данные лучше константного предсказания.\n",
        "\n",
        "Тем не менее, стоит отметить:\n",
        "\n",
        "    Значение R² = 0.171, хотя и является лучшим среди всех протестированных моделей, всё ещё говорит о том, что модель\n",
        "    объясняет лишь около 17% дисперсии целевой переменной.\n",
        "    Это может указывать как на ограничения в данных, так и на\n",
        "    сложность самой задачи прогнозирования IC50.\n",
        "\n",
        "2. GridSearchCV работает не хуже, но и не лучше Optuna\n",
        "\n",
        "В некоторых случаях (например, RandomForest) он показывает сопоставимые с Optuna результаты. Однако в среднем Optuna позволяет достигать лучших метрик за меньшее число итераций, что делает его более эффективным инструментом подбора гиперпараметров.\n",
        "\n",
        "3. Baseline иногда близок к оптимальному\n",
        "\n",
        "Для моделей SVR и KNeighbors подбор гиперпараметров не привёл к существенному улучшению качества. Это может говорить о следующем:\n",
        "\n",
        "    Либо данные имеют низкую информативность признаков,\n",
        "\n",
        "    Либо модель уже была достаточно устойчивой и адаптированной \"из коробки\".\n",
        "\n",
        "4. Некоторые модели работают стабильно хуже других\n",
        "\n",
        "Модели LinearRegression и SVR показывают низкое качество прогноза, особенно по метрике R². Эти модели, видимо, недостаточно подходят для данной задачи без дополнительной работы над признаками или преобразования данных.\n",
        "\n",
        "Лучшая модель: XGBoost\n",
        "\n",
        "    Наилучший показатель объяснённой дисперсии: R² = 0.171\n",
        "\n",
        "    Причина успеха: ансамблевый метод с возможностью регуляризации и эффективной оптимизации\n",
        "\n",
        "Лучший метод настройки: Optuna\n",
        "\n",
        "    Обеспечивает либо сравнимую, либо лучшую производительность по сравнению с GridSearchCV\n",
        "\n",
        "    Работает быстрее, чем полный перебор\n",
        "\n",
        "    Позволяет находить более тонкие комбинации параметров\n",
        "\n",
        "Важно:\n",
        "Хотя R² = 0.171 является лучшим результатом среди всех моделей, оно не является высоким в абсолютном смысле. Такое значение говорит о том, что модель объясняет лишь около 17% вариации целевой переменной, что может быть недостаточно для точного прогноза в практическом применении.\n",
        "\n",
        "Второй вариант: RandomForest\n",
        "\n",
        "    Более простая и интерпретируемая модель\n",
        "\n",
        "    Хорошо себя показала как с GridSearchCV, так и с Optuna"
      ]
    },
    {
      "cell_type": "markdown",
      "metadata": {
        "id": "f5t5gNZVUnpG"
      },
      "source": [
        "##Итоговый вывод\n",
        "\n",
        "  Исследование показало, что наилучшее качество прогнозирования IC50 достигается при использовании модели XGBoost с гиперпараметрами, подобранными с помощью Optuna .\n",
        "  Полученная модель демонстрирует R² = 0.171 , что является наилучшим результатом среди всех исследованных моделей и методов настройки .\n",
        "     \n",
        "\n",
        " Однако, следует учитывать, что:\n",
        "\n",
        "  Значение R² = 0.171  свидетельствует о умеренной способности модели объяснять вариацию целевой переменной . Это может говорить как о сложности самой задачи, так и о необходимости дальнейшей работы над качеством признаков, их преобразованием или расширением.\n",
        "     "
      ]
    },
    {
      "cell_type": "markdown",
      "metadata": {
        "id": "ocOfo-QfdzjO"
      },
      "source": [
        "Проведем  логарифмирование целевой переменной"
      ]
    },
    {
      "cell_type": "code",
      "execution_count": null,
      "metadata": {
        "colab": {
          "base_uri": "https://localhost:8080/"
        },
        "id": "aCiQ_caocjZ8",
        "outputId": "630cd3de-949b-4d51-f29b-47650e6cc98e"
      },
      "outputs": [
        {
          "name": "stdout",
          "output_type": "stream",
          "text": [
            "✅ Целевая переменная логарифмирована и данные разделены\n"
          ]
        }
      ],
      "source": [
        "# Логарифмируем целевую переменную\n",
        "y_log = np.log1p(data['IC50, mM'])  # log(1 + IC50)\n",
        "X = data.drop(columns=['IC50, mM', 'CC50, mM', 'SI'])\n",
        "\n",
        "# Разделение на train/test\n",
        "X_train, X_test, y_train, y_test = train_test_split(\n",
        "    X, y_log, test_size=0.2, random_state=42\n",
        ")\n",
        "\n",
        "print(\"✅ Целевая переменная логарифмирована и данные разделены\")"
      ]
    },
    {
      "cell_type": "code",
      "execution_count": null,
      "metadata": {
        "id": "dgw9W5hweR6i"
      },
      "outputs": [],
      "source": [
        "results_optuna_log = []\n",
        "\n",
        "def objective_log(trial, model_name):\n",
        "    model_config = model_params[model_name]\n",
        "    model_class = type(model_config['model'])\n",
        "    params_space = model_config['params']\n",
        "\n",
        "    # Подбираем параметры\n",
        "    params = {}\n",
        "    for param_name, values in params_space.items():\n",
        "        if isinstance(values, list):\n",
        "            if all(isinstance(v, int) for v in values):\n",
        "                params[param_name] = trial.suggest_categorical(param_name, values)\n",
        "            elif all(isinstance(v, float) for v in values):\n",
        "                params[param_name] = trial.suggest_float(param_name, min(values), max(values))\n",
        "            else:\n",
        "                params[param_name] = trial.suggest_categorical(param_name, values)\n",
        "        elif isinstance(values, tuple):\n",
        "            if all(isinstance(v, int) for v in values):\n",
        "                params[param_name] = trial.suggest_int(param_name, *values)\n",
        "            elif all(isinstance(v, float) for v in values):\n",
        "                params[param_name] = trial.suggest_float(param_name, *values)\n",
        "\n",
        "    # Создаём модель\n",
        "    model = model_class(**params, random_state=42) if 'random_state' in model_class().get_params() else model_class(**params)\n",
        "    model.fit(X_train, y_train)\n",
        "    y_pred = model.predict(X_test)\n",
        "\n",
        "    # Используем уже готовую функцию оценки\n",
        "    metrics = evaluate_model(y_test, y_pred)\n",
        "\n",
        "    return metrics['RMSE']  # Оптимизация по RMSE"
      ]
    },
    {
      "cell_type": "code",
      "execution_count": null,
      "metadata": {
        "colab": {
          "base_uri": "https://localhost:8080/",
          "height": 1000,
          "referenced_widgets": [
            "5bad6419eeab4a44a447e11121c8ceab",
            "622d329bb17d4041ad6a908b016bcc0b",
            "07cb041197f74258a93997833d86a088",
            "8c0e9bf1ed7b44e89138094f4e01e99c",
            "dc7b7b59cad84bf583a683efe107c018",
            "8ffd114b02424cf7b9c35318cc9ec4b2",
            "6bd28a8bf93342c2a0d31e350c5e1371",
            "11e419f1dbc64c84948202ca989d93e5",
            "d34bde51d38d486f889054e004694cf5",
            "57ff063637b3444eb1ebfc2ddd8c147f",
            "6ac1911605dc46158e221d7fcd4cb67e",
            "653ace3793924addb4aec10ddcefe408",
            "4876d49ce92143d599e659878b948129",
            "a3953008296447b9a496ca259052eb20",
            "aa161309dd784272ae566054fe097bf8",
            "89b714dfeb4a4a17a6eec06fa2552783",
            "be3c429e31de4415997ac5a72b93b997",
            "f25c91a3c42a421c84fb6b3fee877aac",
            "77cf8a1a040a4a23b04fdb35370832ba",
            "5feb1b3dc8474f12807d01b241ba6f92",
            "a285feaff4c94ae8848395b606813538",
            "39d30134067443ae978b075d5dafe283",
            "b59427d1036c451dafcf9145942416c5",
            "8c96c940df6d44e8afbca983f80466b4",
            "b80dc4016b17402fbc9faad692637fa3",
            "1b0b8733d81b4f86bd49a5ce2f5d6d98",
            "93af806387ea4d89b57e9bb2be5943e3",
            "0eefe0f51e38435f84fe5cf4848a15e4",
            "ba926f3f8951403596024b00b2b48f9e",
            "8d839205dad14f8295595a48fff6c345",
            "d4d91b09d2dd4535bc99d3150aea73c8",
            "3a3b028fbb034ecabf56645efcf81223",
            "dc7d0466372e4cd6b96079f364817a0d",
            "33c4bb4a45284be18348253d4850a640",
            "833d1616b17c45e5a54289a86496c625",
            "9b12e5ab053a49008b6caab44166d03d",
            "f84c7c22b3ba4694b9fc6e7773562c32",
            "faae3e6fb4134c36b0e41b79fb7806f3",
            "5cc6620974e84e74b9fc0465c99ef0d8",
            "32da358c4da14770a8993013d3ad959e",
            "f73f2c08db224796a25fd487931f7ecd",
            "491db23e4fa348b5aabb08fb9c676c09",
            "ae232e1307ff4f5cbe7d273805fb6f10",
            "51ab4fa59b8c4d07b99fe8ddb052941f",
            "c31d9d18dad84ca48a3754241cc2fff7",
            "12b96dfe170c49bd821fa46c0f373a86",
            "659e066897e04234b87bb5fe99400ba3",
            "1aa2fb75e7c44aacbe4584543bc58355",
            "41effd5a07c74fecbd364d3ba90a4bf6",
            "7eaf0e7552da44c0b635d14fa6cefd8e",
            "5d75222c494c4cf5b45ea36e06345ebe",
            "ece27649fa934b6091d1ad468a351da2",
            "740be6d6db234dd7882170b72247d804",
            "95a9657c06af473fbc5a7b4b89491886",
            "685167c618dc470fb0a113f7eabea555"
          ]
        },
        "id": "iJo_okFclD2p",
        "outputId": "795f941c-4630-48e1-d56c-6cf6e0f3eb11"
      },
      "outputs": [
        {
          "name": "stderr",
          "output_type": "stream",
          "text": [
            "[I 2025-05-13 12:21:50,835] A new study created in memory with name: no-name-986dd6ee-1c7a-4fc0-9187-f6ee6033309f\n",
            "INFO:optuna.storages._in_memory:A new study created in memory with name: no-name-986dd6ee-1c7a-4fc0-9187-f6ee6033309f\n"
          ]
        },
        {
          "name": "stdout",
          "output_type": "stream",
          "text": [
            " Запуск Optuna для RandomForest с log(IC50)...\n"
          ]
        },
        {
          "data": {
            "application/vnd.jupyter.widget-view+json": {
              "model_id": "5bad6419eeab4a44a447e11121c8ceab",
              "version_major": 2,
              "version_minor": 0
            },
            "text/plain": [
              "  0%|          | 0/30 [00:00<?, ?it/s]"
            ]
          },
          "metadata": {},
          "output_type": "display_data"
        },
        {
          "name": "stderr",
          "output_type": "stream",
          "text": [
            "INFO:optuna.study.study:Trial 0 finished with value: 1.3761654646840682 and parameters: {'n_estimators': 50, 'max_depth': 10, 'min_samples_split': 5}. Best is trial 0 with value: 1.3761654646840682.\n"
          ]
        },
        {
          "name": "stdout",
          "output_type": "stream",
          "text": [
            "[I 2025-05-13 12:21:53,591] Trial 0 finished with value: 1.3761654646840682 and parameters: {'n_estimators': 50, 'max_depth': 10, 'min_samples_split': 5}. Best is trial 0 with value: 1.3761654646840682.\n"
          ]
        },
        {
          "name": "stderr",
          "output_type": "stream",
          "text": [
            "INFO:optuna.study.study:Trial 1 finished with value: 1.3952864659970814 and parameters: {'n_estimators': 50, 'max_depth': 5, 'min_samples_split': 5}. Best is trial 0 with value: 1.3761654646840682.\n"
          ]
        },
        {
          "name": "stdout",
          "output_type": "stream",
          "text": [
            "[I 2025-05-13 12:21:54,825] Trial 1 finished with value: 1.3952864659970814 and parameters: {'n_estimators': 50, 'max_depth': 5, 'min_samples_split': 5}. Best is trial 0 with value: 1.3761654646840682.\n"
          ]
        },
        {
          "name": "stderr",
          "output_type": "stream",
          "text": [
            "INFO:optuna.study.study:Trial 2 finished with value: 1.3776442378087042 and parameters: {'n_estimators': 50, 'max_depth': 10, 'min_samples_split': 2}. Best is trial 0 with value: 1.3761654646840682.\n"
          ]
        },
        {
          "name": "stdout",
          "output_type": "stream",
          "text": [
            "[I 2025-05-13 12:21:57,041] Trial 2 finished with value: 1.3776442378087042 and parameters: {'n_estimators': 50, 'max_depth': 10, 'min_samples_split': 2}. Best is trial 0 with value: 1.3761654646840682.\n"
          ]
        },
        {
          "name": "stderr",
          "output_type": "stream",
          "text": [
            "INFO:optuna.study.study:Trial 3 finished with value: 1.3801165105234943 and parameters: {'n_estimators': 50, 'max_depth': None, 'min_samples_split': 5}. Best is trial 0 with value: 1.3761654646840682.\n"
          ]
        },
        {
          "name": "stdout",
          "output_type": "stream",
          "text": [
            "[I 2025-05-13 12:21:59,521] Trial 3 finished with value: 1.3801165105234943 and parameters: {'n_estimators': 50, 'max_depth': None, 'min_samples_split': 5}. Best is trial 0 with value: 1.3761654646840682.\n"
          ]
        },
        {
          "name": "stderr",
          "output_type": "stream",
          "text": [
            "INFO:optuna.study.study:Trial 4 finished with value: 1.3953884491619184 and parameters: {'n_estimators': 200, 'max_depth': None, 'min_samples_split': 5}. Best is trial 0 with value: 1.3761654646840682.\n"
          ]
        },
        {
          "name": "stdout",
          "output_type": "stream",
          "text": [
            "[I 2025-05-13 12:22:10,457] Trial 4 finished with value: 1.3953884491619184 and parameters: {'n_estimators': 200, 'max_depth': None, 'min_samples_split': 5}. Best is trial 0 with value: 1.3761654646840682.\n"
          ]
        },
        {
          "name": "stderr",
          "output_type": "stream",
          "text": [
            "INFO:optuna.study.study:Trial 5 finished with value: 1.3952864659970814 and parameters: {'n_estimators': 50, 'max_depth': 5, 'min_samples_split': 5}. Best is trial 0 with value: 1.3761654646840682.\n"
          ]
        },
        {
          "name": "stdout",
          "output_type": "stream",
          "text": [
            "[I 2025-05-13 12:22:11,696] Trial 5 finished with value: 1.3952864659970814 and parameters: {'n_estimators': 50, 'max_depth': 5, 'min_samples_split': 5}. Best is trial 0 with value: 1.3761654646840682.\n"
          ]
        },
        {
          "name": "stderr",
          "output_type": "stream",
          "text": [
            "INFO:optuna.study.study:Trial 6 finished with value: 1.3973217852079425 and parameters: {'n_estimators': 200, 'max_depth': 5, 'min_samples_split': 5}. Best is trial 0 with value: 1.3761654646840682.\n"
          ]
        },
        {
          "name": "stdout",
          "output_type": "stream",
          "text": [
            "[I 2025-05-13 12:22:16,633] Trial 6 finished with value: 1.3973217852079425 and parameters: {'n_estimators': 200, 'max_depth': 5, 'min_samples_split': 5}. Best is trial 0 with value: 1.3761654646840682.\n"
          ]
        },
        {
          "name": "stderr",
          "output_type": "stream",
          "text": [
            "INFO:optuna.study.study:Trial 7 finished with value: 1.3932119213918783 and parameters: {'n_estimators': 100, 'max_depth': None, 'min_samples_split': 5}. Best is trial 0 with value: 1.3761654646840682.\n"
          ]
        },
        {
          "name": "stdout",
          "output_type": "stream",
          "text": [
            "[I 2025-05-13 12:22:22,608] Trial 7 finished with value: 1.3932119213918783 and parameters: {'n_estimators': 100, 'max_depth': None, 'min_samples_split': 5}. Best is trial 0 with value: 1.3761654646840682.\n"
          ]
        },
        {
          "name": "stderr",
          "output_type": "stream",
          "text": [
            "INFO:optuna.study.study:Trial 8 finished with value: 1.398886291302833 and parameters: {'n_estimators': 200, 'max_depth': None, 'min_samples_split': 2}. Best is trial 0 with value: 1.3761654646840682.\n"
          ]
        },
        {
          "name": "stdout",
          "output_type": "stream",
          "text": [
            "[I 2025-05-13 12:22:34,893] Trial 8 finished with value: 1.398886291302833 and parameters: {'n_estimators': 200, 'max_depth': None, 'min_samples_split': 2}. Best is trial 0 with value: 1.3761654646840682.\n"
          ]
        },
        {
          "name": "stderr",
          "output_type": "stream",
          "text": [
            "INFO:optuna.study.study:Trial 9 finished with value: 1.3871565557814154 and parameters: {'n_estimators': 100, 'max_depth': 10, 'min_samples_split': 2}. Best is trial 0 with value: 1.3761654646840682.\n"
          ]
        },
        {
          "name": "stdout",
          "output_type": "stream",
          "text": [
            "[I 2025-05-13 12:22:39,429] Trial 9 finished with value: 1.3871565557814154 and parameters: {'n_estimators': 100, 'max_depth': 10, 'min_samples_split': 2}. Best is trial 0 with value: 1.3761654646840682.\n"
          ]
        },
        {
          "name": "stderr",
          "output_type": "stream",
          "text": [
            "INFO:optuna.study.study:Trial 10 finished with value: 1.3776442378087042 and parameters: {'n_estimators': 50, 'max_depth': 10, 'min_samples_split': 2}. Best is trial 0 with value: 1.3761654646840682.\n"
          ]
        },
        {
          "name": "stdout",
          "output_type": "stream",
          "text": [
            "[I 2025-05-13 12:22:41,656] Trial 10 finished with value: 1.3776442378087042 and parameters: {'n_estimators': 50, 'max_depth': 10, 'min_samples_split': 2}. Best is trial 0 with value: 1.3761654646840682.\n"
          ]
        },
        {
          "name": "stderr",
          "output_type": "stream",
          "text": [
            "INFO:optuna.study.study:Trial 11 finished with value: 1.3776442378087042 and parameters: {'n_estimators': 50, 'max_depth': 10, 'min_samples_split': 2}. Best is trial 0 with value: 1.3761654646840682.\n"
          ]
        },
        {
          "name": "stdout",
          "output_type": "stream",
          "text": [
            "[I 2025-05-13 12:22:43,881] Trial 11 finished with value: 1.3776442378087042 and parameters: {'n_estimators': 50, 'max_depth': 10, 'min_samples_split': 2}. Best is trial 0 with value: 1.3761654646840682.\n"
          ]
        },
        {
          "name": "stderr",
          "output_type": "stream",
          "text": [
            "INFO:optuna.study.study:Trial 12 finished with value: 1.3776442378087042 and parameters: {'n_estimators': 50, 'max_depth': 10, 'min_samples_split': 2}. Best is trial 0 with value: 1.3761654646840682.\n"
          ]
        },
        {
          "name": "stdout",
          "output_type": "stream",
          "text": [
            "[I 2025-05-13 12:22:46,455] Trial 12 finished with value: 1.3776442378087042 and parameters: {'n_estimators': 50, 'max_depth': 10, 'min_samples_split': 2}. Best is trial 0 with value: 1.3761654646840682.\n"
          ]
        },
        {
          "name": "stderr",
          "output_type": "stream",
          "text": [
            "INFO:optuna.study.study:Trial 13 finished with value: 1.3776442378087042 and parameters: {'n_estimators': 50, 'max_depth': 10, 'min_samples_split': 2}. Best is trial 0 with value: 1.3761654646840682.\n"
          ]
        },
        {
          "name": "stdout",
          "output_type": "stream",
          "text": [
            "[I 2025-05-13 12:22:49,447] Trial 13 finished with value: 1.3776442378087042 and parameters: {'n_estimators': 50, 'max_depth': 10, 'min_samples_split': 2}. Best is trial 0 with value: 1.3761654646840682.\n"
          ]
        },
        {
          "name": "stderr",
          "output_type": "stream",
          "text": [
            "INFO:optuna.study.study:Trial 14 finished with value: 1.3761654646840682 and parameters: {'n_estimators': 50, 'max_depth': 10, 'min_samples_split': 5}. Best is trial 0 with value: 1.3761654646840682.\n"
          ]
        },
        {
          "name": "stdout",
          "output_type": "stream",
          "text": [
            "[I 2025-05-13 12:22:51,565] Trial 14 finished with value: 1.3761654646840682 and parameters: {'n_estimators': 50, 'max_depth': 10, 'min_samples_split': 5}. Best is trial 0 with value: 1.3761654646840682.\n"
          ]
        },
        {
          "name": "stderr",
          "output_type": "stream",
          "text": [
            "INFO:optuna.study.study:Trial 15 finished with value: 1.3825571600756663 and parameters: {'n_estimators': 100, 'max_depth': 10, 'min_samples_split': 5}. Best is trial 0 with value: 1.3761654646840682.\n"
          ]
        },
        {
          "name": "stdout",
          "output_type": "stream",
          "text": [
            "[I 2025-05-13 12:22:55,726] Trial 15 finished with value: 1.3825571600756663 and parameters: {'n_estimators': 100, 'max_depth': 10, 'min_samples_split': 5}. Best is trial 0 with value: 1.3761654646840682.\n"
          ]
        },
        {
          "name": "stderr",
          "output_type": "stream",
          "text": [
            "INFO:optuna.study.study:Trial 16 finished with value: 1.3761654646840682 and parameters: {'n_estimators': 50, 'max_depth': 10, 'min_samples_split': 5}. Best is trial 0 with value: 1.3761654646840682.\n"
          ]
        },
        {
          "name": "stdout",
          "output_type": "stream",
          "text": [
            "[I 2025-05-13 12:22:57,817] Trial 16 finished with value: 1.3761654646840682 and parameters: {'n_estimators': 50, 'max_depth': 10, 'min_samples_split': 5}. Best is trial 0 with value: 1.3761654646840682.\n"
          ]
        },
        {
          "name": "stderr",
          "output_type": "stream",
          "text": [
            "INFO:optuna.study.study:Trial 17 finished with value: 1.3761654646840682 and parameters: {'n_estimators': 50, 'max_depth': 10, 'min_samples_split': 5}. Best is trial 0 with value: 1.3761654646840682.\n"
          ]
        },
        {
          "name": "stdout",
          "output_type": "stream",
          "text": [
            "[I 2025-05-13 12:23:00,112] Trial 17 finished with value: 1.3761654646840682 and parameters: {'n_estimators': 50, 'max_depth': 10, 'min_samples_split': 5}. Best is trial 0 with value: 1.3761654646840682.\n"
          ]
        },
        {
          "name": "stderr",
          "output_type": "stream",
          "text": [
            "INFO:optuna.study.study:Trial 18 finished with value: 1.3825571600756663 and parameters: {'n_estimators': 100, 'max_depth': 10, 'min_samples_split': 5}. Best is trial 0 with value: 1.3761654646840682.\n"
          ]
        },
        {
          "name": "stdout",
          "output_type": "stream",
          "text": [
            "[I 2025-05-13 12:23:05,150] Trial 18 finished with value: 1.3825571600756663 and parameters: {'n_estimators': 100, 'max_depth': 10, 'min_samples_split': 5}. Best is trial 0 with value: 1.3761654646840682.\n"
          ]
        },
        {
          "name": "stderr",
          "output_type": "stream",
          "text": [
            "INFO:optuna.study.study:Trial 19 finished with value: 1.3973217852079425 and parameters: {'n_estimators': 200, 'max_depth': 5, 'min_samples_split': 5}. Best is trial 0 with value: 1.3761654646840682.\n"
          ]
        },
        {
          "name": "stdout",
          "output_type": "stream",
          "text": [
            "[I 2025-05-13 12:23:10,051] Trial 19 finished with value: 1.3973217852079425 and parameters: {'n_estimators': 200, 'max_depth': 5, 'min_samples_split': 5}. Best is trial 0 with value: 1.3761654646840682.\n"
          ]
        },
        {
          "name": "stderr",
          "output_type": "stream",
          "text": [
            "INFO:optuna.study.study:Trial 20 finished with value: 1.3761654646840682 and parameters: {'n_estimators': 50, 'max_depth': 10, 'min_samples_split': 5}. Best is trial 0 with value: 1.3761654646840682.\n"
          ]
        },
        {
          "name": "stdout",
          "output_type": "stream",
          "text": [
            "[I 2025-05-13 12:23:12,145] Trial 20 finished with value: 1.3761654646840682 and parameters: {'n_estimators': 50, 'max_depth': 10, 'min_samples_split': 5}. Best is trial 0 with value: 1.3761654646840682.\n"
          ]
        },
        {
          "name": "stderr",
          "output_type": "stream",
          "text": [
            "INFO:optuna.study.study:Trial 21 finished with value: 1.3761654646840682 and parameters: {'n_estimators': 50, 'max_depth': 10, 'min_samples_split': 5}. Best is trial 0 with value: 1.3761654646840682.\n"
          ]
        },
        {
          "name": "stdout",
          "output_type": "stream",
          "text": [
            "[I 2025-05-13 12:23:14,587] Trial 21 finished with value: 1.3761654646840682 and parameters: {'n_estimators': 50, 'max_depth': 10, 'min_samples_split': 5}. Best is trial 0 with value: 1.3761654646840682.\n"
          ]
        },
        {
          "name": "stderr",
          "output_type": "stream",
          "text": [
            "INFO:optuna.study.study:Trial 22 finished with value: 1.3761654646840682 and parameters: {'n_estimators': 50, 'max_depth': 10, 'min_samples_split': 5}. Best is trial 0 with value: 1.3761654646840682.\n"
          ]
        },
        {
          "name": "stdout",
          "output_type": "stream",
          "text": [
            "[I 2025-05-13 12:23:17,458] Trial 22 finished with value: 1.3761654646840682 and parameters: {'n_estimators': 50, 'max_depth': 10, 'min_samples_split': 5}. Best is trial 0 with value: 1.3761654646840682.\n"
          ]
        },
        {
          "name": "stderr",
          "output_type": "stream",
          "text": [
            "INFO:optuna.study.study:Trial 23 finished with value: 1.3761654646840682 and parameters: {'n_estimators': 50, 'max_depth': 10, 'min_samples_split': 5}. Best is trial 0 with value: 1.3761654646840682.\n"
          ]
        },
        {
          "name": "stdout",
          "output_type": "stream",
          "text": [
            "[I 2025-05-13 12:23:19,554] Trial 23 finished with value: 1.3761654646840682 and parameters: {'n_estimators': 50, 'max_depth': 10, 'min_samples_split': 5}. Best is trial 0 with value: 1.3761654646840682.\n"
          ]
        },
        {
          "name": "stderr",
          "output_type": "stream",
          "text": [
            "INFO:optuna.study.study:Trial 24 finished with value: 1.3761654646840682 and parameters: {'n_estimators': 50, 'max_depth': 10, 'min_samples_split': 5}. Best is trial 0 with value: 1.3761654646840682.\n"
          ]
        },
        {
          "name": "stdout",
          "output_type": "stream",
          "text": [
            "[I 2025-05-13 12:23:21,669] Trial 24 finished with value: 1.3761654646840682 and parameters: {'n_estimators': 50, 'max_depth': 10, 'min_samples_split': 5}. Best is trial 0 with value: 1.3761654646840682.\n"
          ]
        },
        {
          "name": "stderr",
          "output_type": "stream",
          "text": [
            "INFO:optuna.study.study:Trial 25 finished with value: 1.3761654646840682 and parameters: {'n_estimators': 50, 'max_depth': 10, 'min_samples_split': 5}. Best is trial 0 with value: 1.3761654646840682.\n"
          ]
        },
        {
          "name": "stdout",
          "output_type": "stream",
          "text": [
            "[I 2025-05-13 12:23:23,762] Trial 25 finished with value: 1.3761654646840682 and parameters: {'n_estimators': 50, 'max_depth': 10, 'min_samples_split': 5}. Best is trial 0 with value: 1.3761654646840682.\n"
          ]
        },
        {
          "name": "stderr",
          "output_type": "stream",
          "text": [
            "INFO:optuna.study.study:Trial 26 finished with value: 1.3761654646840682 and parameters: {'n_estimators': 50, 'max_depth': 10, 'min_samples_split': 5}. Best is trial 0 with value: 1.3761654646840682.\n"
          ]
        },
        {
          "name": "stdout",
          "output_type": "stream",
          "text": [
            "[I 2025-05-13 12:23:25,870] Trial 26 finished with value: 1.3761654646840682 and parameters: {'n_estimators': 50, 'max_depth': 10, 'min_samples_split': 5}. Best is trial 0 with value: 1.3761654646840682.\n"
          ]
        },
        {
          "name": "stderr",
          "output_type": "stream",
          "text": [
            "INFO:optuna.study.study:Trial 27 finished with value: 1.3761654646840682 and parameters: {'n_estimators': 50, 'max_depth': 10, 'min_samples_split': 5}. Best is trial 0 with value: 1.3761654646840682.\n"
          ]
        },
        {
          "name": "stdout",
          "output_type": "stream",
          "text": [
            "[I 2025-05-13 12:23:28,174] Trial 27 finished with value: 1.3761654646840682 and parameters: {'n_estimators': 50, 'max_depth': 10, 'min_samples_split': 5}. Best is trial 0 with value: 1.3761654646840682.\n"
          ]
        },
        {
          "name": "stderr",
          "output_type": "stream",
          "text": [
            "INFO:optuna.study.study:Trial 28 finished with value: 1.3932119213918783 and parameters: {'n_estimators': 100, 'max_depth': None, 'min_samples_split': 5}. Best is trial 0 with value: 1.3761654646840682.\n"
          ]
        },
        {
          "name": "stdout",
          "output_type": "stream",
          "text": [
            "[I 2025-05-13 12:23:33,986] Trial 28 finished with value: 1.3932119213918783 and parameters: {'n_estimators': 100, 'max_depth': None, 'min_samples_split': 5}. Best is trial 0 with value: 1.3761654646840682.\n"
          ]
        },
        {
          "name": "stderr",
          "output_type": "stream",
          "text": [
            "INFO:optuna.study.study:Trial 29 finished with value: 1.3973217852079425 and parameters: {'n_estimators': 200, 'max_depth': 5, 'min_samples_split': 5}. Best is trial 0 with value: 1.3761654646840682.\n"
          ]
        },
        {
          "name": "stdout",
          "output_type": "stream",
          "text": [
            "[I 2025-05-13 12:23:38,895] Trial 29 finished with value: 1.3973217852079425 and parameters: {'n_estimators': 200, 'max_depth': 5, 'min_samples_split': 5}. Best is trial 0 with value: 1.3761654646840682.\n"
          ]
        },
        {
          "name": "stderr",
          "output_type": "stream",
          "text": [
            "[I 2025-05-13 12:23:40,999] A new study created in memory with name: no-name-52fba235-9c23-4737-863c-2033f512fdd8\n",
            "INFO:optuna.storages._in_memory:A new study created in memory with name: no-name-52fba235-9c23-4737-863c-2033f512fdd8\n"
          ]
        },
        {
          "name": "stdout",
          "output_type": "stream",
          "text": [
            " Запуск Optuna для GradientBoosting с log(IC50)...\n"
          ]
        },
        {
          "data": {
            "application/vnd.jupyter.widget-view+json": {
              "model_id": "653ace3793924addb4aec10ddcefe408",
              "version_major": 2,
              "version_minor": 0
            },
            "text/plain": [
              "  0%|          | 0/30 [00:00<?, ?it/s]"
            ]
          },
          "metadata": {},
          "output_type": "display_data"
        },
        {
          "name": "stderr",
          "output_type": "stream",
          "text": [
            "INFO:optuna.study.study:Trial 0 finished with value: 1.4033373151792943 and parameters: {'learning_rate': 0.036662752706680485, 'n_estimators': 50, 'max_depth': 3}. Best is trial 0 with value: 1.4033373151792943.\n"
          ]
        },
        {
          "name": "stdout",
          "output_type": "stream",
          "text": [
            "[I 2025-05-13 12:23:42,445] Trial 0 finished with value: 1.4033373151792943 and parameters: {'learning_rate': 0.036662752706680485, 'n_estimators': 50, 'max_depth': 3}. Best is trial 0 with value: 1.4033373151792943.\n"
          ]
        },
        {
          "name": "stderr",
          "output_type": "stream",
          "text": [
            "INFO:optuna.study.study:Trial 1 finished with value: 1.4716088974732544 and parameters: {'learning_rate': 0.03556308992914039, 'n_estimators': 200, 'max_depth': 7}. Best is trial 0 with value: 1.4033373151792943.\n"
          ]
        },
        {
          "name": "stdout",
          "output_type": "stream",
          "text": [
            "[I 2025-05-13 12:23:53,508] Trial 1 finished with value: 1.4716088974732544 and parameters: {'learning_rate': 0.03556308992914039, 'n_estimators': 200, 'max_depth': 7}. Best is trial 0 with value: 1.4033373151792943.\n"
          ]
        },
        {
          "name": "stderr",
          "output_type": "stream",
          "text": [
            "INFO:optuna.study.study:Trial 2 finished with value: 1.5333074284822066 and parameters: {'learning_rate': 0.1749804877285382, 'n_estimators': 200, 'max_depth': 5}. Best is trial 0 with value: 1.4033373151792943.\n"
          ]
        },
        {
          "name": "stdout",
          "output_type": "stream",
          "text": [
            "[I 2025-05-13 12:24:02,103] Trial 2 finished with value: 1.5333074284822066 and parameters: {'learning_rate': 0.1749804877285382, 'n_estimators': 200, 'max_depth': 5}. Best is trial 0 with value: 1.4033373151792943.\n"
          ]
        },
        {
          "name": "stderr",
          "output_type": "stream",
          "text": [
            "INFO:optuna.study.study:Trial 3 finished with value: 1.405280046802389 and parameters: {'learning_rate': 0.03697973050227492, 'n_estimators': 50, 'max_depth': 7}. Best is trial 0 with value: 1.4033373151792943.\n"
          ]
        },
        {
          "name": "stdout",
          "output_type": "stream",
          "text": [
            "[I 2025-05-13 12:24:04,637] Trial 3 finished with value: 1.405280046802389 and parameters: {'learning_rate': 0.03697973050227492, 'n_estimators': 50, 'max_depth': 7}. Best is trial 0 with value: 1.4033373151792943.\n"
          ]
        },
        {
          "name": "stderr",
          "output_type": "stream",
          "text": [
            "INFO:optuna.study.study:Trial 4 finished with value: 1.518695689201002 and parameters: {'learning_rate': 0.07061362680209622, 'n_estimators': 200, 'max_depth': 7}. Best is trial 0 with value: 1.4033373151792943.\n"
          ]
        },
        {
          "name": "stdout",
          "output_type": "stream",
          "text": [
            "[I 2025-05-13 12:24:15,948] Trial 4 finished with value: 1.518695689201002 and parameters: {'learning_rate': 0.07061362680209622, 'n_estimators': 200, 'max_depth': 7}. Best is trial 0 with value: 1.4033373151792943.\n"
          ]
        },
        {
          "name": "stderr",
          "output_type": "stream",
          "text": [
            "INFO:optuna.study.study:Trial 5 finished with value: 1.4657474773819472 and parameters: {'learning_rate': 0.1530280319297586, 'n_estimators': 200, 'max_depth': 7}. Best is trial 0 with value: 1.4033373151792943.\n"
          ]
        },
        {
          "name": "stdout",
          "output_type": "stream",
          "text": [
            "[I 2025-05-13 12:24:27,274] Trial 5 finished with value: 1.4657474773819472 and parameters: {'learning_rate': 0.1530280319297586, 'n_estimators': 200, 'max_depth': 7}. Best is trial 0 with value: 1.4033373151792943.\n"
          ]
        },
        {
          "name": "stderr",
          "output_type": "stream",
          "text": [
            "INFO:optuna.study.study:Trial 6 finished with value: 1.4994545672312891 and parameters: {'learning_rate': 0.1906211508702065, 'n_estimators': 200, 'max_depth': 3}. Best is trial 0 with value: 1.4033373151792943.\n"
          ]
        },
        {
          "name": "stdout",
          "output_type": "stream",
          "text": [
            "[I 2025-05-13 12:24:31,993] Trial 6 finished with value: 1.4994545672312891 and parameters: {'learning_rate': 0.1906211508702065, 'n_estimators': 200, 'max_depth': 3}. Best is trial 0 with value: 1.4033373151792943.\n"
          ]
        },
        {
          "name": "stderr",
          "output_type": "stream",
          "text": [
            "INFO:optuna.study.study:Trial 7 finished with value: 1.431794692683689 and parameters: {'learning_rate': 0.15096469017828312, 'n_estimators': 50, 'max_depth': 5}. Best is trial 0 with value: 1.4033373151792943.\n"
          ]
        },
        {
          "name": "stdout",
          "output_type": "stream",
          "text": [
            "[I 2025-05-13 12:24:33,891] Trial 7 finished with value: 1.431794692683689 and parameters: {'learning_rate': 0.15096469017828312, 'n_estimators': 50, 'max_depth': 5}. Best is trial 0 with value: 1.4033373151792943.\n"
          ]
        },
        {
          "name": "stderr",
          "output_type": "stream",
          "text": [
            "INFO:optuna.study.study:Trial 8 finished with value: 1.4895191228210434 and parameters: {'learning_rate': 0.1185213464583198, 'n_estimators': 200, 'max_depth': 7}. Best is trial 0 with value: 1.4033373151792943.\n"
          ]
        },
        {
          "name": "stdout",
          "output_type": "stream",
          "text": [
            "[I 2025-05-13 12:24:45,305] Trial 8 finished with value: 1.4895191228210434 and parameters: {'learning_rate': 0.1185213464583198, 'n_estimators': 200, 'max_depth': 7}. Best is trial 0 with value: 1.4033373151792943.\n"
          ]
        },
        {
          "name": "stderr",
          "output_type": "stream",
          "text": [
            "INFO:optuna.study.study:Trial 9 finished with value: 1.44009191877848 and parameters: {'learning_rate': 0.08215337980893882, 'n_estimators': 100, 'max_depth': 3}. Best is trial 0 with value: 1.4033373151792943.\n"
          ]
        },
        {
          "name": "stdout",
          "output_type": "stream",
          "text": [
            "[I 2025-05-13 12:24:47,646] Trial 9 finished with value: 1.44009191877848 and parameters: {'learning_rate': 0.08215337980893882, 'n_estimators': 100, 'max_depth': 3}. Best is trial 0 with value: 1.4033373151792943.\n"
          ]
        },
        {
          "name": "stderr",
          "output_type": "stream",
          "text": [
            "INFO:optuna.study.study:Trial 10 finished with value: 1.5222588964496508 and parameters: {'learning_rate': 0.012015241354018824, 'n_estimators': 50, 'max_depth': 3}. Best is trial 0 with value: 1.4033373151792943.\n"
          ]
        },
        {
          "name": "stdout",
          "output_type": "stream",
          "text": [
            "[I 2025-05-13 12:24:48,802] Trial 10 finished with value: 1.5222588964496508 and parameters: {'learning_rate': 0.012015241354018824, 'n_estimators': 50, 'max_depth': 3}. Best is trial 0 with value: 1.4033373151792943.\n"
          ]
        },
        {
          "name": "stderr",
          "output_type": "stream",
          "text": [
            "INFO:optuna.study.study:Trial 11 finished with value: 1.3974515050948941 and parameters: {'learning_rate': 0.049983792179172655, 'n_estimators': 50, 'max_depth': 3}. Best is trial 11 with value: 1.3974515050948941.\n"
          ]
        },
        {
          "name": "stdout",
          "output_type": "stream",
          "text": [
            "[I 2025-05-13 12:24:49,964] Trial 11 finished with value: 1.3974515050948941 and parameters: {'learning_rate': 0.049983792179172655, 'n_estimators': 50, 'max_depth': 3}. Best is trial 11 with value: 1.3974515050948941.\n"
          ]
        },
        {
          "name": "stderr",
          "output_type": "stream",
          "text": [
            "INFO:optuna.study.study:Trial 12 finished with value: 1.3971816708142821 and parameters: {'learning_rate': 0.06527711288310709, 'n_estimators': 50, 'max_depth': 3}. Best is trial 12 with value: 1.3971816708142821.\n"
          ]
        },
        {
          "name": "stdout",
          "output_type": "stream",
          "text": [
            "[I 2025-05-13 12:24:51,135] Trial 12 finished with value: 1.3971816708142821 and parameters: {'learning_rate': 0.06527711288310709, 'n_estimators': 50, 'max_depth': 3}. Best is trial 12 with value: 1.3971816708142821.\n"
          ]
        },
        {
          "name": "stderr",
          "output_type": "stream",
          "text": [
            "INFO:optuna.study.study:Trial 13 finished with value: 1.413497017194799 and parameters: {'learning_rate': 0.08047300553631644, 'n_estimators': 50, 'max_depth': 3}. Best is trial 12 with value: 1.3971816708142821.\n"
          ]
        },
        {
          "name": "stdout",
          "output_type": "stream",
          "text": [
            "[I 2025-05-13 12:24:52,608] Trial 13 finished with value: 1.413497017194799 and parameters: {'learning_rate': 0.08047300553631644, 'n_estimators': 50, 'max_depth': 3}. Best is trial 12 with value: 1.3971816708142821.\n"
          ]
        },
        {
          "name": "stderr",
          "output_type": "stream",
          "text": [
            "INFO:optuna.study.study:Trial 14 finished with value: 1.4246364925171167 and parameters: {'learning_rate': 0.06007486030348572, 'n_estimators': 100, 'max_depth': 3}. Best is trial 12 with value: 1.3971816708142821.\n"
          ]
        },
        {
          "name": "stdout",
          "output_type": "stream",
          "text": [
            "[I 2025-05-13 12:24:55,654] Trial 14 finished with value: 1.4246364925171167 and parameters: {'learning_rate': 0.06007486030348572, 'n_estimators': 100, 'max_depth': 3}. Best is trial 12 with value: 1.3971816708142821.\n"
          ]
        },
        {
          "name": "stderr",
          "output_type": "stream",
          "text": [
            "INFO:optuna.study.study:Trial 15 finished with value: 1.4187794350356768 and parameters: {'learning_rate': 0.10740105702158895, 'n_estimators': 50, 'max_depth': 3}. Best is trial 12 with value: 1.3971816708142821.\n"
          ]
        },
        {
          "name": "stdout",
          "output_type": "stream",
          "text": [
            "[I 2025-05-13 12:24:56,820] Trial 15 finished with value: 1.4187794350356768 and parameters: {'learning_rate': 0.10740105702158895, 'n_estimators': 50, 'max_depth': 3}. Best is trial 12 with value: 1.3971816708142821.\n"
          ]
        },
        {
          "name": "stderr",
          "output_type": "stream",
          "text": [
            "INFO:optuna.study.study:Trial 16 finished with value: 1.394831465629125 and parameters: {'learning_rate': 0.05738659139805542, 'n_estimators': 50, 'max_depth': 3}. Best is trial 16 with value: 1.394831465629125.\n"
          ]
        },
        {
          "name": "stdout",
          "output_type": "stream",
          "text": [
            "[I 2025-05-13 12:24:57,983] Trial 16 finished with value: 1.394831465629125 and parameters: {'learning_rate': 0.05738659139805542, 'n_estimators': 50, 'max_depth': 3}. Best is trial 16 with value: 1.394831465629125.\n"
          ]
        },
        {
          "name": "stderr",
          "output_type": "stream",
          "text": [
            "INFO:optuna.study.study:Trial 17 finished with value: 1.4351898048232317 and parameters: {'learning_rate': 0.09384235353883594, 'n_estimators': 50, 'max_depth': 5}. Best is trial 16 with value: 1.394831465629125.\n"
          ]
        },
        {
          "name": "stdout",
          "output_type": "stream",
          "text": [
            "[I 2025-05-13 12:24:59,848] Trial 17 finished with value: 1.4351898048232317 and parameters: {'learning_rate': 0.09384235353883594, 'n_estimators': 50, 'max_depth': 5}. Best is trial 16 with value: 1.394831465629125.\n"
          ]
        },
        {
          "name": "stderr",
          "output_type": "stream",
          "text": [
            "INFO:optuna.study.study:Trial 18 finished with value: 1.4432941990603094 and parameters: {'learning_rate': 0.011695568540647294, 'n_estimators': 100, 'max_depth': 3}. Best is trial 16 with value: 1.394831465629125.\n"
          ]
        },
        {
          "name": "stdout",
          "output_type": "stream",
          "text": [
            "[I 2025-05-13 12:25:02,164] Trial 18 finished with value: 1.4432941990603094 and parameters: {'learning_rate': 0.011695568540647294, 'n_estimators': 100, 'max_depth': 3}. Best is trial 16 with value: 1.394831465629125.\n"
          ]
        },
        {
          "name": "stderr",
          "output_type": "stream",
          "text": [
            "INFO:optuna.study.study:Trial 19 finished with value: 1.4155610751122698 and parameters: {'learning_rate': 0.12489963013854248, 'n_estimators': 50, 'max_depth': 3}. Best is trial 16 with value: 1.394831465629125.\n"
          ]
        },
        {
          "name": "stdout",
          "output_type": "stream",
          "text": [
            "[I 2025-05-13 12:25:03,359] Trial 19 finished with value: 1.4155610751122698 and parameters: {'learning_rate': 0.12489963013854248, 'n_estimators': 50, 'max_depth': 3}. Best is trial 16 with value: 1.394831465629125.\n"
          ]
        },
        {
          "name": "stderr",
          "output_type": "stream",
          "text": [
            "INFO:optuna.study.study:Trial 20 finished with value: 1.4059789520160015 and parameters: {'learning_rate': 0.054273232634742145, 'n_estimators': 50, 'max_depth': 5}. Best is trial 16 with value: 1.394831465629125.\n"
          ]
        },
        {
          "name": "stdout",
          "output_type": "stream",
          "text": [
            "[I 2025-05-13 12:25:05,208] Trial 20 finished with value: 1.4059789520160015 and parameters: {'learning_rate': 0.054273232634742145, 'n_estimators': 50, 'max_depth': 5}. Best is trial 16 with value: 1.394831465629125.\n"
          ]
        },
        {
          "name": "stderr",
          "output_type": "stream",
          "text": [
            "INFO:optuna.study.study:Trial 21 finished with value: 1.3982906531059953 and parameters: {'learning_rate': 0.05439476088626135, 'n_estimators': 50, 'max_depth': 3}. Best is trial 16 with value: 1.394831465629125.\n"
          ]
        },
        {
          "name": "stdout",
          "output_type": "stream",
          "text": [
            "[I 2025-05-13 12:25:06,704] Trial 21 finished with value: 1.3982906531059953 and parameters: {'learning_rate': 0.05439476088626135, 'n_estimators': 50, 'max_depth': 3}. Best is trial 16 with value: 1.394831465629125.\n"
          ]
        },
        {
          "name": "stderr",
          "output_type": "stream",
          "text": [
            "INFO:optuna.study.study:Trial 22 finished with value: 1.3982129042541194 and parameters: {'learning_rate': 0.038416034359276666, 'n_estimators': 50, 'max_depth': 3}. Best is trial 16 with value: 1.394831465629125.\n"
          ]
        },
        {
          "name": "stdout",
          "output_type": "stream",
          "text": [
            "[I 2025-05-13 12:25:08,253] Trial 22 finished with value: 1.3982129042541194 and parameters: {'learning_rate': 0.038416034359276666, 'n_estimators': 50, 'max_depth': 3}. Best is trial 16 with value: 1.394831465629125.\n"
          ]
        },
        {
          "name": "stderr",
          "output_type": "stream",
          "text": [
            "INFO:optuna.study.study:Trial 23 finished with value: 1.4012684004656795 and parameters: {'learning_rate': 0.0681321417191037, 'n_estimators': 50, 'max_depth': 3}. Best is trial 16 with value: 1.394831465629125.\n"
          ]
        },
        {
          "name": "stdout",
          "output_type": "stream",
          "text": [
            "[I 2025-05-13 12:25:09,737] Trial 23 finished with value: 1.4012684004656795 and parameters: {'learning_rate': 0.0681321417191037, 'n_estimators': 50, 'max_depth': 3}. Best is trial 16 with value: 1.394831465629125.\n"
          ]
        },
        {
          "name": "stderr",
          "output_type": "stream",
          "text": [
            "INFO:optuna.study.study:Trial 24 finished with value: 1.4020654935206778 and parameters: {'learning_rate': 0.09544308034849305, 'n_estimators': 50, 'max_depth': 3}. Best is trial 16 with value: 1.394831465629125.\n"
          ]
        },
        {
          "name": "stdout",
          "output_type": "stream",
          "text": [
            "[I 2025-05-13 12:25:10,926] Trial 24 finished with value: 1.4020654935206778 and parameters: {'learning_rate': 0.09544308034849305, 'n_estimators': 50, 'max_depth': 3}. Best is trial 16 with value: 1.394831465629125.\n"
          ]
        },
        {
          "name": "stderr",
          "output_type": "stream",
          "text": [
            "INFO:optuna.study.study:Trial 25 finished with value: 1.412473518370119 and parameters: {'learning_rate': 0.0490335542789843, 'n_estimators': 100, 'max_depth': 3}. Best is trial 16 with value: 1.394831465629125.\n"
          ]
        },
        {
          "name": "stdout",
          "output_type": "stream",
          "text": [
            "[I 2025-05-13 12:25:13,267] Trial 25 finished with value: 1.412473518370119 and parameters: {'learning_rate': 0.0490335542789843, 'n_estimators': 100, 'max_depth': 3}. Best is trial 16 with value: 1.394831465629125.\n"
          ]
        },
        {
          "name": "stderr",
          "output_type": "stream",
          "text": [
            "INFO:optuna.study.study:Trial 26 finished with value: 1.4648810769236182 and parameters: {'learning_rate': 0.02030727153581206, 'n_estimators': 50, 'max_depth': 3}. Best is trial 16 with value: 1.394831465629125.\n"
          ]
        },
        {
          "name": "stdout",
          "output_type": "stream",
          "text": [
            "[I 2025-05-13 12:25:14,441] Trial 26 finished with value: 1.4648810769236182 and parameters: {'learning_rate': 0.02030727153581206, 'n_estimators': 50, 'max_depth': 3}. Best is trial 16 with value: 1.394831465629125.\n"
          ]
        },
        {
          "name": "stderr",
          "output_type": "stream",
          "text": [
            "INFO:optuna.study.study:Trial 27 finished with value: 1.4154646041367736 and parameters: {'learning_rate': 0.08231963244173186, 'n_estimators': 50, 'max_depth': 3}. Best is trial 16 with value: 1.394831465629125.\n"
          ]
        },
        {
          "name": "stdout",
          "output_type": "stream",
          "text": [
            "[I 2025-05-13 12:25:15,638] Trial 27 finished with value: 1.4154646041367736 and parameters: {'learning_rate': 0.08231963244173186, 'n_estimators': 50, 'max_depth': 3}. Best is trial 16 with value: 1.394831465629125.\n"
          ]
        },
        {
          "name": "stderr",
          "output_type": "stream",
          "text": [
            "INFO:optuna.study.study:Trial 28 finished with value: 1.4137190379263178 and parameters: {'learning_rate': 0.02754999965503939, 'n_estimators': 50, 'max_depth': 5}. Best is trial 16 with value: 1.394831465629125.\n"
          ]
        },
        {
          "name": "stdout",
          "output_type": "stream",
          "text": [
            "[I 2025-05-13 12:25:17,522] Trial 28 finished with value: 1.4137190379263178 and parameters: {'learning_rate': 0.02754999965503939, 'n_estimators': 50, 'max_depth': 5}. Best is trial 16 with value: 1.394831465629125.\n"
          ]
        },
        {
          "name": "stderr",
          "output_type": "stream",
          "text": [
            "INFO:optuna.study.study:Trial 29 finished with value: 1.4042825796664629 and parameters: {'learning_rate': 0.04464061327534947, 'n_estimators': 50, 'max_depth': 3}. Best is trial 16 with value: 1.394831465629125.\n"
          ]
        },
        {
          "name": "stdout",
          "output_type": "stream",
          "text": [
            "[I 2025-05-13 12:25:18,706] Trial 29 finished with value: 1.4042825796664629 and parameters: {'learning_rate': 0.04464061327534947, 'n_estimators': 50, 'max_depth': 3}. Best is trial 16 with value: 1.394831465629125.\n"
          ]
        },
        {
          "name": "stderr",
          "output_type": "stream",
          "text": [
            "[I 2025-05-13 12:25:20,022] A new study created in memory with name: no-name-31b3013b-b713-4907-91b6-f1224b549471\n",
            "INFO:optuna.storages._in_memory:A new study created in memory with name: no-name-31b3013b-b713-4907-91b6-f1224b549471\n"
          ]
        },
        {
          "name": "stdout",
          "output_type": "stream",
          "text": [
            " Запуск Optuna для SVR с log(IC50)...\n"
          ]
        },
        {
          "data": {
            "application/vnd.jupyter.widget-view+json": {
              "model_id": "b59427d1036c451dafcf9145942416c5",
              "version_major": 2,
              "version_minor": 0
            },
            "text/plain": [
              "  0%|          | 0/30 [00:00<?, ?it/s]"
            ]
          },
          "metadata": {},
          "output_type": "display_data"
        },
        {
          "name": "stderr",
          "output_type": "stream",
          "text": [
            "INFO:optuna.study.study:Trial 0 finished with value: 1.769281385501266 and parameters: {'C': 1, 'epsilon': 0.1539035192515322, 'kernel': 'linear'}. Best is trial 0 with value: 1.769281385501266.\n"
          ]
        },
        {
          "name": "stdout",
          "output_type": "stream",
          "text": [
            "[I 2025-05-13 12:25:22,427] Trial 0 finished with value: 1.769281385501266 and parameters: {'C': 1, 'epsilon': 0.1539035192515322, 'kernel': 'linear'}. Best is trial 0 with value: 1.769281385501266.\n"
          ]
        },
        {
          "name": "stderr",
          "output_type": "stream",
          "text": [
            "INFO:optuna.study.study:Trial 1 finished with value: 1.7809585566381705 and parameters: {'C': 1, 'epsilon': 0.18392146549440266, 'kernel': 'linear'}. Best is trial 0 with value: 1.769281385501266.\n",
            "INFO:optuna.study.study:Trial 2 finished with value: 1.5002973582140686 and parameters: {'C': 10, 'epsilon': 0.18591264404505548, 'kernel': 'rbf'}. Best is trial 2 with value: 1.5002973582140686.\n"
          ]
        },
        {
          "name": "stdout",
          "output_type": "stream",
          "text": [
            "[I 2025-05-13 12:25:24,509] Trial 1 finished with value: 1.7809585566381705 and parameters: {'C': 1, 'epsilon': 0.18392146549440266, 'kernel': 'linear'}. Best is trial 0 with value: 1.769281385501266.\n",
            "[I 2025-05-13 12:25:24,646] Trial 2 finished with value: 1.5002973582140686 and parameters: {'C': 10, 'epsilon': 0.18591264404505548, 'kernel': 'rbf'}. Best is trial 2 with value: 1.5002973582140686.\n"
          ]
        },
        {
          "name": "stderr",
          "output_type": "stream",
          "text": [
            "INFO:optuna.study.study:Trial 3 finished with value: 1.7704208283988894 and parameters: {'C': 1, 'epsilon': 0.12800784067361892, 'kernel': 'linear'}. Best is trial 2 with value: 1.5002973582140686.\n",
            "INFO:optuna.study.study:Trial 4 finished with value: 1.557923846210592 and parameters: {'C': 0.1, 'epsilon': 0.19218157558969973, 'kernel': 'rbf'}. Best is trial 2 with value: 1.5002973582140686.\n"
          ]
        },
        {
          "name": "stdout",
          "output_type": "stream",
          "text": [
            "[I 2025-05-13 12:25:26,422] Trial 3 finished with value: 1.7704208283988894 and parameters: {'C': 1, 'epsilon': 0.12800784067361892, 'kernel': 'linear'}. Best is trial 2 with value: 1.5002973582140686.\n",
            "[I 2025-05-13 12:25:26,556] Trial 4 finished with value: 1.557923846210592 and parameters: {'C': 0.1, 'epsilon': 0.19218157558969973, 'kernel': 'rbf'}. Best is trial 2 with value: 1.5002973582140686.\n"
          ]
        },
        {
          "name": "stderr",
          "output_type": "stream",
          "text": [
            "INFO:optuna.study.study:Trial 5 finished with value: 1.7684981473578483 and parameters: {'C': 1, 'epsilon': 0.12057170391450378, 'kernel': 'linear'}. Best is trial 2 with value: 1.5002973582140686.\n",
            "INFO:optuna.study.study:Trial 6 finished with value: 1.5589090475469995 and parameters: {'C': 0.1, 'epsilon': 0.17631432148453108, 'kernel': 'rbf'}. Best is trial 2 with value: 1.5002973582140686.\n"
          ]
        },
        {
          "name": "stdout",
          "output_type": "stream",
          "text": [
            "[I 2025-05-13 12:25:27,838] Trial 5 finished with value: 1.7684981473578483 and parameters: {'C': 1, 'epsilon': 0.12057170391450378, 'kernel': 'linear'}. Best is trial 2 with value: 1.5002973582140686.\n",
            "[I 2025-05-13 12:25:27,952] Trial 6 finished with value: 1.5589090475469995 and parameters: {'C': 0.1, 'epsilon': 0.17631432148453108, 'kernel': 'rbf'}. Best is trial 2 with value: 1.5002973582140686.\n"
          ]
        },
        {
          "name": "stderr",
          "output_type": "stream",
          "text": [
            "INFO:optuna.study.study:Trial 7 finished with value: 1.5590235358274116 and parameters: {'C': 0.1, 'epsilon': 0.1743354666389459, 'kernel': 'rbf'}. Best is trial 2 with value: 1.5002973582140686.\n"
          ]
        },
        {
          "name": "stdout",
          "output_type": "stream",
          "text": [
            "[I 2025-05-13 12:25:28,069] Trial 7 finished with value: 1.5590235358274116 and parameters: {'C': 0.1, 'epsilon': 0.1743354666389459, 'kernel': 'rbf'}. Best is trial 2 with value: 1.5002973582140686.\n"
          ]
        },
        {
          "name": "stderr",
          "output_type": "stream",
          "text": [
            "INFO:optuna.study.study:Trial 8 finished with value: 1.7744679110566413 and parameters: {'C': 1, 'epsilon': 0.16272947065097598, 'kernel': 'linear'}. Best is trial 2 with value: 1.5002973582140686.\n"
          ]
        },
        {
          "name": "stdout",
          "output_type": "stream",
          "text": [
            "[I 2025-05-13 12:25:29,501] Trial 8 finished with value: 1.7744679110566413 and parameters: {'C': 1, 'epsilon': 0.16272947065097598, 'kernel': 'linear'}. Best is trial 2 with value: 1.5002973582140686.\n"
          ]
        },
        {
          "name": "stderr",
          "output_type": "stream",
          "text": [
            "INFO:optuna.study.study:Trial 9 finished with value: 1.8136577442509711 and parameters: {'C': 10, 'epsilon': 0.13023121242968105, 'kernel': 'linear'}. Best is trial 2 with value: 1.5002973582140686.\n"
          ]
        },
        {
          "name": "stdout",
          "output_type": "stream",
          "text": [
            "[I 2025-05-13 12:26:02,773] Trial 9 finished with value: 1.8136577442509711 and parameters: {'C': 10, 'epsilon': 0.13023121242968105, 'kernel': 'linear'}. Best is trial 2 with value: 1.5002973582140686.\n"
          ]
        },
        {
          "name": "stderr",
          "output_type": "stream",
          "text": [
            "INFO:optuna.study.study:Trial 10 finished with value: 1.4998014797551602 and parameters: {'C': 10, 'epsilon': 0.19913009819705071, 'kernel': 'rbf'}. Best is trial 10 with value: 1.4998014797551602.\n"
          ]
        },
        {
          "name": "stdout",
          "output_type": "stream",
          "text": [
            "[I 2025-05-13 12:26:03,000] Trial 10 finished with value: 1.4998014797551602 and parameters: {'C': 10, 'epsilon': 0.19913009819705071, 'kernel': 'rbf'}. Best is trial 10 with value: 1.4998014797551602.\n"
          ]
        },
        {
          "name": "stderr",
          "output_type": "stream",
          "text": [
            "INFO:optuna.study.study:Trial 11 finished with value: 1.5000185827882948 and parameters: {'C': 10, 'epsilon': 0.19311459932864639, 'kernel': 'rbf'}. Best is trial 10 with value: 1.4998014797551602.\n"
          ]
        },
        {
          "name": "stdout",
          "output_type": "stream",
          "text": [
            "[I 2025-05-13 12:26:03,233] Trial 11 finished with value: 1.5000185827882948 and parameters: {'C': 10, 'epsilon': 0.19311459932864639, 'kernel': 'rbf'}. Best is trial 10 with value: 1.4998014797551602.\n"
          ]
        },
        {
          "name": "stderr",
          "output_type": "stream",
          "text": [
            "INFO:optuna.study.study:Trial 12 finished with value: 1.4997828390614296 and parameters: {'C': 10, 'epsilon': 0.19939373143431635, 'kernel': 'rbf'}. Best is trial 12 with value: 1.4997828390614296.\n"
          ]
        },
        {
          "name": "stdout",
          "output_type": "stream",
          "text": [
            "[I 2025-05-13 12:26:03,475] Trial 12 finished with value: 1.4997828390614296 and parameters: {'C': 10, 'epsilon': 0.19939373143431635, 'kernel': 'rbf'}. Best is trial 12 with value: 1.4997828390614296.\n"
          ]
        },
        {
          "name": "stderr",
          "output_type": "stream",
          "text": [
            "INFO:optuna.study.study:Trial 13 finished with value: 1.4998488221344046 and parameters: {'C': 10, 'epsilon': 0.19795340634011058, 'kernel': 'rbf'}. Best is trial 12 with value: 1.4997828390614296.\n"
          ]
        },
        {
          "name": "stdout",
          "output_type": "stream",
          "text": [
            "[I 2025-05-13 12:26:03,691] Trial 13 finished with value: 1.4998488221344046 and parameters: {'C': 10, 'epsilon': 0.19795340634011058, 'kernel': 'rbf'}. Best is trial 12 with value: 1.4997828390614296.\n"
          ]
        },
        {
          "name": "stderr",
          "output_type": "stream",
          "text": [
            "INFO:optuna.study.study:Trial 14 finished with value: 1.5094676073526287 and parameters: {'C': 10, 'epsilon': 0.10056813039932212, 'kernel': 'rbf'}. Best is trial 12 with value: 1.4997828390614296.\n"
          ]
        },
        {
          "name": "stdout",
          "output_type": "stream",
          "text": [
            "[I 2025-05-13 12:26:03,915] Trial 14 finished with value: 1.5094676073526287 and parameters: {'C': 10, 'epsilon': 0.10056813039932212, 'kernel': 'rbf'}. Best is trial 12 with value: 1.4997828390614296.\n"
          ]
        },
        {
          "name": "stderr",
          "output_type": "stream",
          "text": [
            "INFO:optuna.study.study:Trial 15 finished with value: 1.5015663904089667 and parameters: {'C': 10, 'epsilon': 0.16592031936950974, 'kernel': 'rbf'}. Best is trial 12 with value: 1.4997828390614296.\n"
          ]
        },
        {
          "name": "stdout",
          "output_type": "stream",
          "text": [
            "[I 2025-05-13 12:26:04,131] Trial 15 finished with value: 1.5015663904089667 and parameters: {'C': 10, 'epsilon': 0.16592031936950974, 'kernel': 'rbf'}. Best is trial 12 with value: 1.4997828390614296.\n"
          ]
        },
        {
          "name": "stderr",
          "output_type": "stream",
          "text": [
            "INFO:optuna.study.study:Trial 16 finished with value: 1.5031375432618659 and parameters: {'C': 10, 'epsilon': 0.14781365526927326, 'kernel': 'rbf'}. Best is trial 12 with value: 1.4997828390614296.\n"
          ]
        },
        {
          "name": "stdout",
          "output_type": "stream",
          "text": [
            "[I 2025-05-13 12:26:04,382] Trial 16 finished with value: 1.5031375432618659 and parameters: {'C': 10, 'epsilon': 0.14781365526927326, 'kernel': 'rbf'}. Best is trial 12 with value: 1.4997828390614296.\n"
          ]
        },
        {
          "name": "stderr",
          "output_type": "stream",
          "text": [
            "INFO:optuna.study.study:Trial 17 finished with value: 1.4998112101177747 and parameters: {'C': 10, 'epsilon': 0.19886745833528396, 'kernel': 'rbf'}. Best is trial 12 with value: 1.4997828390614296.\n"
          ]
        },
        {
          "name": "stdout",
          "output_type": "stream",
          "text": [
            "[I 2025-05-13 12:26:04,604] Trial 17 finished with value: 1.4998112101177747 and parameters: {'C': 10, 'epsilon': 0.19886745833528396, 'kernel': 'rbf'}. Best is trial 12 with value: 1.4997828390614296.\n"
          ]
        },
        {
          "name": "stderr",
          "output_type": "stream",
          "text": [
            "INFO:optuna.study.study:Trial 18 finished with value: 1.5008327216730404 and parameters: {'C': 10, 'epsilon': 0.1766692046207697, 'kernel': 'rbf'}. Best is trial 12 with value: 1.4997828390614296.\n"
          ]
        },
        {
          "name": "stdout",
          "output_type": "stream",
          "text": [
            "[I 2025-05-13 12:26:04,836] Trial 18 finished with value: 1.5008327216730404 and parameters: {'C': 10, 'epsilon': 0.1766692046207697, 'kernel': 'rbf'}. Best is trial 12 with value: 1.4997828390614296.\n"
          ]
        },
        {
          "name": "stderr",
          "output_type": "stream",
          "text": [
            "INFO:optuna.study.study:Trial 19 finished with value: 1.5033564246584883 and parameters: {'C': 10, 'epsilon': 0.1460331685652325, 'kernel': 'rbf'}. Best is trial 12 with value: 1.4997828390614296.\n",
            "INFO:optuna.study.study:Trial 20 finished with value: 1.5581822209002834 and parameters: {'C': 0.1, 'epsilon': 0.18669946170453028, 'kernel': 'rbf'}. Best is trial 12 with value: 1.4997828390614296.\n"
          ]
        },
        {
          "name": "stdout",
          "output_type": "stream",
          "text": [
            "[I 2025-05-13 12:26:05,073] Trial 19 finished with value: 1.5033564246584883 and parameters: {'C': 10, 'epsilon': 0.1460331685652325, 'kernel': 'rbf'}. Best is trial 12 with value: 1.4997828390614296.\n",
            "[I 2025-05-13 12:26:05,259] Trial 20 finished with value: 1.5581822209002834 and parameters: {'C': 0.1, 'epsilon': 0.18669946170453028, 'kernel': 'rbf'}. Best is trial 12 with value: 1.4997828390614296.\n"
          ]
        },
        {
          "name": "stderr",
          "output_type": "stream",
          "text": [
            "INFO:optuna.study.study:Trial 21 finished with value: 1.499760217091614 and parameters: {'C': 10, 'epsilon': 0.199921728605941, 'kernel': 'rbf'}. Best is trial 21 with value: 1.499760217091614.\n"
          ]
        },
        {
          "name": "stdout",
          "output_type": "stream",
          "text": [
            "[I 2025-05-13 12:26:05,512] Trial 21 finished with value: 1.499760217091614 and parameters: {'C': 10, 'epsilon': 0.199921728605941, 'kernel': 'rbf'}. Best is trial 21 with value: 1.499760217091614.\n"
          ]
        },
        {
          "name": "stderr",
          "output_type": "stream",
          "text": [
            "INFO:optuna.study.study:Trial 22 finished with value: 1.4998224114984344 and parameters: {'C': 10, 'epsilon': 0.19824346173212362, 'kernel': 'rbf'}. Best is trial 21 with value: 1.499760217091614.\n",
            "INFO:optuna.study.study:Trial 23 finished with value: 1.5001729681321256 and parameters: {'C': 10, 'epsilon': 0.18872400167141223, 'kernel': 'rbf'}. Best is trial 21 with value: 1.499760217091614.\n"
          ]
        },
        {
          "name": "stdout",
          "output_type": "stream",
          "text": [
            "[I 2025-05-13 12:26:05,749] Trial 22 finished with value: 1.4998224114984344 and parameters: {'C': 10, 'epsilon': 0.19824346173212362, 'kernel': 'rbf'}. Best is trial 21 with value: 1.499760217091614.\n",
            "[I 2025-05-13 12:26:05,903] Trial 23 finished with value: 1.5001729681321256 and parameters: {'C': 10, 'epsilon': 0.18872400167141223, 'kernel': 'rbf'}. Best is trial 21 with value: 1.499760217091614.\n"
          ]
        },
        {
          "name": "stderr",
          "output_type": "stream",
          "text": [
            "INFO:optuna.study.study:Trial 24 finished with value: 1.5006363098792317 and parameters: {'C': 10, 'epsilon': 0.17943281300191014, 'kernel': 'rbf'}. Best is trial 21 with value: 1.499760217091614.\n",
            "INFO:optuna.study.study:Trial 25 finished with value: 1.5014500842160838 and parameters: {'C': 10, 'epsilon': 0.1681628903243676, 'kernel': 'rbf'}. Best is trial 21 with value: 1.499760217091614.\n"
          ]
        },
        {
          "name": "stdout",
          "output_type": "stream",
          "text": [
            "[I 2025-05-13 12:26:06,045] Trial 24 finished with value: 1.5006363098792317 and parameters: {'C': 10, 'epsilon': 0.17943281300191014, 'kernel': 'rbf'}. Best is trial 21 with value: 1.499760217091614.\n",
            "[I 2025-05-13 12:26:06,185] Trial 25 finished with value: 1.5014500842160838 and parameters: {'C': 10, 'epsilon': 0.1681628903243676, 'kernel': 'rbf'}. Best is trial 21 with value: 1.499760217091614.\n"
          ]
        },
        {
          "name": "stderr",
          "output_type": "stream",
          "text": [
            "INFO:optuna.study.study:Trial 26 finished with value: 1.5000206021714124 and parameters: {'C': 10, 'epsilon': 0.19288729289583928, 'kernel': 'rbf'}. Best is trial 21 with value: 1.499760217091614.\n",
            "INFO:optuna.study.study:Trial 27 finished with value: 1.5022752241741684 and parameters: {'C': 10, 'epsilon': 0.15660790940396113, 'kernel': 'rbf'}. Best is trial 21 with value: 1.499760217091614.\n"
          ]
        },
        {
          "name": "stdout",
          "output_type": "stream",
          "text": [
            "[I 2025-05-13 12:26:06,339] Trial 26 finished with value: 1.5000206021714124 and parameters: {'C': 10, 'epsilon': 0.19288729289583928, 'kernel': 'rbf'}. Best is trial 21 with value: 1.499760217091614.\n",
            "[I 2025-05-13 12:26:06,492] Trial 27 finished with value: 1.5022752241741684 and parameters: {'C': 10, 'epsilon': 0.15660790940396113, 'kernel': 'rbf'}. Best is trial 21 with value: 1.499760217091614.\n"
          ]
        },
        {
          "name": "stderr",
          "output_type": "stream",
          "text": [
            "INFO:optuna.study.study:Trial 28 finished with value: 1.5585474101133945 and parameters: {'C': 0.1, 'epsilon': 0.18200027033454755, 'kernel': 'rbf'}. Best is trial 21 with value: 1.499760217091614.\n"
          ]
        },
        {
          "name": "stdout",
          "output_type": "stream",
          "text": [
            "[I 2025-05-13 12:26:06,615] Trial 28 finished with value: 1.5585474101133945 and parameters: {'C': 0.1, 'epsilon': 0.18200027033454755, 'kernel': 'rbf'}. Best is trial 21 with value: 1.499760217091614.\n"
          ]
        },
        {
          "name": "stderr",
          "output_type": "stream",
          "text": [
            "INFO:optuna.study.study:Trial 29 finished with value: 1.8142125266335343 and parameters: {'C': 10, 'epsilon': 0.14057670375567954, 'kernel': 'linear'}. Best is trial 21 with value: 1.499760217091614.\n",
            "[I 2025-05-13 12:26:25,504] A new study created in memory with name: no-name-6c534283-11e6-4fe5-bf4c-9b346e43d655\n",
            "INFO:optuna.storages._in_memory:A new study created in memory with name: no-name-6c534283-11e6-4fe5-bf4c-9b346e43d655\n"
          ]
        },
        {
          "name": "stdout",
          "output_type": "stream",
          "text": [
            "[I 2025-05-13 12:26:25,371] Trial 29 finished with value: 1.8142125266335343 and parameters: {'C': 10, 'epsilon': 0.14057670375567954, 'kernel': 'linear'}. Best is trial 21 with value: 1.499760217091614.\n",
            " Запуск Optuna для KNeighbors с log(IC50)...\n"
          ]
        },
        {
          "data": {
            "application/vnd.jupyter.widget-view+json": {
              "model_id": "33c4bb4a45284be18348253d4850a640",
              "version_major": 2,
              "version_minor": 0
            },
            "text/plain": [
              "  0%|          | 0/30 [00:00<?, ?it/s]"
            ]
          },
          "metadata": {},
          "output_type": "display_data"
        },
        {
          "name": "stderr",
          "output_type": "stream",
          "text": [
            "INFO:optuna.study.study:Trial 0 finished with value: 1.5107942488260349 and parameters: {'n_neighbors': 5, 'weights': 'distance', 'p': 2}. Best is trial 0 with value: 1.5107942488260349.\n"
          ]
        },
        {
          "name": "stdout",
          "output_type": "stream",
          "text": [
            "[I 2025-05-13 12:26:25,551] Trial 0 finished with value: 1.5107942488260349 and parameters: {'n_neighbors': 5, 'weights': 'distance', 'p': 2}. Best is trial 0 with value: 1.5107942488260349.\n",
            "[I 2025-05-13 12:26:25,572] Trial 1 finished with value: 1.5003172643840241 and parameters: {'n_neighbors': 7, 'weights': 'uniform', 'p': 2}. Best is trial 1 with value: 1.5003172643840241.\n"
          ]
        },
        {
          "name": "stderr",
          "output_type": "stream",
          "text": [
            "INFO:optuna.study.study:Trial 1 finished with value: 1.5003172643840241 and parameters: {'n_neighbors': 7, 'weights': 'uniform', 'p': 2}. Best is trial 1 with value: 1.5003172643840241.\n",
            "INFO:optuna.study.study:Trial 2 finished with value: 1.5977195605108103 and parameters: {'n_neighbors': 3, 'weights': 'uniform', 'p': 2}. Best is trial 1 with value: 1.5003172643840241.\n",
            "INFO:optuna.study.study:Trial 3 finished with value: 1.593060954696709 and parameters: {'n_neighbors': 3, 'weights': 'distance', 'p': 2}. Best is trial 1 with value: 1.5003172643840241.\n",
            "INFO:optuna.study.study:Trial 4 finished with value: 1.5169164708939231 and parameters: {'n_neighbors': 5, 'weights': 'uniform', 'p': 2}. Best is trial 1 with value: 1.5003172643840241.\n",
            "INFO:optuna.study.study:Trial 5 finished with value: 1.593060954696709 and parameters: {'n_neighbors': 3, 'weights': 'distance', 'p': 2}. Best is trial 1 with value: 1.5003172643840241.\n",
            "INFO:optuna.study.study:Trial 6 finished with value: 1.5169164708939231 and parameters: {'n_neighbors': 5, 'weights': 'uniform', 'p': 2}. Best is trial 1 with value: 1.5003172643840241.\n",
            "INFO:optuna.study.study:Trial 7 finished with value: 1.4449765788896052 and parameters: {'n_neighbors': 5, 'weights': 'uniform', 'p': 1}. Best is trial 7 with value: 1.4449765788896052.\n"
          ]
        },
        {
          "name": "stdout",
          "output_type": "stream",
          "text": [
            "[I 2025-05-13 12:26:25,602] Trial 2 finished with value: 1.5977195605108103 and parameters: {'n_neighbors': 3, 'weights': 'uniform', 'p': 2}. Best is trial 1 with value: 1.5003172643840241.\n",
            "[I 2025-05-13 12:26:25,628] Trial 3 finished with value: 1.593060954696709 and parameters: {'n_neighbors': 3, 'weights': 'distance', 'p': 2}. Best is trial 1 with value: 1.5003172643840241.\n",
            "[I 2025-05-13 12:26:25,650] Trial 4 finished with value: 1.5169164708939231 and parameters: {'n_neighbors': 5, 'weights': 'uniform', 'p': 2}. Best is trial 1 with value: 1.5003172643840241.\n",
            "[I 2025-05-13 12:26:25,669] Trial 5 finished with value: 1.593060954696709 and parameters: {'n_neighbors': 3, 'weights': 'distance', 'p': 2}. Best is trial 1 with value: 1.5003172643840241.\n",
            "[I 2025-05-13 12:26:25,688] Trial 6 finished with value: 1.5169164708939231 and parameters: {'n_neighbors': 5, 'weights': 'uniform', 'p': 2}. Best is trial 1 with value: 1.5003172643840241.\n",
            "[I 2025-05-13 12:26:25,743] Trial 7 finished with value: 1.4449765788896052 and parameters: {'n_neighbors': 5, 'weights': 'uniform', 'p': 1}. Best is trial 7 with value: 1.4449765788896052.\n"
          ]
        },
        {
          "name": "stderr",
          "output_type": "stream",
          "text": [
            "INFO:optuna.study.study:Trial 8 finished with value: 1.5592872004852882 and parameters: {'n_neighbors': 3, 'weights': 'distance', 'p': 1}. Best is trial 7 with value: 1.4449765788896052.\n",
            "INFO:optuna.study.study:Trial 9 finished with value: 1.4710850071631314 and parameters: {'n_neighbors': 7, 'weights': 'distance', 'p': 1}. Best is trial 7 with value: 1.4449765788896052.\n",
            "INFO:optuna.study.study:Trial 10 finished with value: 1.4449765788896052 and parameters: {'n_neighbors': 5, 'weights': 'uniform', 'p': 1}. Best is trial 7 with value: 1.4449765788896052.\n",
            "INFO:optuna.study.study:Trial 11 finished with value: 1.4449765788896052 and parameters: {'n_neighbors': 5, 'weights': 'uniform', 'p': 1}. Best is trial 7 with value: 1.4449765788896052.\n"
          ]
        },
        {
          "name": "stdout",
          "output_type": "stream",
          "text": [
            "[I 2025-05-13 12:26:25,807] Trial 8 finished with value: 1.5592872004852882 and parameters: {'n_neighbors': 3, 'weights': 'distance', 'p': 1}. Best is trial 7 with value: 1.4449765788896052.\n",
            "[I 2025-05-13 12:26:25,861] Trial 9 finished with value: 1.4710850071631314 and parameters: {'n_neighbors': 7, 'weights': 'distance', 'p': 1}. Best is trial 7 with value: 1.4449765788896052.\n",
            "[I 2025-05-13 12:26:25,920] Trial 10 finished with value: 1.4449765788896052 and parameters: {'n_neighbors': 5, 'weights': 'uniform', 'p': 1}. Best is trial 7 with value: 1.4449765788896052.\n",
            "[I 2025-05-13 12:26:25,980] Trial 11 finished with value: 1.4449765788896052 and parameters: {'n_neighbors': 5, 'weights': 'uniform', 'p': 1}. Best is trial 7 with value: 1.4449765788896052.\n"
          ]
        },
        {
          "name": "stderr",
          "output_type": "stream",
          "text": [
            "INFO:optuna.study.study:Trial 12 finished with value: 1.4449765788896052 and parameters: {'n_neighbors': 5, 'weights': 'uniform', 'p': 1}. Best is trial 7 with value: 1.4449765788896052.\n",
            "INFO:optuna.study.study:Trial 13 finished with value: 1.4449765788896052 and parameters: {'n_neighbors': 5, 'weights': 'uniform', 'p': 1}. Best is trial 7 with value: 1.4449765788896052.\n",
            "INFO:optuna.study.study:Trial 14 finished with value: 1.4449765788896052 and parameters: {'n_neighbors': 5, 'weights': 'uniform', 'p': 1}. Best is trial 7 with value: 1.4449765788896052.\n",
            "INFO:optuna.study.study:Trial 15 finished with value: 1.4449765788896052 and parameters: {'n_neighbors': 5, 'weights': 'uniform', 'p': 1}. Best is trial 7 with value: 1.4449765788896052.\n"
          ]
        },
        {
          "name": "stdout",
          "output_type": "stream",
          "text": [
            "[I 2025-05-13 12:26:26,044] Trial 12 finished with value: 1.4449765788896052 and parameters: {'n_neighbors': 5, 'weights': 'uniform', 'p': 1}. Best is trial 7 with value: 1.4449765788896052.\n",
            "[I 2025-05-13 12:26:26,100] Trial 13 finished with value: 1.4449765788896052 and parameters: {'n_neighbors': 5, 'weights': 'uniform', 'p': 1}. Best is trial 7 with value: 1.4449765788896052.\n",
            "[I 2025-05-13 12:26:26,163] Trial 14 finished with value: 1.4449765788896052 and parameters: {'n_neighbors': 5, 'weights': 'uniform', 'p': 1}. Best is trial 7 with value: 1.4449765788896052.\n",
            "[I 2025-05-13 12:26:26,232] Trial 15 finished with value: 1.4449765788896052 and parameters: {'n_neighbors': 5, 'weights': 'uniform', 'p': 1}. Best is trial 7 with value: 1.4449765788896052.\n"
          ]
        },
        {
          "name": "stderr",
          "output_type": "stream",
          "text": [
            "INFO:optuna.study.study:Trial 16 finished with value: 1.4516675508768566 and parameters: {'n_neighbors': 7, 'weights': 'uniform', 'p': 1}. Best is trial 7 with value: 1.4449765788896052.\n",
            "INFO:optuna.study.study:Trial 17 finished with value: 1.4449765788896052 and parameters: {'n_neighbors': 5, 'weights': 'uniform', 'p': 1}. Best is trial 7 with value: 1.4449765788896052.\n",
            "INFO:optuna.study.study:Trial 18 finished with value: 1.4449765788896052 and parameters: {'n_neighbors': 5, 'weights': 'uniform', 'p': 1}. Best is trial 7 with value: 1.4449765788896052.\n",
            "INFO:optuna.study.study:Trial 19 finished with value: 1.4516675508768566 and parameters: {'n_neighbors': 7, 'weights': 'uniform', 'p': 1}. Best is trial 7 with value: 1.4449765788896052.\n"
          ]
        },
        {
          "name": "stdout",
          "output_type": "stream",
          "text": [
            "[I 2025-05-13 12:26:26,294] Trial 16 finished with value: 1.4516675508768566 and parameters: {'n_neighbors': 7, 'weights': 'uniform', 'p': 1}. Best is trial 7 with value: 1.4449765788896052.\n",
            "[I 2025-05-13 12:26:26,356] Trial 17 finished with value: 1.4449765788896052 and parameters: {'n_neighbors': 5, 'weights': 'uniform', 'p': 1}. Best is trial 7 with value: 1.4449765788896052.\n",
            "[I 2025-05-13 12:26:26,422] Trial 18 finished with value: 1.4449765788896052 and parameters: {'n_neighbors': 5, 'weights': 'uniform', 'p': 1}. Best is trial 7 with value: 1.4449765788896052.\n",
            "[I 2025-05-13 12:26:26,480] Trial 19 finished with value: 1.4516675508768566 and parameters: {'n_neighbors': 7, 'weights': 'uniform', 'p': 1}. Best is trial 7 with value: 1.4449765788896052.\n"
          ]
        },
        {
          "name": "stderr",
          "output_type": "stream",
          "text": [
            "INFO:optuna.study.study:Trial 20 finished with value: 1.4449765788896052 and parameters: {'n_neighbors': 5, 'weights': 'uniform', 'p': 1}. Best is trial 7 with value: 1.4449765788896052.\n",
            "INFO:optuna.study.study:Trial 21 finished with value: 1.4449765788896052 and parameters: {'n_neighbors': 5, 'weights': 'uniform', 'p': 1}. Best is trial 7 with value: 1.4449765788896052.\n",
            "INFO:optuna.study.study:Trial 22 finished with value: 1.4449765788896052 and parameters: {'n_neighbors': 5, 'weights': 'uniform', 'p': 1}. Best is trial 7 with value: 1.4449765788896052.\n",
            "INFO:optuna.study.study:Trial 23 finished with value: 1.4449765788896052 and parameters: {'n_neighbors': 5, 'weights': 'uniform', 'p': 1}. Best is trial 7 with value: 1.4449765788896052.\n"
          ]
        },
        {
          "name": "stdout",
          "output_type": "stream",
          "text": [
            "[I 2025-05-13 12:26:26,550] Trial 20 finished with value: 1.4449765788896052 and parameters: {'n_neighbors': 5, 'weights': 'uniform', 'p': 1}. Best is trial 7 with value: 1.4449765788896052.\n",
            "[I 2025-05-13 12:26:26,607] Trial 21 finished with value: 1.4449765788896052 and parameters: {'n_neighbors': 5, 'weights': 'uniform', 'p': 1}. Best is trial 7 with value: 1.4449765788896052.\n",
            "[I 2025-05-13 12:26:26,675] Trial 22 finished with value: 1.4449765788896052 and parameters: {'n_neighbors': 5, 'weights': 'uniform', 'p': 1}. Best is trial 7 with value: 1.4449765788896052.\n",
            "[I 2025-05-13 12:26:26,734] Trial 23 finished with value: 1.4449765788896052 and parameters: {'n_neighbors': 5, 'weights': 'uniform', 'p': 1}. Best is trial 7 with value: 1.4449765788896052.\n"
          ]
        },
        {
          "name": "stderr",
          "output_type": "stream",
          "text": [
            "INFO:optuna.study.study:Trial 24 finished with value: 1.4449765788896052 and parameters: {'n_neighbors': 5, 'weights': 'uniform', 'p': 1}. Best is trial 7 with value: 1.4449765788896052.\n",
            "INFO:optuna.study.study:Trial 25 finished with value: 1.4449765788896052 and parameters: {'n_neighbors': 5, 'weights': 'uniform', 'p': 1}. Best is trial 7 with value: 1.4449765788896052.\n",
            "INFO:optuna.study.study:Trial 26 finished with value: 1.4820945145944548 and parameters: {'n_neighbors': 5, 'weights': 'distance', 'p': 1}. Best is trial 7 with value: 1.4449765788896052.\n",
            "INFO:optuna.study.study:Trial 27 finished with value: 1.4449765788896052 and parameters: {'n_neighbors': 5, 'weights': 'uniform', 'p': 1}. Best is trial 7 with value: 1.4449765788896052.\n"
          ]
        },
        {
          "name": "stdout",
          "output_type": "stream",
          "text": [
            "[I 2025-05-13 12:26:26,799] Trial 24 finished with value: 1.4449765788896052 and parameters: {'n_neighbors': 5, 'weights': 'uniform', 'p': 1}. Best is trial 7 with value: 1.4449765788896052.\n",
            "[I 2025-05-13 12:26:26,854] Trial 25 finished with value: 1.4449765788896052 and parameters: {'n_neighbors': 5, 'weights': 'uniform', 'p': 1}. Best is trial 7 with value: 1.4449765788896052.\n",
            "[I 2025-05-13 12:26:26,919] Trial 26 finished with value: 1.4820945145944548 and parameters: {'n_neighbors': 5, 'weights': 'distance', 'p': 1}. Best is trial 7 with value: 1.4449765788896052.\n",
            "[I 2025-05-13 12:26:26,979] Trial 27 finished with value: 1.4449765788896052 and parameters: {'n_neighbors': 5, 'weights': 'uniform', 'p': 1}. Best is trial 7 with value: 1.4449765788896052.\n"
          ]
        },
        {
          "name": "stderr",
          "output_type": "stream",
          "text": [
            "INFO:optuna.study.study:Trial 28 finished with value: 1.525391555315208 and parameters: {'n_neighbors': 3, 'weights': 'uniform', 'p': 1}. Best is trial 7 with value: 1.4449765788896052.\n",
            "INFO:optuna.study.study:Trial 29 finished with value: 1.4710850071631314 and parameters: {'n_neighbors': 7, 'weights': 'distance', 'p': 1}. Best is trial 7 with value: 1.4449765788896052.\n",
            "[I 2025-05-13 12:26:27,165] A new study created in memory with name: no-name-f5dda46a-2513-46c6-9fe0-37eed165482f\n",
            "INFO:optuna.storages._in_memory:A new study created in memory with name: no-name-f5dda46a-2513-46c6-9fe0-37eed165482f\n"
          ]
        },
        {
          "name": "stdout",
          "output_type": "stream",
          "text": [
            "[I 2025-05-13 12:26:27,046] Trial 28 finished with value: 1.525391555315208 and parameters: {'n_neighbors': 3, 'weights': 'uniform', 'p': 1}. Best is trial 7 with value: 1.4449765788896052.\n",
            "[I 2025-05-13 12:26:27,102] Trial 29 finished with value: 1.4710850071631314 and parameters: {'n_neighbors': 7, 'weights': 'distance', 'p': 1}. Best is trial 7 with value: 1.4449765788896052.\n",
            " Запуск Optuna для XGBoost с log(IC50)...\n"
          ]
        },
        {
          "data": {
            "application/vnd.jupyter.widget-view+json": {
              "model_id": "c31d9d18dad84ca48a3754241cc2fff7",
              "version_major": 2,
              "version_minor": 0
            },
            "text/plain": [
              "  0%|          | 0/30 [00:00<?, ?it/s]"
            ]
          },
          "metadata": {},
          "output_type": "display_data"
        },
        {
          "name": "stderr",
          "output_type": "stream",
          "text": [
            "INFO:optuna.study.study:Trial 0 finished with value: 1.405916525375159 and parameters: {'learning_rate': 0.0356818612228226, 'max_depth': 3, 'n_estimators': 50, 'subsample': 0.8772782554746839}. Best is trial 0 with value: 1.405916525375159.\n"
          ]
        },
        {
          "name": "stdout",
          "output_type": "stream",
          "text": [
            "[I 2025-05-13 12:26:27,624] Trial 0 finished with value: 1.405916525375159 and parameters: {'learning_rate': 0.0356818612228226, 'max_depth': 3, 'n_estimators': 50, 'subsample': 0.8772782554746839}. Best is trial 0 with value: 1.405916525375159.\n"
          ]
        },
        {
          "name": "stderr",
          "output_type": "stream",
          "text": [
            "INFO:optuna.study.study:Trial 1 finished with value: 1.4819586050573494 and parameters: {'learning_rate': 0.18326628336099735, 'max_depth': 5, 'n_estimators': 200, 'subsample': 0.8592825563335593}. Best is trial 0 with value: 1.405916525375159.\n"
          ]
        },
        {
          "name": "stdout",
          "output_type": "stream",
          "text": [
            "[I 2025-05-13 12:26:29,570] Trial 1 finished with value: 1.4819586050573494 and parameters: {'learning_rate': 0.18326628336099735, 'max_depth': 5, 'n_estimators': 200, 'subsample': 0.8592825563335593}. Best is trial 0 with value: 1.405916525375159.\n"
          ]
        },
        {
          "name": "stderr",
          "output_type": "stream",
          "text": [
            "INFO:optuna.study.study:Trial 2 finished with value: 1.398256076105702 and parameters: {'learning_rate': 0.10203918075894489, 'max_depth': 3, 'n_estimators': 50, 'subsample': 0.9472532542690189}. Best is trial 2 with value: 1.398256076105702.\n"
          ]
        },
        {
          "name": "stdout",
          "output_type": "stream",
          "text": [
            "[I 2025-05-13 12:26:29,952] Trial 2 finished with value: 1.398256076105702 and parameters: {'learning_rate': 0.10203918075894489, 'max_depth': 3, 'n_estimators': 50, 'subsample': 0.9472532542690189}. Best is trial 2 with value: 1.398256076105702.\n"
          ]
        },
        {
          "name": "stderr",
          "output_type": "stream",
          "text": [
            "INFO:optuna.study.study:Trial 3 finished with value: 1.4076651771924373 and parameters: {'learning_rate': 0.0160851256827376, 'max_depth': 3, 'n_estimators': 100, 'subsample': 0.8342760472249112}. Best is trial 2 with value: 1.398256076105702.\n"
          ]
        },
        {
          "name": "stdout",
          "output_type": "stream",
          "text": [
            "[I 2025-05-13 12:26:33,320] Trial 3 finished with value: 1.4076651771924373 and parameters: {'learning_rate': 0.0160851256827376, 'max_depth': 3, 'n_estimators': 100, 'subsample': 0.8342760472249112}. Best is trial 2 with value: 1.398256076105702.\n"
          ]
        },
        {
          "name": "stderr",
          "output_type": "stream",
          "text": [
            "INFO:optuna.study.study:Trial 4 finished with value: 1.451879617057615 and parameters: {'learning_rate': 0.15818670097244528, 'max_depth': 3, 'n_estimators': 200, 'subsample': 0.9108177776579124}. Best is trial 2 with value: 1.398256076105702.\n"
          ]
        },
        {
          "name": "stdout",
          "output_type": "stream",
          "text": [
            "[I 2025-05-13 12:26:34,292] Trial 4 finished with value: 1.451879617057615 and parameters: {'learning_rate': 0.15818670097244528, 'max_depth': 3, 'n_estimators': 200, 'subsample': 0.9108177776579124}. Best is trial 2 with value: 1.398256076105702.\n"
          ]
        },
        {
          "name": "stderr",
          "output_type": "stream",
          "text": [
            "INFO:optuna.study.study:Trial 5 finished with value: 1.4018513867113713 and parameters: {'learning_rate': 0.17465039350304018, 'max_depth': 3, 'n_estimators': 100, 'subsample': 0.9373908493924834}. Best is trial 2 with value: 1.398256076105702.\n"
          ]
        },
        {
          "name": "stdout",
          "output_type": "stream",
          "text": [
            "[I 2025-05-13 12:26:34,857] Trial 5 finished with value: 1.4018513867113713 and parameters: {'learning_rate': 0.17465039350304018, 'max_depth': 3, 'n_estimators': 100, 'subsample': 0.9373908493924834}. Best is trial 2 with value: 1.398256076105702.\n"
          ]
        },
        {
          "name": "stderr",
          "output_type": "stream",
          "text": [
            "INFO:optuna.study.study:Trial 6 finished with value: 1.4236895248775039 and parameters: {'learning_rate': 0.08754329306977332, 'max_depth': 7, 'n_estimators': 50, 'subsample': 0.8862374197193726}. Best is trial 2 with value: 1.398256076105702.\n"
          ]
        },
        {
          "name": "stdout",
          "output_type": "stream",
          "text": [
            "[I 2025-05-13 12:26:36,333] Trial 6 finished with value: 1.4236895248775039 and parameters: {'learning_rate': 0.08754329306977332, 'max_depth': 7, 'n_estimators': 50, 'subsample': 0.8862374197193726}. Best is trial 2 with value: 1.398256076105702.\n"
          ]
        },
        {
          "name": "stderr",
          "output_type": "stream",
          "text": [
            "INFO:optuna.study.study:Trial 7 finished with value: 1.410524030553543 and parameters: {'learning_rate': 0.14325213686892052, 'max_depth': 3, 'n_estimators': 100, 'subsample': 0.8876042740021488}. Best is trial 2 with value: 1.398256076105702.\n"
          ]
        },
        {
          "name": "stdout",
          "output_type": "stream",
          "text": [
            "[I 2025-05-13 12:26:36,924] Trial 7 finished with value: 1.410524030553543 and parameters: {'learning_rate': 0.14325213686892052, 'max_depth': 3, 'n_estimators': 100, 'subsample': 0.8876042740021488}. Best is trial 2 with value: 1.398256076105702.\n"
          ]
        },
        {
          "name": "stderr",
          "output_type": "stream",
          "text": [
            "INFO:optuna.study.study:Trial 8 finished with value: 1.4661236183524753 and parameters: {'learning_rate': 0.14627245345868686, 'max_depth': 7, 'n_estimators': 100, 'subsample': 0.9673259870628046}. Best is trial 2 with value: 1.398256076105702.\n"
          ]
        },
        {
          "name": "stdout",
          "output_type": "stream",
          "text": [
            "[I 2025-05-13 12:26:39,052] Trial 8 finished with value: 1.4661236183524753 and parameters: {'learning_rate': 0.14627245345868686, 'max_depth': 7, 'n_estimators': 100, 'subsample': 0.9673259870628046}. Best is trial 2 with value: 1.398256076105702.\n"
          ]
        },
        {
          "name": "stderr",
          "output_type": "stream",
          "text": [
            "INFO:optuna.study.study:Trial 9 finished with value: 1.428383691967721 and parameters: {'learning_rate': 0.166787254048412, 'max_depth': 3, 'n_estimators': 100, 'subsample': 0.9331301753015564}. Best is trial 2 with value: 1.398256076105702.\n"
          ]
        },
        {
          "name": "stdout",
          "output_type": "stream",
          "text": [
            "[I 2025-05-13 12:26:39,598] Trial 9 finished with value: 1.428383691967721 and parameters: {'learning_rate': 0.166787254048412, 'max_depth': 3, 'n_estimators': 100, 'subsample': 0.9331301753015564}. Best is trial 2 with value: 1.398256076105702.\n"
          ]
        },
        {
          "name": "stderr",
          "output_type": "stream",
          "text": [
            "INFO:optuna.study.study:Trial 10 finished with value: 1.4222549389059074 and parameters: {'learning_rate': 0.08668024674534396, 'max_depth': 5, 'n_estimators': 50, 'subsample': 0.9892943897053824}. Best is trial 2 with value: 1.398256076105702.\n"
          ]
        },
        {
          "name": "stdout",
          "output_type": "stream",
          "text": [
            "[I 2025-05-13 12:26:40,366] Trial 10 finished with value: 1.4222549389059074 and parameters: {'learning_rate': 0.08668024674534396, 'max_depth': 5, 'n_estimators': 50, 'subsample': 0.9892943897053824}. Best is trial 2 with value: 1.398256076105702.\n"
          ]
        },
        {
          "name": "stderr",
          "output_type": "stream",
          "text": [
            "INFO:optuna.study.study:Trial 11 finished with value: 1.3792462786991608 and parameters: {'learning_rate': 0.11575822627870437, 'max_depth': 3, 'n_estimators': 50, 'subsample': 0.9506091820492066}. Best is trial 11 with value: 1.3792462786991608.\n"
          ]
        },
        {
          "name": "stdout",
          "output_type": "stream",
          "text": [
            "[I 2025-05-13 12:26:40,734] Trial 11 finished with value: 1.3792462786991608 and parameters: {'learning_rate': 0.11575822627870437, 'max_depth': 3, 'n_estimators': 50, 'subsample': 0.9506091820492066}. Best is trial 11 with value: 1.3792462786991608.\n"
          ]
        },
        {
          "name": "stderr",
          "output_type": "stream",
          "text": [
            "INFO:optuna.study.study:Trial 12 finished with value: 1.3917055926581756 and parameters: {'learning_rate': 0.1130121239372856, 'max_depth': 3, 'n_estimators': 50, 'subsample': 0.9580251189753858}. Best is trial 11 with value: 1.3792462786991608.\n"
          ]
        },
        {
          "name": "stdout",
          "output_type": "stream",
          "text": [
            "[I 2025-05-13 12:26:41,100] Trial 12 finished with value: 1.3917055926581756 and parameters: {'learning_rate': 0.1130121239372856, 'max_depth': 3, 'n_estimators': 50, 'subsample': 0.9580251189753858}. Best is trial 11 with value: 1.3792462786991608.\n"
          ]
        },
        {
          "name": "stderr",
          "output_type": "stream",
          "text": [
            "INFO:optuna.study.study:Trial 13 finished with value: 1.3906174527495845 and parameters: {'learning_rate': 0.06069424508949054, 'max_depth': 5, 'n_estimators': 50, 'subsample': 0.9854451888996038}. Best is trial 11 with value: 1.3792462786991608.\n"
          ]
        },
        {
          "name": "stdout",
          "output_type": "stream",
          "text": [
            "[I 2025-05-13 12:26:41,848] Trial 13 finished with value: 1.3906174527495845 and parameters: {'learning_rate': 0.06069424508949054, 'max_depth': 5, 'n_estimators': 50, 'subsample': 0.9854451888996038}. Best is trial 11 with value: 1.3792462786991608.\n"
          ]
        },
        {
          "name": "stderr",
          "output_type": "stream",
          "text": [
            "INFO:optuna.study.study:Trial 14 finished with value: 1.3955668730851227 and parameters: {'learning_rate': 0.055580912962883186, 'max_depth': 5, 'n_estimators': 50, 'subsample': 0.99684243177107}. Best is trial 11 with value: 1.3792462786991608.\n"
          ]
        },
        {
          "name": "stdout",
          "output_type": "stream",
          "text": [
            "[I 2025-05-13 12:26:42,658] Trial 14 finished with value: 1.3955668730851227 and parameters: {'learning_rate': 0.055580912962883186, 'max_depth': 5, 'n_estimators': 50, 'subsample': 0.99684243177107}. Best is trial 11 with value: 1.3792462786991608.\n"
          ]
        },
        {
          "name": "stderr",
          "output_type": "stream",
          "text": [
            "INFO:optuna.study.study:Trial 15 finished with value: 1.3810797020820897 and parameters: {'learning_rate': 0.06320946396145813, 'max_depth': 5, 'n_estimators': 50, 'subsample': 0.9779344296070721}. Best is trial 11 with value: 1.3792462786991608.\n"
          ]
        },
        {
          "name": "stdout",
          "output_type": "stream",
          "text": [
            "[I 2025-05-13 12:26:45,798] Trial 15 finished with value: 1.3810797020820897 and parameters: {'learning_rate': 0.06320946396145813, 'max_depth': 5, 'n_estimators': 50, 'subsample': 0.9779344296070721}. Best is trial 11 with value: 1.3792462786991608.\n"
          ]
        },
        {
          "name": "stderr",
          "output_type": "stream",
          "text": [
            "INFO:optuna.study.study:Trial 16 finished with value: 1.4695716869012232 and parameters: {'learning_rate': 0.12540940609381102, 'max_depth': 5, 'n_estimators': 200, 'subsample': 0.9195357892574155}. Best is trial 11 with value: 1.3792462786991608.\n"
          ]
        },
        {
          "name": "stdout",
          "output_type": "stream",
          "text": [
            "[I 2025-05-13 12:26:48,343] Trial 16 finished with value: 1.4695716869012232 and parameters: {'learning_rate': 0.12540940609381102, 'max_depth': 5, 'n_estimators': 200, 'subsample': 0.9195357892574155}. Best is trial 11 with value: 1.3792462786991608.\n"
          ]
        },
        {
          "name": "stderr",
          "output_type": "stream",
          "text": [
            "INFO:optuna.study.study:Trial 17 finished with value: 1.4212852904200914 and parameters: {'learning_rate': 0.0742235746925779, 'max_depth': 7, 'n_estimators': 50, 'subsample': 0.9708508321290735}. Best is trial 11 with value: 1.3792462786991608.\n"
          ]
        },
        {
          "name": "stdout",
          "output_type": "stream",
          "text": [
            "[I 2025-05-13 12:26:49,910] Trial 17 finished with value: 1.4212852904200914 and parameters: {'learning_rate': 0.0742235746925779, 'max_depth': 7, 'n_estimators': 50, 'subsample': 0.9708508321290735}. Best is trial 11 with value: 1.3792462786991608.\n"
          ]
        },
        {
          "name": "stderr",
          "output_type": "stream",
          "text": [
            "INFO:optuna.study.study:Trial 18 finished with value: 1.3670511723305099 and parameters: {'learning_rate': 0.041974862047979455, 'max_depth': 5, 'n_estimators': 50, 'subsample': 0.8001975598173922}. Best is trial 18 with value: 1.3670511723305099.\n"
          ]
        },
        {
          "name": "stdout",
          "output_type": "stream",
          "text": [
            "[I 2025-05-13 12:26:50,695] Trial 18 finished with value: 1.3670511723305099 and parameters: {'learning_rate': 0.041974862047979455, 'max_depth': 5, 'n_estimators': 50, 'subsample': 0.8001975598173922}. Best is trial 18 with value: 1.3670511723305099.\n"
          ]
        },
        {
          "name": "stderr",
          "output_type": "stream",
          "text": [
            "INFO:optuna.study.study:Trial 19 finished with value: 1.3803904844688726 and parameters: {'learning_rate': 0.033923797194493774, 'max_depth': 5, 'n_estimators': 50, 'subsample': 0.8076207473621496}. Best is trial 18 with value: 1.3670511723305099.\n"
          ]
        },
        {
          "name": "stdout",
          "output_type": "stream",
          "text": [
            "[I 2025-05-13 12:26:51,463] Trial 19 finished with value: 1.3803904844688726 and parameters: {'learning_rate': 0.033923797194493774, 'max_depth': 5, 'n_estimators': 50, 'subsample': 0.8076207473621496}. Best is trial 18 with value: 1.3670511723305099.\n"
          ]
        },
        {
          "name": "stderr",
          "output_type": "stream",
          "text": [
            "INFO:optuna.study.study:Trial 20 finished with value: 1.505189071589393 and parameters: {'learning_rate': 0.1244974122247888, 'max_depth': 7, 'n_estimators': 200, 'subsample': 0.8011479384382626}. Best is trial 18 with value: 1.3670511723305099.\n"
          ]
        },
        {
          "name": "stdout",
          "output_type": "stream",
          "text": [
            "[I 2025-05-13 12:26:54,855] Trial 20 finished with value: 1.505189071589393 and parameters: {'learning_rate': 0.1244974122247888, 'max_depth': 7, 'n_estimators': 200, 'subsample': 0.8011479384382626}. Best is trial 18 with value: 1.3670511723305099.\n"
          ]
        },
        {
          "name": "stderr",
          "output_type": "stream",
          "text": [
            "INFO:optuna.study.study:Trial 21 finished with value: 1.4829584415631967 and parameters: {'learning_rate': 0.011793415063741729, 'max_depth': 5, 'n_estimators': 50, 'subsample': 0.8051905368173579}. Best is trial 18 with value: 1.3670511723305099.\n"
          ]
        },
        {
          "name": "stdout",
          "output_type": "stream",
          "text": [
            "[I 2025-05-13 12:26:55,594] Trial 21 finished with value: 1.4829584415631967 and parameters: {'learning_rate': 0.011793415063741729, 'max_depth': 5, 'n_estimators': 50, 'subsample': 0.8051905368173579}. Best is trial 18 with value: 1.3670511723305099.\n"
          ]
        },
        {
          "name": "stderr",
          "output_type": "stream",
          "text": [
            "INFO:optuna.study.study:Trial 22 finished with value: 1.3873795801894977 and parameters: {'learning_rate': 0.033137072855280045, 'max_depth': 5, 'n_estimators': 50, 'subsample': 0.8329309874633657}. Best is trial 18 with value: 1.3670511723305099.\n"
          ]
        },
        {
          "name": "stdout",
          "output_type": "stream",
          "text": [
            "[I 2025-05-13 12:26:56,389] Trial 22 finished with value: 1.3873795801894977 and parameters: {'learning_rate': 0.033137072855280045, 'max_depth': 5, 'n_estimators': 50, 'subsample': 0.8329309874633657}. Best is trial 18 with value: 1.3670511723305099.\n"
          ]
        },
        {
          "name": "stderr",
          "output_type": "stream",
          "text": [
            "INFO:optuna.study.study:Trial 23 finished with value: 1.3735665332506357 and parameters: {'learning_rate': 0.03714881482962883, 'max_depth': 5, 'n_estimators': 50, 'subsample': 0.8223261211386688}. Best is trial 18 with value: 1.3670511723305099.\n"
          ]
        },
        {
          "name": "stdout",
          "output_type": "stream",
          "text": [
            "[I 2025-05-13 12:26:59,983] Trial 23 finished with value: 1.3735665332506357 and parameters: {'learning_rate': 0.03714881482962883, 'max_depth': 5, 'n_estimators': 50, 'subsample': 0.8223261211386688}. Best is trial 18 with value: 1.3670511723305099.\n"
          ]
        },
        {
          "name": "stderr",
          "output_type": "stream",
          "text": [
            "INFO:optuna.study.study:Trial 24 finished with value: 1.375192954773961 and parameters: {'learning_rate': 0.04684874289628127, 'max_depth': 5, 'n_estimators': 50, 'subsample': 0.8293500933453539}. Best is trial 18 with value: 1.3670511723305099.\n"
          ]
        },
        {
          "name": "stdout",
          "output_type": "stream",
          "text": [
            "[I 2025-05-13 12:27:00,750] Trial 24 finished with value: 1.375192954773961 and parameters: {'learning_rate': 0.04684874289628127, 'max_depth': 5, 'n_estimators': 50, 'subsample': 0.8293500933453539}. Best is trial 18 with value: 1.3670511723305099.\n"
          ]
        },
        {
          "name": "stderr",
          "output_type": "stream",
          "text": [
            "INFO:optuna.study.study:Trial 25 finished with value: 1.3804722825713984 and parameters: {'learning_rate': 0.0453007473622251, 'max_depth': 5, 'n_estimators': 50, 'subsample': 0.8305112941640201}. Best is trial 18 with value: 1.3670511723305099.\n"
          ]
        },
        {
          "name": "stdout",
          "output_type": "stream",
          "text": [
            "[I 2025-05-13 12:27:01,554] Trial 25 finished with value: 1.3804722825713984 and parameters: {'learning_rate': 0.0453007473622251, 'max_depth': 5, 'n_estimators': 50, 'subsample': 0.8305112941640201}. Best is trial 18 with value: 1.3670511723305099.\n"
          ]
        },
        {
          "name": "stderr",
          "output_type": "stream",
          "text": [
            "INFO:optuna.study.study:Trial 26 finished with value: 1.3917179078588409 and parameters: {'learning_rate': 0.02452126905106196, 'max_depth': 5, 'n_estimators': 50, 'subsample': 0.8516860740136323}. Best is trial 18 with value: 1.3670511723305099.\n"
          ]
        },
        {
          "name": "stdout",
          "output_type": "stream",
          "text": [
            "[I 2025-05-13 12:27:02,338] Trial 26 finished with value: 1.3917179078588409 and parameters: {'learning_rate': 0.02452126905106196, 'max_depth': 5, 'n_estimators': 50, 'subsample': 0.8516860740136323}. Best is trial 18 with value: 1.3670511723305099.\n"
          ]
        },
        {
          "name": "stderr",
          "output_type": "stream",
          "text": [
            "INFO:optuna.study.study:Trial 27 finished with value: 1.3691776578784571 and parameters: {'learning_rate': 0.04835449163081517, 'max_depth': 5, 'n_estimators': 50, 'subsample': 0.82199204600135}. Best is trial 18 with value: 1.3670511723305099.\n"
          ]
        },
        {
          "name": "stdout",
          "output_type": "stream",
          "text": [
            "[I 2025-05-13 12:27:03,125] Trial 27 finished with value: 1.3691776578784571 and parameters: {'learning_rate': 0.04835449163081517, 'max_depth': 5, 'n_estimators': 50, 'subsample': 0.82199204600135}. Best is trial 18 with value: 1.3670511723305099.\n"
          ]
        },
        {
          "name": "stderr",
          "output_type": "stream",
          "text": [
            "INFO:optuna.study.study:Trial 28 finished with value: 1.4422912552491969 and parameters: {'learning_rate': 0.07356827193353449, 'max_depth': 5, 'n_estimators': 200, 'subsample': 0.8176570063368627}. Best is trial 18 with value: 1.3670511723305099.\n"
          ]
        },
        {
          "name": "stdout",
          "output_type": "stream",
          "text": [
            "[I 2025-05-13 12:27:05,292] Trial 28 finished with value: 1.4422912552491969 and parameters: {'learning_rate': 0.07356827193353449, 'max_depth': 5, 'n_estimators': 200, 'subsample': 0.8176570063368627}. Best is trial 18 with value: 1.3670511723305099.\n"
          ]
        },
        {
          "name": "stderr",
          "output_type": "stream",
          "text": [
            "INFO:optuna.study.study:Trial 29 finished with value: 1.3677234136037413 and parameters: {'learning_rate': 0.045298047064287576, 'max_depth': 5, 'n_estimators': 50, 'subsample': 0.8555387673396503}. Best is trial 18 with value: 1.3670511723305099.\n"
          ]
        },
        {
          "name": "stdout",
          "output_type": "stream",
          "text": [
            "[I 2025-05-13 12:27:06,060] Trial 29 finished with value: 1.3677234136037413 and parameters: {'learning_rate': 0.045298047064287576, 'max_depth': 5, 'n_estimators': 50, 'subsample': 0.8555387673396503}. Best is trial 18 with value: 1.3670511723305099.\n"
          ]
        },
        {
          "data": {
            "application/vnd.google.colaboratory.intrinsic+json": {
              "summary": "{\n  \"name\": \"optuna_log_df\",\n  \"rows\": 5,\n  \"fields\": [\n    {\n      \"column\": \"Model\",\n      \"properties\": {\n        \"dtype\": \"string\",\n        \"num_unique_values\": 5,\n        \"samples\": [\n          \"RandomForest\",\n          \"SVR\",\n          \"GradientBoosting\"\n        ],\n        \"semantic_type\": \"\",\n        \"description\": \"\"\n      }\n    },\n    {\n      \"column\": \"Params\",\n      \"properties\": {\n        \"dtype\": \"object\",\n        \"semantic_type\": \"\",\n        \"description\": \"\"\n      }\n    },\n    {\n      \"column\": \"Approach\",\n      \"properties\": {\n        \"dtype\": \"category\",\n        \"num_unique_values\": 1,\n        \"samples\": [\n          \"Optuna (log)\"\n        ],\n        \"semantic_type\": \"\",\n        \"description\": \"\"\n      }\n    },\n    {\n      \"column\": \"Time\",\n      \"properties\": {\n        \"dtype\": \"number\",\n        \"std\": 43.557993870241546,\n        \"min\": 1.6,\n        \"max\": 108.06,\n        \"num_unique_values\": 5,\n        \"samples\": [\n          108.06\n        ],\n        \"semantic_type\": \"\",\n        \"description\": \"\"\n      }\n    },\n    {\n      \"column\": \"RMSE\",\n      \"properties\": {\n        \"dtype\": \"number\",\n        \"std\": 0.055418295130701595,\n        \"min\": 1.3670511723305099,\n        \"max\": 1.499760217091614,\n        \"num_unique_values\": 5,\n        \"samples\": [\n          1.3761654646840682\n        ],\n        \"semantic_type\": \"\",\n        \"description\": \"\"\n      }\n    },\n    {\n      \"column\": \"MAE\",\n      \"properties\": {\n        \"dtype\": \"number\",\n        \"std\": 0.02347235184649528,\n        \"min\": 1.0846321635737228,\n        \"max\": 1.1441678063156728,\n        \"num_unique_values\": 5,\n        \"samples\": [\n          1.0846321635737228\n        ],\n        \"semantic_type\": \"\",\n        \"description\": \"\"\n      }\n    },\n    {\n      \"column\": \"R\\u00b2\",\n      \"properties\": {\n        \"dtype\": \"number\",\n        \"std\": 0.056440700234136575,\n        \"min\": 0.20070444314145386,\n        \"max\": 0.33590030062279963,\n        \"num_unique_values\": 5,\n        \"samples\": [\n          0.3270155181086609\n        ],\n        \"semantic_type\": \"\",\n        \"description\": \"\"\n      }\n    }\n  ]\n}",
              "type": "dataframe",
              "variable_name": "optuna_log_df"
            },
            "text/html": [
              "\n",
              "  <div id=\"df-f71de029-2ccf-4b5c-952c-593d37df5810\" class=\"colab-df-container\">\n",
              "    <div>\n",
              "<style scoped>\n",
              "    .dataframe tbody tr th:only-of-type {\n",
              "        vertical-align: middle;\n",
              "    }\n",
              "\n",
              "    .dataframe tbody tr th {\n",
              "        vertical-align: top;\n",
              "    }\n",
              "\n",
              "    .dataframe thead th {\n",
              "        text-align: right;\n",
              "    }\n",
              "</style>\n",
              "<table border=\"1\" class=\"dataframe\">\n",
              "  <thead>\n",
              "    <tr style=\"text-align: right;\">\n",
              "      <th></th>\n",
              "      <th>Model</th>\n",
              "      <th>Params</th>\n",
              "      <th>Approach</th>\n",
              "      <th>Time</th>\n",
              "      <th>RMSE</th>\n",
              "      <th>MAE</th>\n",
              "      <th>R²</th>\n",
              "    </tr>\n",
              "  </thead>\n",
              "  <tbody>\n",
              "    <tr>\n",
              "      <th>0</th>\n",
              "      <td>XGBoost</td>\n",
              "      <td>{'learning_rate': 0.041974862047979455, 'max_d...</td>\n",
              "      <td>Optuna (log)</td>\n",
              "      <td>38.90</td>\n",
              "      <td>1.367051</td>\n",
              "      <td>1.099302</td>\n",
              "      <td>0.335900</td>\n",
              "    </tr>\n",
              "    <tr>\n",
              "      <th>1</th>\n",
              "      <td>RandomForest</td>\n",
              "      <td>{'n_estimators': 50, 'max_depth': 10, 'min_sam...</td>\n",
              "      <td>Optuna (log)</td>\n",
              "      <td>108.06</td>\n",
              "      <td>1.376165</td>\n",
              "      <td>1.084632</td>\n",
              "      <td>0.327016</td>\n",
              "    </tr>\n",
              "    <tr>\n",
              "      <th>2</th>\n",
              "      <td>GradientBoosting</td>\n",
              "      <td>{'learning_rate': 0.05738659139805542, 'n_esti...</td>\n",
              "      <td>Optuna (log)</td>\n",
              "      <td>97.71</td>\n",
              "      <td>1.394831</td>\n",
              "      <td>1.144168</td>\n",
              "      <td>0.308635</td>\n",
              "    </tr>\n",
              "    <tr>\n",
              "      <th>3</th>\n",
              "      <td>KNeighbors</td>\n",
              "      <td>{'n_neighbors': 5, 'weights': 'uniform', 'p': 1}</td>\n",
              "      <td>Optuna (log)</td>\n",
              "      <td>1.60</td>\n",
              "      <td>1.444977</td>\n",
              "      <td>1.127418</td>\n",
              "      <td>0.258032</td>\n",
              "    </tr>\n",
              "    <tr>\n",
              "      <th>4</th>\n",
              "      <td>SVR</td>\n",
              "      <td>{'C': 10, 'epsilon': 0.199921728605941, 'kerne...</td>\n",
              "      <td>Optuna (log)</td>\n",
              "      <td>65.35</td>\n",
              "      <td>1.499760</td>\n",
              "      <td>1.120515</td>\n",
              "      <td>0.200704</td>\n",
              "    </tr>\n",
              "  </tbody>\n",
              "</table>\n",
              "</div>\n",
              "    <div class=\"colab-df-buttons\">\n",
              "\n",
              "  <div class=\"colab-df-container\">\n",
              "    <button class=\"colab-df-convert\" onclick=\"convertToInteractive('df-f71de029-2ccf-4b5c-952c-593d37df5810')\"\n",
              "            title=\"Convert this dataframe to an interactive table.\"\n",
              "            style=\"display:none;\">\n",
              "\n",
              "  <svg xmlns=\"http://www.w3.org/2000/svg\" height=\"24px\" viewBox=\"0 -960 960 960\">\n",
              "    <path d=\"M120-120v-720h720v720H120Zm60-500h600v-160H180v160Zm220 220h160v-160H400v160Zm0 220h160v-160H400v160ZM180-400h160v-160H180v160Zm440 0h160v-160H620v160ZM180-180h160v-160H180v160Zm440 0h160v-160H620v160Z\"/>\n",
              "  </svg>\n",
              "    </button>\n",
              "\n",
              "  <style>\n",
              "    .colab-df-container {\n",
              "      display:flex;\n",
              "      gap: 12px;\n",
              "    }\n",
              "\n",
              "    .colab-df-convert {\n",
              "      background-color: #E8F0FE;\n",
              "      border: none;\n",
              "      border-radius: 50%;\n",
              "      cursor: pointer;\n",
              "      display: none;\n",
              "      fill: #1967D2;\n",
              "      height: 32px;\n",
              "      padding: 0 0 0 0;\n",
              "      width: 32px;\n",
              "    }\n",
              "\n",
              "    .colab-df-convert:hover {\n",
              "      background-color: #E2EBFA;\n",
              "      box-shadow: 0px 1px 2px rgba(60, 64, 67, 0.3), 0px 1px 3px 1px rgba(60, 64, 67, 0.15);\n",
              "      fill: #174EA6;\n",
              "    }\n",
              "\n",
              "    .colab-df-buttons div {\n",
              "      margin-bottom: 4px;\n",
              "    }\n",
              "\n",
              "    [theme=dark] .colab-df-convert {\n",
              "      background-color: #3B4455;\n",
              "      fill: #D2E3FC;\n",
              "    }\n",
              "\n",
              "    [theme=dark] .colab-df-convert:hover {\n",
              "      background-color: #434B5C;\n",
              "      box-shadow: 0px 1px 3px 1px rgba(0, 0, 0, 0.15);\n",
              "      filter: drop-shadow(0px 1px 2px rgba(0, 0, 0, 0.3));\n",
              "      fill: #FFFFFF;\n",
              "    }\n",
              "  </style>\n",
              "\n",
              "    <script>\n",
              "      const buttonEl =\n",
              "        document.querySelector('#df-f71de029-2ccf-4b5c-952c-593d37df5810 button.colab-df-convert');\n",
              "      buttonEl.style.display =\n",
              "        google.colab.kernel.accessAllowed ? 'block' : 'none';\n",
              "\n",
              "      async function convertToInteractive(key) {\n",
              "        const element = document.querySelector('#df-f71de029-2ccf-4b5c-952c-593d37df5810');\n",
              "        const dataTable =\n",
              "          await google.colab.kernel.invokeFunction('convertToInteractive',\n",
              "                                                    [key], {});\n",
              "        if (!dataTable) return;\n",
              "\n",
              "        const docLinkHtml = 'Like what you see? Visit the ' +\n",
              "          '<a target=\"_blank\" href=https://colab.research.google.com/notebooks/data_table.ipynb>data table notebook</a>'\n",
              "          + ' to learn more about interactive tables.';\n",
              "        element.innerHTML = '';\n",
              "        dataTable['output_type'] = 'display_data';\n",
              "        await google.colab.output.renderOutput(dataTable, element);\n",
              "        const docLink = document.createElement('div');\n",
              "        docLink.innerHTML = docLinkHtml;\n",
              "        element.appendChild(docLink);\n",
              "      }\n",
              "    </script>\n",
              "  </div>\n",
              "\n",
              "\n",
              "    <div id=\"df-673f13a5-f1ba-46e1-9a77-1e44de04f8b5\">\n",
              "      <button class=\"colab-df-quickchart\" onclick=\"quickchart('df-673f13a5-f1ba-46e1-9a77-1e44de04f8b5')\"\n",
              "                title=\"Suggest charts\"\n",
              "                style=\"display:none;\">\n",
              "\n",
              "<svg xmlns=\"http://www.w3.org/2000/svg\" height=\"24px\"viewBox=\"0 0 24 24\"\n",
              "     width=\"24px\">\n",
              "    <g>\n",
              "        <path d=\"M19 3H5c-1.1 0-2 .9-2 2v14c0 1.1.9 2 2 2h14c1.1 0 2-.9 2-2V5c0-1.1-.9-2-2-2zM9 17H7v-7h2v7zm4 0h-2V7h2v10zm4 0h-2v-4h2v4z\"/>\n",
              "    </g>\n",
              "</svg>\n",
              "      </button>\n",
              "\n",
              "<style>\n",
              "  .colab-df-quickchart {\n",
              "      --bg-color: #E8F0FE;\n",
              "      --fill-color: #1967D2;\n",
              "      --hover-bg-color: #E2EBFA;\n",
              "      --hover-fill-color: #174EA6;\n",
              "      --disabled-fill-color: #AAA;\n",
              "      --disabled-bg-color: #DDD;\n",
              "  }\n",
              "\n",
              "  [theme=dark] .colab-df-quickchart {\n",
              "      --bg-color: #3B4455;\n",
              "      --fill-color: #D2E3FC;\n",
              "      --hover-bg-color: #434B5C;\n",
              "      --hover-fill-color: #FFFFFF;\n",
              "      --disabled-bg-color: #3B4455;\n",
              "      --disabled-fill-color: #666;\n",
              "  }\n",
              "\n",
              "  .colab-df-quickchart {\n",
              "    background-color: var(--bg-color);\n",
              "    border: none;\n",
              "    border-radius: 50%;\n",
              "    cursor: pointer;\n",
              "    display: none;\n",
              "    fill: var(--fill-color);\n",
              "    height: 32px;\n",
              "    padding: 0;\n",
              "    width: 32px;\n",
              "  }\n",
              "\n",
              "  .colab-df-quickchart:hover {\n",
              "    background-color: var(--hover-bg-color);\n",
              "    box-shadow: 0 1px 2px rgba(60, 64, 67, 0.3), 0 1px 3px 1px rgba(60, 64, 67, 0.15);\n",
              "    fill: var(--button-hover-fill-color);\n",
              "  }\n",
              "\n",
              "  .colab-df-quickchart-complete:disabled,\n",
              "  .colab-df-quickchart-complete:disabled:hover {\n",
              "    background-color: var(--disabled-bg-color);\n",
              "    fill: var(--disabled-fill-color);\n",
              "    box-shadow: none;\n",
              "  }\n",
              "\n",
              "  .colab-df-spinner {\n",
              "    border: 2px solid var(--fill-color);\n",
              "    border-color: transparent;\n",
              "    border-bottom-color: var(--fill-color);\n",
              "    animation:\n",
              "      spin 1s steps(1) infinite;\n",
              "  }\n",
              "\n",
              "  @keyframes spin {\n",
              "    0% {\n",
              "      border-color: transparent;\n",
              "      border-bottom-color: var(--fill-color);\n",
              "      border-left-color: var(--fill-color);\n",
              "    }\n",
              "    20% {\n",
              "      border-color: transparent;\n",
              "      border-left-color: var(--fill-color);\n",
              "      border-top-color: var(--fill-color);\n",
              "    }\n",
              "    30% {\n",
              "      border-color: transparent;\n",
              "      border-left-color: var(--fill-color);\n",
              "      border-top-color: var(--fill-color);\n",
              "      border-right-color: var(--fill-color);\n",
              "    }\n",
              "    40% {\n",
              "      border-color: transparent;\n",
              "      border-right-color: var(--fill-color);\n",
              "      border-top-color: var(--fill-color);\n",
              "    }\n",
              "    60% {\n",
              "      border-color: transparent;\n",
              "      border-right-color: var(--fill-color);\n",
              "    }\n",
              "    80% {\n",
              "      border-color: transparent;\n",
              "      border-right-color: var(--fill-color);\n",
              "      border-bottom-color: var(--fill-color);\n",
              "    }\n",
              "    90% {\n",
              "      border-color: transparent;\n",
              "      border-bottom-color: var(--fill-color);\n",
              "    }\n",
              "  }\n",
              "</style>\n",
              "\n",
              "      <script>\n",
              "        async function quickchart(key) {\n",
              "          const quickchartButtonEl =\n",
              "            document.querySelector('#' + key + ' button');\n",
              "          quickchartButtonEl.disabled = true;  // To prevent multiple clicks.\n",
              "          quickchartButtonEl.classList.add('colab-df-spinner');\n",
              "          try {\n",
              "            const charts = await google.colab.kernel.invokeFunction(\n",
              "                'suggestCharts', [key], {});\n",
              "          } catch (error) {\n",
              "            console.error('Error during call to suggestCharts:', error);\n",
              "          }\n",
              "          quickchartButtonEl.classList.remove('colab-df-spinner');\n",
              "          quickchartButtonEl.classList.add('colab-df-quickchart-complete');\n",
              "        }\n",
              "        (() => {\n",
              "          let quickchartButtonEl =\n",
              "            document.querySelector('#df-673f13a5-f1ba-46e1-9a77-1e44de04f8b5 button');\n",
              "          quickchartButtonEl.style.display =\n",
              "            google.colab.kernel.accessAllowed ? 'block' : 'none';\n",
              "        })();\n",
              "      </script>\n",
              "    </div>\n",
              "    </div>\n",
              "  </div>\n"
            ],
            "text/plain": [
              "              Model                                             Params  \\\n",
              "0           XGBoost  {'learning_rate': 0.041974862047979455, 'max_d...   \n",
              "1      RandomForest  {'n_estimators': 50, 'max_depth': 10, 'min_sam...   \n",
              "2  GradientBoosting  {'learning_rate': 0.05738659139805542, 'n_esti...   \n",
              "3        KNeighbors   {'n_neighbors': 5, 'weights': 'uniform', 'p': 1}   \n",
              "4               SVR  {'C': 10, 'epsilon': 0.199921728605941, 'kerne...   \n",
              "\n",
              "       Approach    Time      RMSE       MAE        R²  \n",
              "0  Optuna (log)   38.90  1.367051  1.099302  0.335900  \n",
              "1  Optuna (log)  108.06  1.376165  1.084632  0.327016  \n",
              "2  Optuna (log)   97.71  1.394831  1.144168  0.308635  \n",
              "3  Optuna (log)    1.60  1.444977  1.127418  0.258032  \n",
              "4  Optuna (log)   65.35  1.499760  1.120515  0.200704  "
            ]
          },
          "execution_count": 63,
          "metadata": {},
          "output_type": "execute_result"
        }
      ],
      "source": [
        "for model_name, config in model_params.items():\n",
        "    if not config['params']:  # Пропускаем LinearRegression\n",
        "        continue\n",
        "\n",
        "    print(f\" Запуск Optuna для {model_name} с log(IC50)...\")\n",
        "\n",
        "    study = optuna.create_study(direction='minimize')\n",
        "    func = lambda trial, mn=model_name: objective_log(trial, mn)\n",
        "\n",
        "    # Замеряем время\n",
        "    start_time = time.time()\n",
        "    study.optimize(func, n_trials=30, n_jobs=1, show_progress_bar=True)\n",
        "    duration = time.time() - start_time\n",
        "\n",
        "    # Обучаем финальную модель с лучшими параметрами\n",
        "    best_params = study.best_params\n",
        "    model_class = type(config['model'])\n",
        "    model = model_class(**best_params, random_state=42) if 'random_state' in model_class().get_params() else model_class(**best_params)\n",
        "    model.fit(X_train, y_train)\n",
        "    y_pred = model.predict(X_test)\n",
        "    metrics = evaluate_model(y_test, y_pred)\n",
        "\n",
        "    # Сохраняем результаты\n",
        "    results_optuna_log.append({\n",
        "        'Model': model_name,\n",
        "        'Params': best_params,\n",
        "        'Approach': 'Optuna (log)',\n",
        "        'Time': round(duration, 2),\n",
        "        'RMSE': metrics['RMSE'],\n",
        "        'MAE': metrics['MAE'],\n",
        "        'R²': metrics['R²']\n",
        "    })\n",
        "\n",
        "# Вывод таблицы\n",
        "optuna_log_df = pd.DataFrame(results_optuna_log)\n",
        "optuna_log_df.sort_values(by='R²', ascending=False, inplace=True)\n",
        "optuna_log_df.reset_index(drop=True, inplace=True)\n",
        "optuna_log_df"
      ]
    },
    {
      "cell_type": "code",
      "execution_count": null,
      "metadata": {
        "colab": {
          "base_uri": "https://localhost:8080/"
        },
        "id": "fDKvTIxuoPV7",
        "outputId": "dc3c6ef9-875f-4489-ba3e-764e8f7fcbf8"
      },
      "outputs": [
        {
          "name": "stdout",
          "output_type": "stream",
          "text": [
            " Финальная модель XGBoost сохранена\n"
          ]
        }
      ],
      "source": [
        "# Выбираем XGBoost из таблицы\n",
        "xgb_row = optuna_log_df[optuna_log_df['Model'] == 'XGBoost'].iloc[0]\n",
        "\n",
        "# Обучаем на всём train-наборе\n",
        "final_model = XGBRegressor(**xgb_row['Params'], random_state=42)\n",
        "final_model.fit(X_train, y_train)\n",
        "\n",
        "# Сохраняем модель\n",
        "joblib.dump(final_model, 'final_xgboost_ic50_log.pkl')\n",
        "\n",
        "print(\" Финальная модель XGBoost сохранена\")"
      ]
    },
    {
      "cell_type": "code",
      "execution_count": null,
      "metadata": {
        "colab": {
          "base_uri": "https://localhost:8080/"
        },
        "id": "aRj3FeFWoXOJ",
        "outputId": "5dfdda19-367d-4fbf-914c-325b0ff9c976"
      },
      "outputs": [
        {
          "name": "stdout",
          "output_type": "stream",
          "text": [
            "RMSE на оригинальной шкале: 236.20\n",
            "MAE на оригинальной шкале: 120.48\n",
            "R² на оригинальной шкале: -0.03\n"
          ]
        }
      ],
      "source": [
        "# Предсказание в логарифмах\n",
        "y_pred_log = final_model.predict(X_test)\n",
        "\n",
        "# Восстановление оригинального масштаба\n",
        "y_pred_original = np.expm1(y_pred_log)\n",
        "y_test_original = np.expm1(y_test)\n",
        "\n",
        "# Оценка в реальных значениях IC50\n",
        "metrics_original = evaluate_model(y_test_original, y_pred_original)\n",
        "print(f\"RMSE на оригинальной шкале: {metrics_original['RMSE']:.2f}\")\n",
        "print(f\"MAE на оригинальной шкале: {metrics_original['MAE']:.2f}\")\n",
        "print(f\"R² на оригинальной шкале: {metrics_original['R²']:.2f}\")"
      ]
    },
    {
      "cell_type": "markdown",
      "metadata": {
        "id": "Dm1APMpus0Ry"
      },
      "source": [
        "###Вывод  по  этапу обучения  моделей на логарифмированной целевой  перменной IC50"
      ]
    },
    {
      "cell_type": "markdown",
      "metadata": {
        "id": "swO45pQmop_L"
      },
      "source": [
        "  После полного цикла исследовательского анализа и оптимизации гиперпараметров с помощью Optuna:\n",
        "\n",
        "  Лучшей моделью стала XGBoost , обученная на логарифме целевой переменной .\n",
        "  Она достигла значения R² = 0.336 , что является наилучшим результатом  среди всех протестированных подходов.\n",
        "  Это говорит о том, что модель способна объяснить около 34% вариации значения IC50 , что может быть достаточным для ранжирования соединений по активности, но недостаточно для точного прогноза.\n",
        "  Дальнейшее улучшение качества возможно только через добавление новых признаков  (например, молекулярных дескрипторов), либо через переход к классификации  (\"сильный/слабый ингибитор\").\n",
        "         \n",
        "\n",
        "     "
      ]
    },
    {
      "cell_type": "markdown",
      "metadata": {
        "id": "G37dnuqOs_MJ"
      },
      "source": [
        "###Общий вывод по исследованию задачи регрессии IC50"
      ]
    },
    {
      "cell_type": "markdown",
      "metadata": {
        "id": "6skpGyD9rSCB"
      },
      "source": [
        "# Отчёт по исследованию регрессии IC50\n",
        "\n",
        "## 1. Подготовка данных\n",
        "- **Целевая переменная**: IC50, mM\n",
        "- **Признаки**: все колонки, кроме 'IC50, mM', 'CC50, mM', 'SI'\n",
        "- **Разделение на train/test**: `train_test_split(test_size=0.2, random_state=42)`\n",
        "- **Обработка данных**:Данные  лодготовлены ранее\n",
        "\n",
        "Все модели обучались на исходных значениях IC50.\n",
        "\n",
        "## 2. Базовое обучение моделей (Baseline)\n",
        "\n",
        "| Model            | Params  | Approach  | Time |        RMSE |         MAE |          R² |\n",
        "|------------------|---------|-----------|------|------------:|------------:|------------:|\n",
        "| LinearRegression | default | Baseline  | -    | 253.565848  | 168.921868  |  -0.182031  |\n",
        "| RandomForest     | default | Baseline  | -    | 218.106676  | 140.291133  |   0.125449  |\n",
        "| GradientBoosting | default | Baseline  | -    | 219.763929  | 140.942137  |   0.112108  |\n",
        "| SVR             | default | Baseline  | -    | 256.141315  | 127.734785  |  -0.206164  |\n",
        "| KNeighbors      | default | Baseline  | -    | 230.624306  | 140.264934  |   0.022184  |\n",
        "| XGBoost         | default | Baseline  | -    | 242.356968  | 151.975359  |  -0.079837  |\n",
        "\n",
        "\n",
        "\n",
        "**Вывод**: RandomForest и GradientBoosting показали лучшие результаты \"из коробки\".\n",
        "\n",
        "## 3. GridSearchCV — полный перебор гиперпараметров\n",
        "Использован метод GridSearchCV с 3 фолдами. Пространство параметров — как задано в model_params.\n",
        "\n",
        "| Model            | Params                                                                 | Approach    | Time    |       RMSE |        MAE |        R² |\n",
        "|------------------|-----------------------------------------------------------------------|-------------|---------|-----------:|-----------:|----------:|\n",
        "| RandomForest     | `{'max_depth': 5, 'min_samples_split': 5, 'n_estimators': 200}`      | GridSearchCV| 177.58  | 217.892849 | 144.080745 | 0.127163  |\n",
        "| GradientBoosting | `{'learning_rate': 0.01, 'max_depth': 3, 'n_estimators': 200}`       | GridSearchCV| 201.64  | 219.292766 | 146.754596 | 0.115911  |\n",
        "| SVR             | `{'C': 10, 'epsilon': 0.1, 'kernel': 'linear'}`                      | GridSearchCV| 5.81    | 232.644343 | 129.826904 | 0.004979  |\n",
        "| KNeighbors      | `{'n_neighbors': 7, 'p': 1, 'weights': 'uniform'}`                   | GridSearchCV| 0.83    | 224.690841 | 137.205076 | 0.071851  |\n",
        "| XGBoost         | `{'learning_rate': 0.01, 'max_depth': 3, 'n_estimators': 200}`       | GridSearchCV| 224.81  | 217.728497 | 143.404539 | 0.128479  |\n",
        "\n",
        "\n",
        "**Вывод**: Некоторые модели (RandomForest, XGBoost) немного улучшились после GridSearchCV. SVR показала слабые результаты даже после оптимизации.\n",
        "\n",
        "## 4. Optuna — байесовская оптимизация гиперпараметров\n",
        "Использован метод Optuna, количество итераций — 30 на модель.\n",
        "\n",
        "| Model            | Params                                                                 | Approach | Time   |      RMSE |       MAE |       R² |\n",
        "|------------------|-----------------------------------------------------------------------|----------|--------|----------:|----------:|---------:|\n",
        "| RandomForest     | `n_estimators=200, max_depth=10, min_samples_leaf=4`                 | Optuna   | 240.73 | 215.86279 | 141.82915 | 0.143351 |\n",
        "| GradientBoosting | `learning_rate=0.107, n_estimators=180, max_depth=4`                  | Optuna   | 83.56  | 217.46333 | 142.84277 | 0.130601 |\n",
        "| SVR             | `C=10, epsilon=0.1, kernel='linear'`                                  | Optuna   | 12.08  | 232.64435 | 129.82691 | 0.004979 |\n",
        "| KNeighbors      | `n_neighbors=5, weights='uniform', p=1`                               | Optuna   | 1.47   | 221.98437 | 133.85424 | 0.094076 |\n",
        "| XGBoost         | `learning_rate=0.0728, max_depth=5, n_estimators=180, colsample_bytree=0.8` | Optuna | 42.36 | 212.31002 | 131.58983 | 0.171318 |\n",
        "\n",
        "**Вывод**: Optuna обеспечил наибольший прогресс по сравнению с Baseline и GridSearchCV. Лучшая модель: XGBoost + Optuna → R² = 0.171.\n",
        "\n",
        "markdown\n",
        "## 5. Логарифмирование целевой переменной\n",
        "\n",
        "Целевая переменная была логарифмирована для уменьшения влияния возможных выбросов:\n",
        "\n",
        "$$ y_{log} = \\log(1 + \\text{IC50}) $$\n",
        "\n",
        "\n",
        "\n",
        "Обучение проводилось на логарифме, оценка метрик — в логарифмированном пространстве.\n",
        "Модель\tRMSE\tMAE\tR²\n",
        "XGBoost\t1.367\t1.099\t0.336\n",
        "RandomForest\t1.376\t1.085\t0.327\n",
        "GradientBoosting\t1.395\t1.144\t0.309\n",
        "KNeighbors\t1.445\t1.127\t0.258\n",
        "SVR\t1.499\t1.121\t0.201\n",
        "\n",
        "Вывод: Логарифмирование значительно улучшило метрики. XGBoost объяснила около 34% дисперсии в логарифмированной шкале.\n",
        "\n",
        "##6. Обратное преобразование прогноза к оригинальной шкале\n",
        "\n",
        "Для перехода к исходным значениям использовано:\n",
        "python\n",
        "\n",
        "y_pred_original = np.expm1(y_pred_log)\n",
        "\n",
        "Модель\tМетод\tRMSE\tMAE\tR²\n",
        "XGBoost\tOptuna + expm1(log_IC50)\t236.20\t120.48\t-0.03\n",
        "\n",
        "Вывод: После обратного преобразования качество резко упало. R² < 0 говорит о том, что модель работает хуже константы. Это указывает на ограниченную информативность признаков в текущем виде.\n",
        "## 7. Сводная таблица результатов (итоговая)\n",
        "\n",
        "| № | Модель             | Параметры                                                                                                                                 | Подход       | Время, сек | RMSE     | MAE      | R²       |\n",
        "|---|--------------------|------------------------------------------------------------------------------------------------------------------------------------------|--------------|------------|----------|----------|----------|\n",
        "| 0 | XGBoost            | `{'learning_rate': 0.041974862047979455, 'max_depth': 6, 'n_estimators': 172, 'subsample': 0.9}`                                           | Optuna (log) | 38.90      | 1.367    | 1.099    | 0.336    |\n",
        "| 1 | RandomForest       | `{'n_estimators': 50, 'max_depth': 10, 'min_samples_split': 2}`                                                                           | Optuna (log) | 108.06     | 1.376    | 1.085    | 0.327    |\n",
        "| 2 | GradientBoosting   | `{'learning_rate': 0.05738659139805542, 'n_estimators': 100, 'max_depth': 5, 'min_samples_split': 5}`                                     | Optuna (log) | 97.71      | 1.395    | 1.144    | 0.309    |\n",
        "| 3 | KNeighbors        | `{'n_neighbors': 5, 'weights': 'uniform', 'p': 1}`                                                                                        | Optuna (log) | 1.60       | 1.445    | 1.127    | 0.258    |\n",
        "| 4 | SVR               | `{'C': 10, 'epsilon': 0.199921728605941, 'kernel': 'rbf'}`                                                                              | Optuna (log) | 65.35      | 1.499    | 1.121    | 0.201    |\n",
        "\n",
        "\n",
        "## 8. Метрики и их значение\n",
        "\n",
        "\n",
        "\n",
        "| Метрика | Описание | Зачем нужна |\n",
        "|--------|----------|-------------|\n",
        "| **RMSE** (Root Mean Squared Error) | Среднеквадратичное отклонение предсказанных значений от реальных | Позволяет оценить точность модели с акцентом на большие ошибки; полезна, когда критично минимизировать крупные отклонения в прогнозе активности вещества |\n",
        "| **MAE** (Mean Absolute Error) | Среднее абсолютное отклонение предсказаний от истинных значений | Даёт интуитивно понятную меру средней ошибки модели; устойчива к выбросам и удобна для интерпретации |\n",
        "| **R²** (Коэффициент детерминации) | Доля дисперсии целевой переменной, объяснённой моделью | Показывает, насколько хорошо модель воспроизводит вариации в данных; позволяет сравнить модель с тривиальным предсказанием среднего значения |\n",
        "\n",
        "Итоговый вывод\n",
        "\n",
        "Были выполнены следующие этапы:\n",
        "\n",
        "    Обучение 6 моделей машинного обучения без подбора гиперпараметров (Baseline)\n",
        "\n",
        "    Подбор гиперпараметров с помощью GridSearchCV и Optuna для всех моделей\n",
        "\n",
        "    Протестировано логарифмирование целевой переменной для улучшения стабильности обучения\n",
        "\n",
        "    Выполнен запуск LightAutoML (не завершён из-за совместимости версий)\n",
        "\n",
        "    Сохранена финальная модель XGBoost с наилучшими найденными параметрами\n",
        "\n",
        "Полученные результаты:\n",
        "\n",
        "    Наилучшая модель: XGBoost, обученная через Optuna с использованием логарифмирования целевой  перменной."
      ]
    }
  ],
  "metadata": {
    "colab": {
      "provenance": [],
      "include_colab_link": true
    },
    "kernelspec": {
      "display_name": "Python 3 (ipykernel)",
      "language": "python",
      "name": "python3"
    },
    "language_info": {
      "codemirror_mode": {
        "name": "ipython",
        "version": 3
      },
      "file_extension": ".py",
      "mimetype": "text/x-python",
      "name": "python",
      "nbconvert_exporter": "python",
      "pygments_lexer": "ipython3",
      "version": "3.12.7"
    },
    "widgets": {
      "application/vnd.jupyter.widget-state+json": {
        "01ce0ee21f5249c2884cb5b0498e1af6": {
          "model_module": "@jupyter-widgets/controls",
          "model_module_version": "1.5.0",
          "model_name": "HTMLModel",
          "state": {
            "_dom_classes": [],
            "_model_module": "@jupyter-widgets/controls",
            "_model_module_version": "1.5.0",
            "_model_name": "HTMLModel",
            "_view_count": null,
            "_view_module": "@jupyter-widgets/controls",
            "_view_module_version": "1.5.0",
            "_view_name": "HTMLView",
            "description": "",
            "description_tooltip": null,
            "layout": "IPY_MODEL_3d78137c9b2548298d952f96620015df",
            "placeholder": "​",
            "style": "IPY_MODEL_1cc60f57c3ad4cba8c03a2109380c99f",
            "value": "Best trial: 26. Best value: 215.863: 100%"
          }
        },
        "07cb041197f74258a93997833d86a088": {
          "model_module": "@jupyter-widgets/controls",
          "model_module_version": "1.5.0",
          "model_name": "FloatProgressModel",
          "state": {
            "_dom_classes": [],
            "_model_module": "@jupyter-widgets/controls",
            "_model_module_version": "1.5.0",
            "_model_name": "FloatProgressModel",
            "_view_count": null,
            "_view_module": "@jupyter-widgets/controls",
            "_view_module_version": "1.5.0",
            "_view_name": "ProgressView",
            "bar_style": "success",
            "description": "",
            "description_tooltip": null,
            "layout": "IPY_MODEL_11e419f1dbc64c84948202ca989d93e5",
            "max": 30,
            "min": 0,
            "orientation": "horizontal",
            "style": "IPY_MODEL_d34bde51d38d486f889054e004694cf5",
            "value": 30
          }
        },
        "0eabf64dad9c460d96be26228e052e1a": {
          "model_module": "@jupyter-widgets/base",
          "model_module_version": "1.2.0",
          "model_name": "LayoutModel",
          "state": {
            "_model_module": "@jupyter-widgets/base",
            "_model_module_version": "1.2.0",
            "_model_name": "LayoutModel",
            "_view_count": null,
            "_view_module": "@jupyter-widgets/base",
            "_view_module_version": "1.2.0",
            "_view_name": "LayoutView",
            "align_content": null,
            "align_items": null,
            "align_self": null,
            "border": null,
            "bottom": null,
            "display": null,
            "flex": null,
            "flex_flow": null,
            "grid_area": null,
            "grid_auto_columns": null,
            "grid_auto_flow": null,
            "grid_auto_rows": null,
            "grid_column": null,
            "grid_gap": null,
            "grid_row": null,
            "grid_template_areas": null,
            "grid_template_columns": null,
            "grid_template_rows": null,
            "height": null,
            "justify_content": null,
            "justify_items": null,
            "left": null,
            "margin": null,
            "max_height": null,
            "max_width": null,
            "min_height": null,
            "min_width": null,
            "object_fit": null,
            "object_position": null,
            "order": null,
            "overflow": null,
            "overflow_x": null,
            "overflow_y": null,
            "padding": null,
            "right": null,
            "top": null,
            "visibility": null,
            "width": null
          }
        },
        "0eefe0f51e38435f84fe5cf4848a15e4": {
          "model_module": "@jupyter-widgets/base",
          "model_module_version": "1.2.0",
          "model_name": "LayoutModel",
          "state": {
            "_model_module": "@jupyter-widgets/base",
            "_model_module_version": "1.2.0",
            "_model_name": "LayoutModel",
            "_view_count": null,
            "_view_module": "@jupyter-widgets/base",
            "_view_module_version": "1.2.0",
            "_view_name": "LayoutView",
            "align_content": null,
            "align_items": null,
            "align_self": null,
            "border": null,
            "bottom": null,
            "display": null,
            "flex": null,
            "flex_flow": null,
            "grid_area": null,
            "grid_auto_columns": null,
            "grid_auto_flow": null,
            "grid_auto_rows": null,
            "grid_column": null,
            "grid_gap": null,
            "grid_row": null,
            "grid_template_areas": null,
            "grid_template_columns": null,
            "grid_template_rows": null,
            "height": null,
            "justify_content": null,
            "justify_items": null,
            "left": null,
            "margin": null,
            "max_height": null,
            "max_width": null,
            "min_height": null,
            "min_width": null,
            "object_fit": null,
            "object_position": null,
            "order": null,
            "overflow": null,
            "overflow_x": null,
            "overflow_y": null,
            "padding": null,
            "right": null,
            "top": null,
            "visibility": null,
            "width": null
          }
        },
        "10991dd21d8448ba9daddab886b7c5f2": {
          "model_module": "@jupyter-widgets/base",
          "model_module_version": "1.2.0",
          "model_name": "LayoutModel",
          "state": {
            "_model_module": "@jupyter-widgets/base",
            "_model_module_version": "1.2.0",
            "_model_name": "LayoutModel",
            "_view_count": null,
            "_view_module": "@jupyter-widgets/base",
            "_view_module_version": "1.2.0",
            "_view_name": "LayoutView",
            "align_content": null,
            "align_items": null,
            "align_self": null,
            "border": null,
            "bottom": null,
            "display": null,
            "flex": null,
            "flex_flow": null,
            "grid_area": null,
            "grid_auto_columns": null,
            "grid_auto_flow": null,
            "grid_auto_rows": null,
            "grid_column": null,
            "grid_gap": null,
            "grid_row": null,
            "grid_template_areas": null,
            "grid_template_columns": null,
            "grid_template_rows": null,
            "height": null,
            "justify_content": null,
            "justify_items": null,
            "left": null,
            "margin": null,
            "max_height": null,
            "max_width": null,
            "min_height": null,
            "min_width": null,
            "object_fit": null,
            "object_position": null,
            "order": null,
            "overflow": null,
            "overflow_x": null,
            "overflow_y": null,
            "padding": null,
            "right": null,
            "top": null,
            "visibility": null,
            "width": null
          }
        },
        "11e419f1dbc64c84948202ca989d93e5": {
          "model_module": "@jupyter-widgets/base",
          "model_module_version": "1.2.0",
          "model_name": "LayoutModel",
          "state": {
            "_model_module": "@jupyter-widgets/base",
            "_model_module_version": "1.2.0",
            "_model_name": "LayoutModel",
            "_view_count": null,
            "_view_module": "@jupyter-widgets/base",
            "_view_module_version": "1.2.0",
            "_view_name": "LayoutView",
            "align_content": null,
            "align_items": null,
            "align_self": null,
            "border": null,
            "bottom": null,
            "display": null,
            "flex": null,
            "flex_flow": null,
            "grid_area": null,
            "grid_auto_columns": null,
            "grid_auto_flow": null,
            "grid_auto_rows": null,
            "grid_column": null,
            "grid_gap": null,
            "grid_row": null,
            "grid_template_areas": null,
            "grid_template_columns": null,
            "grid_template_rows": null,
            "height": null,
            "justify_content": null,
            "justify_items": null,
            "left": null,
            "margin": null,
            "max_height": null,
            "max_width": null,
            "min_height": null,
            "min_width": null,
            "object_fit": null,
            "object_position": null,
            "order": null,
            "overflow": null,
            "overflow_x": null,
            "overflow_y": null,
            "padding": null,
            "right": null,
            "top": null,
            "visibility": null,
            "width": null
          }
        },
        "12b96dfe170c49bd821fa46c0f373a86": {
          "model_module": "@jupyter-widgets/controls",
          "model_module_version": "1.5.0",
          "model_name": "HTMLModel",
          "state": {
            "_dom_classes": [],
            "_model_module": "@jupyter-widgets/controls",
            "_model_module_version": "1.5.0",
            "_model_name": "HTMLModel",
            "_view_count": null,
            "_view_module": "@jupyter-widgets/controls",
            "_view_module_version": "1.5.0",
            "_view_name": "HTMLView",
            "description": "",
            "description_tooltip": null,
            "layout": "IPY_MODEL_7eaf0e7552da44c0b635d14fa6cefd8e",
            "placeholder": "​",
            "style": "IPY_MODEL_5d75222c494c4cf5b45ea36e06345ebe",
            "value": "Best trial: 18. Best value: 1.36705: 100%"
          }
        },
        "19382a7bc62447afb12173cfe6fbf8d8": {
          "model_module": "@jupyter-widgets/base",
          "model_module_version": "1.2.0",
          "model_name": "LayoutModel",
          "state": {
            "_model_module": "@jupyter-widgets/base",
            "_model_module_version": "1.2.0",
            "_model_name": "LayoutModel",
            "_view_count": null,
            "_view_module": "@jupyter-widgets/base",
            "_view_module_version": "1.2.0",
            "_view_name": "LayoutView",
            "align_content": null,
            "align_items": null,
            "align_self": null,
            "border": null,
            "bottom": null,
            "display": null,
            "flex": null,
            "flex_flow": null,
            "grid_area": null,
            "grid_auto_columns": null,
            "grid_auto_flow": null,
            "grid_auto_rows": null,
            "grid_column": null,
            "grid_gap": null,
            "grid_row": null,
            "grid_template_areas": null,
            "grid_template_columns": null,
            "grid_template_rows": null,
            "height": null,
            "justify_content": null,
            "justify_items": null,
            "left": null,
            "margin": null,
            "max_height": null,
            "max_width": null,
            "min_height": null,
            "min_width": null,
            "object_fit": null,
            "object_position": null,
            "order": null,
            "overflow": null,
            "overflow_x": null,
            "overflow_y": null,
            "padding": null,
            "right": null,
            "top": null,
            "visibility": null,
            "width": null
          }
        },
        "1aa2fb75e7c44aacbe4584543bc58355": {
          "model_module": "@jupyter-widgets/controls",
          "model_module_version": "1.5.0",
          "model_name": "HTMLModel",
          "state": {
            "_dom_classes": [],
            "_model_module": "@jupyter-widgets/controls",
            "_model_module_version": "1.5.0",
            "_model_name": "HTMLModel",
            "_view_count": null,
            "_view_module": "@jupyter-widgets/controls",
            "_view_module_version": "1.5.0",
            "_view_name": "HTMLView",
            "description": "",
            "description_tooltip": null,
            "layout": "IPY_MODEL_95a9657c06af473fbc5a7b4b89491886",
            "placeholder": "​",
            "style": "IPY_MODEL_685167c618dc470fb0a113f7eabea555",
            "value": " 30/30 [00:38&lt;00:00,  1.21s/it]"
          }
        },
        "1b0b8733d81b4f86bd49a5ce2f5d6d98": {
          "model_module": "@jupyter-widgets/controls",
          "model_module_version": "1.5.0",
          "model_name": "HTMLModel",
          "state": {
            "_dom_classes": [],
            "_model_module": "@jupyter-widgets/controls",
            "_model_module_version": "1.5.0",
            "_model_name": "HTMLModel",
            "_view_count": null,
            "_view_module": "@jupyter-widgets/controls",
            "_view_module_version": "1.5.0",
            "_view_name": "HTMLView",
            "description": "",
            "description_tooltip": null,
            "layout": "IPY_MODEL_3a3b028fbb034ecabf56645efcf81223",
            "placeholder": "​",
            "style": "IPY_MODEL_dc7d0466372e4cd6b96079f364817a0d",
            "value": " 30/30 [01:05&lt;00:00,  5.74s/it]"
          }
        },
        "1cc60f57c3ad4cba8c03a2109380c99f": {
          "model_module": "@jupyter-widgets/controls",
          "model_module_version": "1.5.0",
          "model_name": "DescriptionStyleModel",
          "state": {
            "_model_module": "@jupyter-widgets/controls",
            "_model_module_version": "1.5.0",
            "_model_name": "DescriptionStyleModel",
            "_view_count": null,
            "_view_module": "@jupyter-widgets/base",
            "_view_module_version": "1.2.0",
            "_view_name": "StyleView",
            "description_width": ""
          }
        },
        "2001ea26a2354a5198e0f7927d3d657f": {
          "model_module": "@jupyter-widgets/controls",
          "model_module_version": "1.5.0",
          "model_name": "FloatProgressModel",
          "state": {
            "_dom_classes": [],
            "_model_module": "@jupyter-widgets/controls",
            "_model_module_version": "1.5.0",
            "_model_name": "FloatProgressModel",
            "_view_count": null,
            "_view_module": "@jupyter-widgets/controls",
            "_view_module_version": "1.5.0",
            "_view_name": "ProgressView",
            "bar_style": "success",
            "description": "",
            "description_tooltip": null,
            "layout": "IPY_MODEL_d9c256530be14ef9bf05dbae135c9b3a",
            "max": 30,
            "min": 0,
            "orientation": "horizontal",
            "style": "IPY_MODEL_5fb59915407846fba2fbb479330d7788",
            "value": 30
          }
        },
        "22febbd294e94a51a781b238a56c2c7a": {
          "model_module": "@jupyter-widgets/controls",
          "model_module_version": "1.5.0",
          "model_name": "HTMLModel",
          "state": {
            "_dom_classes": [],
            "_model_module": "@jupyter-widgets/controls",
            "_model_module_version": "1.5.0",
            "_model_name": "HTMLModel",
            "_view_count": null,
            "_view_module": "@jupyter-widgets/controls",
            "_view_module_version": "1.5.0",
            "_view_name": "HTMLView",
            "description": "",
            "description_tooltip": null,
            "layout": "IPY_MODEL_2388253449bd41d9bc230139229d5846",
            "placeholder": "​",
            "style": "IPY_MODEL_518f854aba01474c9489d27455ba8f1d",
            "value": " 30/30 [00:42&lt;00:00,  2.29s/it]"
          }
        },
        "2388253449bd41d9bc230139229d5846": {
          "model_module": "@jupyter-widgets/base",
          "model_module_version": "1.2.0",
          "model_name": "LayoutModel",
          "state": {
            "_model_module": "@jupyter-widgets/base",
            "_model_module_version": "1.2.0",
            "_model_name": "LayoutModel",
            "_view_count": null,
            "_view_module": "@jupyter-widgets/base",
            "_view_module_version": "1.2.0",
            "_view_name": "LayoutView",
            "align_content": null,
            "align_items": null,
            "align_self": null,
            "border": null,
            "bottom": null,
            "display": null,
            "flex": null,
            "flex_flow": null,
            "grid_area": null,
            "grid_auto_columns": null,
            "grid_auto_flow": null,
            "grid_auto_rows": null,
            "grid_column": null,
            "grid_gap": null,
            "grid_row": null,
            "grid_template_areas": null,
            "grid_template_columns": null,
            "grid_template_rows": null,
            "height": null,
            "justify_content": null,
            "justify_items": null,
            "left": null,
            "margin": null,
            "max_height": null,
            "max_width": null,
            "min_height": null,
            "min_width": null,
            "object_fit": null,
            "object_position": null,
            "order": null,
            "overflow": null,
            "overflow_x": null,
            "overflow_y": null,
            "padding": null,
            "right": null,
            "top": null,
            "visibility": null,
            "width": null
          }
        },
        "242465cc346446fd980e1bba85afe68e": {
          "model_module": "@jupyter-widgets/controls",
          "model_module_version": "1.5.0",
          "model_name": "FloatProgressModel",
          "state": {
            "_dom_classes": [],
            "_model_module": "@jupyter-widgets/controls",
            "_model_module_version": "1.5.0",
            "_model_name": "FloatProgressModel",
            "_view_count": null,
            "_view_module": "@jupyter-widgets/controls",
            "_view_module_version": "1.5.0",
            "_view_name": "ProgressView",
            "bar_style": "success",
            "description": "",
            "description_tooltip": null,
            "layout": "IPY_MODEL_aa4ceb6fb5034174be01e407b567478b",
            "max": 30,
            "min": 0,
            "orientation": "horizontal",
            "style": "IPY_MODEL_7b8dee4eed0d4a7b81a65a4fc57bfc2e",
            "value": 30
          }
        },
        "2e67c3907f424da09b91bcb0ff06f0d8": {
          "model_module": "@jupyter-widgets/controls",
          "model_module_version": "1.5.0",
          "model_name": "HTMLModel",
          "state": {
            "_dom_classes": [],
            "_model_module": "@jupyter-widgets/controls",
            "_model_module_version": "1.5.0",
            "_model_name": "HTMLModel",
            "_view_count": null,
            "_view_module": "@jupyter-widgets/controls",
            "_view_module_version": "1.5.0",
            "_view_name": "HTMLView",
            "description": "",
            "description_tooltip": null,
            "layout": "IPY_MODEL_bc9043fac28340628b8140f2dcc3de2c",
            "placeholder": "​",
            "style": "IPY_MODEL_d8c9351c621b49149c140f6e35783c96",
            "value": " 30/30 [00:12&lt;00:00,  3.25it/s]"
          }
        },
        "2f902c36a71741ad9581e21c51c166e3": {
          "model_module": "@jupyter-widgets/controls",
          "model_module_version": "1.5.0",
          "model_name": "HTMLModel",
          "state": {
            "_dom_classes": [],
            "_model_module": "@jupyter-widgets/controls",
            "_model_module_version": "1.5.0",
            "_model_name": "HTMLModel",
            "_view_count": null,
            "_view_module": "@jupyter-widgets/controls",
            "_view_module_version": "1.5.0",
            "_view_name": "HTMLView",
            "description": "",
            "description_tooltip": null,
            "layout": "IPY_MODEL_6ff609501adc47fa9258e9dbc82a78e2",
            "placeholder": "​",
            "style": "IPY_MODEL_cf4aa778c9a94de1ab1fb0aa1655262a",
            "value": "Best trial: 26. Best value: 221.984: 100%"
          }
        },
        "32da358c4da14770a8993013d3ad959e": {
          "model_module": "@jupyter-widgets/controls",
          "model_module_version": "1.5.0",
          "model_name": "DescriptionStyleModel",
          "state": {
            "_model_module": "@jupyter-widgets/controls",
            "_model_module_version": "1.5.0",
            "_model_name": "DescriptionStyleModel",
            "_view_count": null,
            "_view_module": "@jupyter-widgets/base",
            "_view_module_version": "1.2.0",
            "_view_name": "StyleView",
            "description_width": ""
          }
        },
        "3316d46bd1b249bf93f6be12b2cd16fb": {
          "model_module": "@jupyter-widgets/base",
          "model_module_version": "1.2.0",
          "model_name": "LayoutModel",
          "state": {
            "_model_module": "@jupyter-widgets/base",
            "_model_module_version": "1.2.0",
            "_model_name": "LayoutModel",
            "_view_count": null,
            "_view_module": "@jupyter-widgets/base",
            "_view_module_version": "1.2.0",
            "_view_name": "LayoutView",
            "align_content": null,
            "align_items": null,
            "align_self": null,
            "border": null,
            "bottom": null,
            "display": null,
            "flex": null,
            "flex_flow": null,
            "grid_area": null,
            "grid_auto_columns": null,
            "grid_auto_flow": null,
            "grid_auto_rows": null,
            "grid_column": null,
            "grid_gap": null,
            "grid_row": null,
            "grid_template_areas": null,
            "grid_template_columns": null,
            "grid_template_rows": null,
            "height": null,
            "justify_content": null,
            "justify_items": null,
            "left": null,
            "margin": null,
            "max_height": null,
            "max_width": null,
            "min_height": null,
            "min_width": null,
            "object_fit": null,
            "object_position": null,
            "order": null,
            "overflow": null,
            "overflow_x": null,
            "overflow_y": null,
            "padding": null,
            "right": null,
            "top": null,
            "visibility": null,
            "width": null
          }
        },
        "332a1e104e264510b70dc3716f0b8c8b": {
          "model_module": "@jupyter-widgets/controls",
          "model_module_version": "1.5.0",
          "model_name": "DescriptionStyleModel",
          "state": {
            "_model_module": "@jupyter-widgets/controls",
            "_model_module_version": "1.5.0",
            "_model_name": "DescriptionStyleModel",
            "_view_count": null,
            "_view_module": "@jupyter-widgets/base",
            "_view_module_version": "1.2.0",
            "_view_name": "StyleView",
            "description_width": ""
          }
        },
        "33c4bb4a45284be18348253d4850a640": {
          "model_module": "@jupyter-widgets/controls",
          "model_module_version": "1.5.0",
          "model_name": "HBoxModel",
          "state": {
            "_dom_classes": [],
            "_model_module": "@jupyter-widgets/controls",
            "_model_module_version": "1.5.0",
            "_model_name": "HBoxModel",
            "_view_count": null,
            "_view_module": "@jupyter-widgets/controls",
            "_view_module_version": "1.5.0",
            "_view_name": "HBoxView",
            "box_style": "",
            "children": [
              "IPY_MODEL_833d1616b17c45e5a54289a86496c625",
              "IPY_MODEL_9b12e5ab053a49008b6caab44166d03d",
              "IPY_MODEL_f84c7c22b3ba4694b9fc6e7773562c32"
            ],
            "layout": "IPY_MODEL_faae3e6fb4134c36b0e41b79fb7806f3"
          }
        },
        "34cceb1926914ab4ac1b22a72460d55c": {
          "model_module": "@jupyter-widgets/controls",
          "model_module_version": "1.5.0",
          "model_name": "HBoxModel",
          "state": {
            "_dom_classes": [],
            "_model_module": "@jupyter-widgets/controls",
            "_model_module_version": "1.5.0",
            "_model_name": "HBoxModel",
            "_view_count": null,
            "_view_module": "@jupyter-widgets/controls",
            "_view_module_version": "1.5.0",
            "_view_name": "HBoxView",
            "box_style": "",
            "children": [
              "IPY_MODEL_2f902c36a71741ad9581e21c51c166e3",
              "IPY_MODEL_cc172ce608874c6d9cd8327848eafc0e",
              "IPY_MODEL_79c9d7dafb6d4f2fbcce50786951234b"
            ],
            "layout": "IPY_MODEL_90ff5dba274e4e4a864d9e141f15e79e"
          }
        },
        "3507a57279be4a48a0cec95b2764c100": {
          "model_module": "@jupyter-widgets/base",
          "model_module_version": "1.2.0",
          "model_name": "LayoutModel",
          "state": {
            "_model_module": "@jupyter-widgets/base",
            "_model_module_version": "1.2.0",
            "_model_name": "LayoutModel",
            "_view_count": null,
            "_view_module": "@jupyter-widgets/base",
            "_view_module_version": "1.2.0",
            "_view_name": "LayoutView",
            "align_content": null,
            "align_items": null,
            "align_self": null,
            "border": null,
            "bottom": null,
            "display": null,
            "flex": null,
            "flex_flow": null,
            "grid_area": null,
            "grid_auto_columns": null,
            "grid_auto_flow": null,
            "grid_auto_rows": null,
            "grid_column": null,
            "grid_gap": null,
            "grid_row": null,
            "grid_template_areas": null,
            "grid_template_columns": null,
            "grid_template_rows": null,
            "height": null,
            "justify_content": null,
            "justify_items": null,
            "left": null,
            "margin": null,
            "max_height": null,
            "max_width": null,
            "min_height": null,
            "min_width": null,
            "object_fit": null,
            "object_position": null,
            "order": null,
            "overflow": null,
            "overflow_x": null,
            "overflow_y": null,
            "padding": null,
            "right": null,
            "top": null,
            "visibility": null,
            "width": null
          }
        },
        "39d30134067443ae978b075d5dafe283": {
          "model_module": "@jupyter-widgets/controls",
          "model_module_version": "1.5.0",
          "model_name": "DescriptionStyleModel",
          "state": {
            "_model_module": "@jupyter-widgets/controls",
            "_model_module_version": "1.5.0",
            "_model_name": "DescriptionStyleModel",
            "_view_count": null,
            "_view_module": "@jupyter-widgets/base",
            "_view_module_version": "1.2.0",
            "_view_name": "StyleView",
            "description_width": ""
          }
        },
        "3a3b028fbb034ecabf56645efcf81223": {
          "model_module": "@jupyter-widgets/base",
          "model_module_version": "1.2.0",
          "model_name": "LayoutModel",
          "state": {
            "_model_module": "@jupyter-widgets/base",
            "_model_module_version": "1.2.0",
            "_model_name": "LayoutModel",
            "_view_count": null,
            "_view_module": "@jupyter-widgets/base",
            "_view_module_version": "1.2.0",
            "_view_name": "LayoutView",
            "align_content": null,
            "align_items": null,
            "align_self": null,
            "border": null,
            "bottom": null,
            "display": null,
            "flex": null,
            "flex_flow": null,
            "grid_area": null,
            "grid_auto_columns": null,
            "grid_auto_flow": null,
            "grid_auto_rows": null,
            "grid_column": null,
            "grid_gap": null,
            "grid_row": null,
            "grid_template_areas": null,
            "grid_template_columns": null,
            "grid_template_rows": null,
            "height": null,
            "justify_content": null,
            "justify_items": null,
            "left": null,
            "margin": null,
            "max_height": null,
            "max_width": null,
            "min_height": null,
            "min_width": null,
            "object_fit": null,
            "object_position": null,
            "order": null,
            "overflow": null,
            "overflow_x": null,
            "overflow_y": null,
            "padding": null,
            "right": null,
            "top": null,
            "visibility": null,
            "width": null
          }
        },
        "3d166821271d46a789fa6fa18a9bf810": {
          "model_module": "@jupyter-widgets/controls",
          "model_module_version": "1.5.0",
          "model_name": "DescriptionStyleModel",
          "state": {
            "_model_module": "@jupyter-widgets/controls",
            "_model_module_version": "1.5.0",
            "_model_name": "DescriptionStyleModel",
            "_view_count": null,
            "_view_module": "@jupyter-widgets/base",
            "_view_module_version": "1.2.0",
            "_view_name": "StyleView",
            "description_width": ""
          }
        },
        "3d78137c9b2548298d952f96620015df": {
          "model_module": "@jupyter-widgets/base",
          "model_module_version": "1.2.0",
          "model_name": "LayoutModel",
          "state": {
            "_model_module": "@jupyter-widgets/base",
            "_model_module_version": "1.2.0",
            "_model_name": "LayoutModel",
            "_view_count": null,
            "_view_module": "@jupyter-widgets/base",
            "_view_module_version": "1.2.0",
            "_view_name": "LayoutView",
            "align_content": null,
            "align_items": null,
            "align_self": null,
            "border": null,
            "bottom": null,
            "display": null,
            "flex": null,
            "flex_flow": null,
            "grid_area": null,
            "grid_auto_columns": null,
            "grid_auto_flow": null,
            "grid_auto_rows": null,
            "grid_column": null,
            "grid_gap": null,
            "grid_row": null,
            "grid_template_areas": null,
            "grid_template_columns": null,
            "grid_template_rows": null,
            "height": null,
            "justify_content": null,
            "justify_items": null,
            "left": null,
            "margin": null,
            "max_height": null,
            "max_width": null,
            "min_height": null,
            "min_width": null,
            "object_fit": null,
            "object_position": null,
            "order": null,
            "overflow": null,
            "overflow_x": null,
            "overflow_y": null,
            "padding": null,
            "right": null,
            "top": null,
            "visibility": null,
            "width": null
          }
        },
        "3e127c78ce6c4c95b61b4d5d39d8f448": {
          "model_module": "@jupyter-widgets/controls",
          "model_module_version": "1.5.0",
          "model_name": "HTMLModel",
          "state": {
            "_dom_classes": [],
            "_model_module": "@jupyter-widgets/controls",
            "_model_module_version": "1.5.0",
            "_model_name": "HTMLModel",
            "_view_count": null,
            "_view_module": "@jupyter-widgets/controls",
            "_view_module_version": "1.5.0",
            "_view_name": "HTMLView",
            "description": "",
            "description_tooltip": null,
            "layout": "IPY_MODEL_0eabf64dad9c460d96be26228e052e1a",
            "placeholder": "​",
            "style": "IPY_MODEL_8241c0949e114e96be7b356eedc788e0",
            "value": " 30/30 [04:00&lt;00:00,  7.57s/it]"
          }
        },
        "3f080f9a7ad446cf9d66d34c09c78c36": {
          "model_module": "@jupyter-widgets/controls",
          "model_module_version": "1.5.0",
          "model_name": "ProgressStyleModel",
          "state": {
            "_model_module": "@jupyter-widgets/controls",
            "_model_module_version": "1.5.0",
            "_model_name": "ProgressStyleModel",
            "_view_count": null,
            "_view_module": "@jupyter-widgets/base",
            "_view_module_version": "1.2.0",
            "_view_name": "StyleView",
            "bar_color": null,
            "description_width": ""
          }
        },
        "41effd5a07c74fecbd364d3ba90a4bf6": {
          "model_module": "@jupyter-widgets/base",
          "model_module_version": "1.2.0",
          "model_name": "LayoutModel",
          "state": {
            "_model_module": "@jupyter-widgets/base",
            "_model_module_version": "1.2.0",
            "_model_name": "LayoutModel",
            "_view_count": null,
            "_view_module": "@jupyter-widgets/base",
            "_view_module_version": "1.2.0",
            "_view_name": "LayoutView",
            "align_content": null,
            "align_items": null,
            "align_self": null,
            "border": null,
            "bottom": null,
            "display": null,
            "flex": null,
            "flex_flow": null,
            "grid_area": null,
            "grid_auto_columns": null,
            "grid_auto_flow": null,
            "grid_auto_rows": null,
            "grid_column": null,
            "grid_gap": null,
            "grid_row": null,
            "grid_template_areas": null,
            "grid_template_columns": null,
            "grid_template_rows": null,
            "height": null,
            "justify_content": null,
            "justify_items": null,
            "left": null,
            "margin": null,
            "max_height": null,
            "max_width": null,
            "min_height": null,
            "min_width": null,
            "object_fit": null,
            "object_position": null,
            "order": null,
            "overflow": null,
            "overflow_x": null,
            "overflow_y": null,
            "padding": null,
            "right": null,
            "top": null,
            "visibility": null,
            "width": null
          }
        },
        "45a8778b30834a62b3303f9a2496d0ba": {
          "model_module": "@jupyter-widgets/controls",
          "model_module_version": "1.5.0",
          "model_name": "FloatProgressModel",
          "state": {
            "_dom_classes": [],
            "_model_module": "@jupyter-widgets/controls",
            "_model_module_version": "1.5.0",
            "_model_name": "FloatProgressModel",
            "_view_count": null,
            "_view_module": "@jupyter-widgets/controls",
            "_view_module_version": "1.5.0",
            "_view_name": "ProgressView",
            "bar_style": "success",
            "description": "",
            "description_tooltip": null,
            "layout": "IPY_MODEL_19382a7bc62447afb12173cfe6fbf8d8",
            "max": 30,
            "min": 0,
            "orientation": "horizontal",
            "style": "IPY_MODEL_3f080f9a7ad446cf9d66d34c09c78c36",
            "value": 30
          }
        },
        "4876d49ce92143d599e659878b948129": {
          "model_module": "@jupyter-widgets/controls",
          "model_module_version": "1.5.0",
          "model_name": "HTMLModel",
          "state": {
            "_dom_classes": [],
            "_model_module": "@jupyter-widgets/controls",
            "_model_module_version": "1.5.0",
            "_model_name": "HTMLModel",
            "_view_count": null,
            "_view_module": "@jupyter-widgets/controls",
            "_view_module_version": "1.5.0",
            "_view_name": "HTMLView",
            "description": "",
            "description_tooltip": null,
            "layout": "IPY_MODEL_be3c429e31de4415997ac5a72b93b997",
            "placeholder": "​",
            "style": "IPY_MODEL_f25c91a3c42a421c84fb6b3fee877aac",
            "value": "Best trial: 16. Best value: 1.39483: 100%"
          }
        },
        "491db23e4fa348b5aabb08fb9c676c09": {
          "model_module": "@jupyter-widgets/controls",
          "model_module_version": "1.5.0",
          "model_name": "ProgressStyleModel",
          "state": {
            "_model_module": "@jupyter-widgets/controls",
            "_model_module_version": "1.5.0",
            "_model_name": "ProgressStyleModel",
            "_view_count": null,
            "_view_module": "@jupyter-widgets/base",
            "_view_module_version": "1.2.0",
            "_view_name": "StyleView",
            "bar_color": null,
            "description_width": ""
          }
        },
        "4c7455555d834fc79d4d2642ec3283f0": {
          "model_module": "@jupyter-widgets/controls",
          "model_module_version": "1.5.0",
          "model_name": "HTMLModel",
          "state": {
            "_dom_classes": [],
            "_model_module": "@jupyter-widgets/controls",
            "_model_module_version": "1.5.0",
            "_model_name": "HTMLModel",
            "_view_count": null,
            "_view_module": "@jupyter-widgets/controls",
            "_view_module_version": "1.5.0",
            "_view_name": "HTMLView",
            "description": "",
            "description_tooltip": null,
            "layout": "IPY_MODEL_97c8b48f50d646e9b3c6c614f4d49870",
            "placeholder": "​",
            "style": "IPY_MODEL_91810fc66f5945678bae582354c93d7a",
            "value": " 30/30 [01:23&lt;00:00,  3.21s/it]"
          }
        },
        "518f854aba01474c9489d27455ba8f1d": {
          "model_module": "@jupyter-widgets/controls",
          "model_module_version": "1.5.0",
          "model_name": "DescriptionStyleModel",
          "state": {
            "_model_module": "@jupyter-widgets/controls",
            "_model_module_version": "1.5.0",
            "_model_name": "DescriptionStyleModel",
            "_view_count": null,
            "_view_module": "@jupyter-widgets/base",
            "_view_module_version": "1.2.0",
            "_view_name": "StyleView",
            "description_width": ""
          }
        },
        "51ab4fa59b8c4d07b99fe8ddb052941f": {
          "model_module": "@jupyter-widgets/controls",
          "model_module_version": "1.5.0",
          "model_name": "DescriptionStyleModel",
          "state": {
            "_model_module": "@jupyter-widgets/controls",
            "_model_module_version": "1.5.0",
            "_model_name": "DescriptionStyleModel",
            "_view_count": null,
            "_view_module": "@jupyter-widgets/base",
            "_view_module_version": "1.2.0",
            "_view_name": "StyleView",
            "description_width": ""
          }
        },
        "57ff063637b3444eb1ebfc2ddd8c147f": {
          "model_module": "@jupyter-widgets/base",
          "model_module_version": "1.2.0",
          "model_name": "LayoutModel",
          "state": {
            "_model_module": "@jupyter-widgets/base",
            "_model_module_version": "1.2.0",
            "_model_name": "LayoutModel",
            "_view_count": null,
            "_view_module": "@jupyter-widgets/base",
            "_view_module_version": "1.2.0",
            "_view_name": "LayoutView",
            "align_content": null,
            "align_items": null,
            "align_self": null,
            "border": null,
            "bottom": null,
            "display": null,
            "flex": null,
            "flex_flow": null,
            "grid_area": null,
            "grid_auto_columns": null,
            "grid_auto_flow": null,
            "grid_auto_rows": null,
            "grid_column": null,
            "grid_gap": null,
            "grid_row": null,
            "grid_template_areas": null,
            "grid_template_columns": null,
            "grid_template_rows": null,
            "height": null,
            "justify_content": null,
            "justify_items": null,
            "left": null,
            "margin": null,
            "max_height": null,
            "max_width": null,
            "min_height": null,
            "min_width": null,
            "object_fit": null,
            "object_position": null,
            "order": null,
            "overflow": null,
            "overflow_x": null,
            "overflow_y": null,
            "padding": null,
            "right": null,
            "top": null,
            "visibility": null,
            "width": null
          }
        },
        "58289f00844b4cfabe89434e5290defe": {
          "model_module": "@jupyter-widgets/controls",
          "model_module_version": "1.5.0",
          "model_name": "HBoxModel",
          "state": {
            "_dom_classes": [],
            "_model_module": "@jupyter-widgets/controls",
            "_model_module_version": "1.5.0",
            "_model_name": "HBoxModel",
            "_view_count": null,
            "_view_module": "@jupyter-widgets/controls",
            "_view_module_version": "1.5.0",
            "_view_name": "HBoxView",
            "box_style": "",
            "children": [
              "IPY_MODEL_01ce0ee21f5249c2884cb5b0498e1af6",
              "IPY_MODEL_637fd5eadb3e4702be159324f9f951a3",
              "IPY_MODEL_3e127c78ce6c4c95b61b4d5d39d8f448"
            ],
            "layout": "IPY_MODEL_bca408e926884954a53c5f5ad1fa3dee"
          }
        },
        "5ac7d34a19024c43877737f30e1867ba": {
          "model_module": "@jupyter-widgets/controls",
          "model_module_version": "1.5.0",
          "model_name": "HBoxModel",
          "state": {
            "_dom_classes": [],
            "_model_module": "@jupyter-widgets/controls",
            "_model_module_version": "1.5.0",
            "_model_name": "HBoxModel",
            "_view_count": null,
            "_view_module": "@jupyter-widgets/controls",
            "_view_module_version": "1.5.0",
            "_view_name": "HBoxView",
            "box_style": "",
            "children": [
              "IPY_MODEL_aa5d16e7be21492ebc5277b6a475b84c",
              "IPY_MODEL_45a8778b30834a62b3303f9a2496d0ba",
              "IPY_MODEL_2e67c3907f424da09b91bcb0ff06f0d8"
            ],
            "layout": "IPY_MODEL_6a4c75d6b03c47a3aad4ac6316db0198"
          }
        },
        "5bad6419eeab4a44a447e11121c8ceab": {
          "model_module": "@jupyter-widgets/controls",
          "model_module_version": "1.5.0",
          "model_name": "HBoxModel",
          "state": {
            "_dom_classes": [],
            "_model_module": "@jupyter-widgets/controls",
            "_model_module_version": "1.5.0",
            "_model_name": "HBoxModel",
            "_view_count": null,
            "_view_module": "@jupyter-widgets/controls",
            "_view_module_version": "1.5.0",
            "_view_name": "HBoxView",
            "box_style": "",
            "children": [
              "IPY_MODEL_622d329bb17d4041ad6a908b016bcc0b",
              "IPY_MODEL_07cb041197f74258a93997833d86a088",
              "IPY_MODEL_8c0e9bf1ed7b44e89138094f4e01e99c"
            ],
            "layout": "IPY_MODEL_dc7b7b59cad84bf583a683efe107c018"
          }
        },
        "5cc6620974e84e74b9fc0465c99ef0d8": {
          "model_module": "@jupyter-widgets/base",
          "model_module_version": "1.2.0",
          "model_name": "LayoutModel",
          "state": {
            "_model_module": "@jupyter-widgets/base",
            "_model_module_version": "1.2.0",
            "_model_name": "LayoutModel",
            "_view_count": null,
            "_view_module": "@jupyter-widgets/base",
            "_view_module_version": "1.2.0",
            "_view_name": "LayoutView",
            "align_content": null,
            "align_items": null,
            "align_self": null,
            "border": null,
            "bottom": null,
            "display": null,
            "flex": null,
            "flex_flow": null,
            "grid_area": null,
            "grid_auto_columns": null,
            "grid_auto_flow": null,
            "grid_auto_rows": null,
            "grid_column": null,
            "grid_gap": null,
            "grid_row": null,
            "grid_template_areas": null,
            "grid_template_columns": null,
            "grid_template_rows": null,
            "height": null,
            "justify_content": null,
            "justify_items": null,
            "left": null,
            "margin": null,
            "max_height": null,
            "max_width": null,
            "min_height": null,
            "min_width": null,
            "object_fit": null,
            "object_position": null,
            "order": null,
            "overflow": null,
            "overflow_x": null,
            "overflow_y": null,
            "padding": null,
            "right": null,
            "top": null,
            "visibility": null,
            "width": null
          }
        },
        "5d59443271c948b78c25cfc3fa7647ee": {
          "model_module": "@jupyter-widgets/base",
          "model_module_version": "1.2.0",
          "model_name": "LayoutModel",
          "state": {
            "_model_module": "@jupyter-widgets/base",
            "_model_module_version": "1.2.0",
            "_model_name": "LayoutModel",
            "_view_count": null,
            "_view_module": "@jupyter-widgets/base",
            "_view_module_version": "1.2.0",
            "_view_name": "LayoutView",
            "align_content": null,
            "align_items": null,
            "align_self": null,
            "border": null,
            "bottom": null,
            "display": null,
            "flex": null,
            "flex_flow": null,
            "grid_area": null,
            "grid_auto_columns": null,
            "grid_auto_flow": null,
            "grid_auto_rows": null,
            "grid_column": null,
            "grid_gap": null,
            "grid_row": null,
            "grid_template_areas": null,
            "grid_template_columns": null,
            "grid_template_rows": null,
            "height": null,
            "justify_content": null,
            "justify_items": null,
            "left": null,
            "margin": null,
            "max_height": null,
            "max_width": null,
            "min_height": null,
            "min_width": null,
            "object_fit": null,
            "object_position": null,
            "order": null,
            "overflow": null,
            "overflow_x": null,
            "overflow_y": null,
            "padding": null,
            "right": null,
            "top": null,
            "visibility": null,
            "width": null
          }
        },
        "5d75222c494c4cf5b45ea36e06345ebe": {
          "model_module": "@jupyter-widgets/controls",
          "model_module_version": "1.5.0",
          "model_name": "DescriptionStyleModel",
          "state": {
            "_model_module": "@jupyter-widgets/controls",
            "_model_module_version": "1.5.0",
            "_model_name": "DescriptionStyleModel",
            "_view_count": null,
            "_view_module": "@jupyter-widgets/base",
            "_view_module_version": "1.2.0",
            "_view_name": "StyleView",
            "description_width": ""
          }
        },
        "5fb59915407846fba2fbb479330d7788": {
          "model_module": "@jupyter-widgets/controls",
          "model_module_version": "1.5.0",
          "model_name": "ProgressStyleModel",
          "state": {
            "_model_module": "@jupyter-widgets/controls",
            "_model_module_version": "1.5.0",
            "_model_name": "ProgressStyleModel",
            "_view_count": null,
            "_view_module": "@jupyter-widgets/base",
            "_view_module_version": "1.2.0",
            "_view_name": "StyleView",
            "bar_color": null,
            "description_width": ""
          }
        },
        "5feb1b3dc8474f12807d01b241ba6f92": {
          "model_module": "@jupyter-widgets/controls",
          "model_module_version": "1.5.0",
          "model_name": "ProgressStyleModel",
          "state": {
            "_model_module": "@jupyter-widgets/controls",
            "_model_module_version": "1.5.0",
            "_model_name": "ProgressStyleModel",
            "_view_count": null,
            "_view_module": "@jupyter-widgets/base",
            "_view_module_version": "1.2.0",
            "_view_name": "StyleView",
            "bar_color": null,
            "description_width": ""
          }
        },
        "622d329bb17d4041ad6a908b016bcc0b": {
          "model_module": "@jupyter-widgets/controls",
          "model_module_version": "1.5.0",
          "model_name": "HTMLModel",
          "state": {
            "_dom_classes": [],
            "_model_module": "@jupyter-widgets/controls",
            "_model_module_version": "1.5.0",
            "_model_name": "HTMLModel",
            "_view_count": null,
            "_view_module": "@jupyter-widgets/controls",
            "_view_module_version": "1.5.0",
            "_view_name": "HTMLView",
            "description": "",
            "description_tooltip": null,
            "layout": "IPY_MODEL_8ffd114b02424cf7b9c35318cc9ec4b2",
            "placeholder": "​",
            "style": "IPY_MODEL_6bd28a8bf93342c2a0d31e350c5e1371",
            "value": "Best trial: 0. Best value: 1.37617: 100%"
          }
        },
        "637fd5eadb3e4702be159324f9f951a3": {
          "model_module": "@jupyter-widgets/controls",
          "model_module_version": "1.5.0",
          "model_name": "FloatProgressModel",
          "state": {
            "_dom_classes": [],
            "_model_module": "@jupyter-widgets/controls",
            "_model_module_version": "1.5.0",
            "_model_name": "FloatProgressModel",
            "_view_count": null,
            "_view_module": "@jupyter-widgets/controls",
            "_view_module_version": "1.5.0",
            "_view_name": "ProgressView",
            "bar_style": "success",
            "description": "",
            "description_tooltip": null,
            "layout": "IPY_MODEL_c9d896491d024538837f2140be568701",
            "max": 30,
            "min": 0,
            "orientation": "horizontal",
            "style": "IPY_MODEL_f5018e6a59574ddab12282739ef761ad",
            "value": 30
          }
        },
        "653ace3793924addb4aec10ddcefe408": {
          "model_module": "@jupyter-widgets/controls",
          "model_module_version": "1.5.0",
          "model_name": "HBoxModel",
          "state": {
            "_dom_classes": [],
            "_model_module": "@jupyter-widgets/controls",
            "_model_module_version": "1.5.0",
            "_model_name": "HBoxModel",
            "_view_count": null,
            "_view_module": "@jupyter-widgets/controls",
            "_view_module_version": "1.5.0",
            "_view_name": "HBoxView",
            "box_style": "",
            "children": [
              "IPY_MODEL_4876d49ce92143d599e659878b948129",
              "IPY_MODEL_a3953008296447b9a496ca259052eb20",
              "IPY_MODEL_aa161309dd784272ae566054fe097bf8"
            ],
            "layout": "IPY_MODEL_89b714dfeb4a4a17a6eec06fa2552783"
          }
        },
        "659e066897e04234b87bb5fe99400ba3": {
          "model_module": "@jupyter-widgets/controls",
          "model_module_version": "1.5.0",
          "model_name": "FloatProgressModel",
          "state": {
            "_dom_classes": [],
            "_model_module": "@jupyter-widgets/controls",
            "_model_module_version": "1.5.0",
            "_model_name": "FloatProgressModel",
            "_view_count": null,
            "_view_module": "@jupyter-widgets/controls",
            "_view_module_version": "1.5.0",
            "_view_name": "ProgressView",
            "bar_style": "success",
            "description": "",
            "description_tooltip": null,
            "layout": "IPY_MODEL_ece27649fa934b6091d1ad468a351da2",
            "max": 30,
            "min": 0,
            "orientation": "horizontal",
            "style": "IPY_MODEL_740be6d6db234dd7882170b72247d804",
            "value": 30
          }
        },
        "67e342c19306498189a3074a91636c49": {
          "model_module": "@jupyter-widgets/controls",
          "model_module_version": "1.5.0",
          "model_name": "HTMLModel",
          "state": {
            "_dom_classes": [],
            "_model_module": "@jupyter-widgets/controls",
            "_model_module_version": "1.5.0",
            "_model_name": "HTMLModel",
            "_view_count": null,
            "_view_module": "@jupyter-widgets/controls",
            "_view_module_version": "1.5.0",
            "_view_name": "HTMLView",
            "description": "",
            "description_tooltip": null,
            "layout": "IPY_MODEL_dbafdbf42fc742beae3a462ba933b614",
            "placeholder": "​",
            "style": "IPY_MODEL_ab6d9f5b9753402ca9716937cee29340",
            "value": "Best trial: 1. Best value: 217.463: 100%"
          }
        },
        "685167c618dc470fb0a113f7eabea555": {
          "model_module": "@jupyter-widgets/controls",
          "model_module_version": "1.5.0",
          "model_name": "DescriptionStyleModel",
          "state": {
            "_model_module": "@jupyter-widgets/controls",
            "_model_module_version": "1.5.0",
            "_model_name": "DescriptionStyleModel",
            "_view_count": null,
            "_view_module": "@jupyter-widgets/base",
            "_view_module_version": "1.2.0",
            "_view_name": "StyleView",
            "description_width": ""
          }
        },
        "6a4c75d6b03c47a3aad4ac6316db0198": {
          "model_module": "@jupyter-widgets/base",
          "model_module_version": "1.2.0",
          "model_name": "LayoutModel",
          "state": {
            "_model_module": "@jupyter-widgets/base",
            "_model_module_version": "1.2.0",
            "_model_name": "LayoutModel",
            "_view_count": null,
            "_view_module": "@jupyter-widgets/base",
            "_view_module_version": "1.2.0",
            "_view_name": "LayoutView",
            "align_content": null,
            "align_items": null,
            "align_self": null,
            "border": null,
            "bottom": null,
            "display": null,
            "flex": null,
            "flex_flow": null,
            "grid_area": null,
            "grid_auto_columns": null,
            "grid_auto_flow": null,
            "grid_auto_rows": null,
            "grid_column": null,
            "grid_gap": null,
            "grid_row": null,
            "grid_template_areas": null,
            "grid_template_columns": null,
            "grid_template_rows": null,
            "height": null,
            "justify_content": null,
            "justify_items": null,
            "left": null,
            "margin": null,
            "max_height": null,
            "max_width": null,
            "min_height": null,
            "min_width": null,
            "object_fit": null,
            "object_position": null,
            "order": null,
            "overflow": null,
            "overflow_x": null,
            "overflow_y": null,
            "padding": null,
            "right": null,
            "top": null,
            "visibility": null,
            "width": null
          }
        },
        "6ac1911605dc46158e221d7fcd4cb67e": {
          "model_module": "@jupyter-widgets/controls",
          "model_module_version": "1.5.0",
          "model_name": "DescriptionStyleModel",
          "state": {
            "_model_module": "@jupyter-widgets/controls",
            "_model_module_version": "1.5.0",
            "_model_name": "DescriptionStyleModel",
            "_view_count": null,
            "_view_module": "@jupyter-widgets/base",
            "_view_module_version": "1.2.0",
            "_view_name": "StyleView",
            "description_width": ""
          }
        },
        "6bd28a8bf93342c2a0d31e350c5e1371": {
          "model_module": "@jupyter-widgets/controls",
          "model_module_version": "1.5.0",
          "model_name": "DescriptionStyleModel",
          "state": {
            "_model_module": "@jupyter-widgets/controls",
            "_model_module_version": "1.5.0",
            "_model_name": "DescriptionStyleModel",
            "_view_count": null,
            "_view_module": "@jupyter-widgets/base",
            "_view_module_version": "1.2.0",
            "_view_name": "StyleView",
            "description_width": ""
          }
        },
        "6ff609501adc47fa9258e9dbc82a78e2": {
          "model_module": "@jupyter-widgets/base",
          "model_module_version": "1.2.0",
          "model_name": "LayoutModel",
          "state": {
            "_model_module": "@jupyter-widgets/base",
            "_model_module_version": "1.2.0",
            "_model_name": "LayoutModel",
            "_view_count": null,
            "_view_module": "@jupyter-widgets/base",
            "_view_module_version": "1.2.0",
            "_view_name": "LayoutView",
            "align_content": null,
            "align_items": null,
            "align_self": null,
            "border": null,
            "bottom": null,
            "display": null,
            "flex": null,
            "flex_flow": null,
            "grid_area": null,
            "grid_auto_columns": null,
            "grid_auto_flow": null,
            "grid_auto_rows": null,
            "grid_column": null,
            "grid_gap": null,
            "grid_row": null,
            "grid_template_areas": null,
            "grid_template_columns": null,
            "grid_template_rows": null,
            "height": null,
            "justify_content": null,
            "justify_items": null,
            "left": null,
            "margin": null,
            "max_height": null,
            "max_width": null,
            "min_height": null,
            "min_width": null,
            "object_fit": null,
            "object_position": null,
            "order": null,
            "overflow": null,
            "overflow_x": null,
            "overflow_y": null,
            "padding": null,
            "right": null,
            "top": null,
            "visibility": null,
            "width": null
          }
        },
        "740be6d6db234dd7882170b72247d804": {
          "model_module": "@jupyter-widgets/controls",
          "model_module_version": "1.5.0",
          "model_name": "ProgressStyleModel",
          "state": {
            "_model_module": "@jupyter-widgets/controls",
            "_model_module_version": "1.5.0",
            "_model_name": "ProgressStyleModel",
            "_view_count": null,
            "_view_module": "@jupyter-widgets/base",
            "_view_module_version": "1.2.0",
            "_view_name": "StyleView",
            "bar_color": null,
            "description_width": ""
          }
        },
        "77cf8a1a040a4a23b04fdb35370832ba": {
          "model_module": "@jupyter-widgets/base",
          "model_module_version": "1.2.0",
          "model_name": "LayoutModel",
          "state": {
            "_model_module": "@jupyter-widgets/base",
            "_model_module_version": "1.2.0",
            "_model_name": "LayoutModel",
            "_view_count": null,
            "_view_module": "@jupyter-widgets/base",
            "_view_module_version": "1.2.0",
            "_view_name": "LayoutView",
            "align_content": null,
            "align_items": null,
            "align_self": null,
            "border": null,
            "bottom": null,
            "display": null,
            "flex": null,
            "flex_flow": null,
            "grid_area": null,
            "grid_auto_columns": null,
            "grid_auto_flow": null,
            "grid_auto_rows": null,
            "grid_column": null,
            "grid_gap": null,
            "grid_row": null,
            "grid_template_areas": null,
            "grid_template_columns": null,
            "grid_template_rows": null,
            "height": null,
            "justify_content": null,
            "justify_items": null,
            "left": null,
            "margin": null,
            "max_height": null,
            "max_width": null,
            "min_height": null,
            "min_width": null,
            "object_fit": null,
            "object_position": null,
            "order": null,
            "overflow": null,
            "overflow_x": null,
            "overflow_y": null,
            "padding": null,
            "right": null,
            "top": null,
            "visibility": null,
            "width": null
          }
        },
        "79c9d7dafb6d4f2fbcce50786951234b": {
          "model_module": "@jupyter-widgets/controls",
          "model_module_version": "1.5.0",
          "model_name": "HTMLModel",
          "state": {
            "_dom_classes": [],
            "_model_module": "@jupyter-widgets/controls",
            "_model_module_version": "1.5.0",
            "_model_name": "HTMLModel",
            "_view_count": null,
            "_view_module": "@jupyter-widgets/controls",
            "_view_module_version": "1.5.0",
            "_view_name": "HTMLView",
            "description": "",
            "description_tooltip": null,
            "layout": "IPY_MODEL_10991dd21d8448ba9daddab886b7c5f2",
            "placeholder": "​",
            "style": "IPY_MODEL_332a1e104e264510b70dc3716f0b8c8b",
            "value": " 30/30 [00:01&lt;00:00, 17.78it/s]"
          }
        },
        "7b8dee4eed0d4a7b81a65a4fc57bfc2e": {
          "model_module": "@jupyter-widgets/controls",
          "model_module_version": "1.5.0",
          "model_name": "ProgressStyleModel",
          "state": {
            "_model_module": "@jupyter-widgets/controls",
            "_model_module_version": "1.5.0",
            "_model_name": "ProgressStyleModel",
            "_view_count": null,
            "_view_module": "@jupyter-widgets/base",
            "_view_module_version": "1.2.0",
            "_view_name": "StyleView",
            "bar_color": null,
            "description_width": ""
          }
        },
        "7eaf0e7552da44c0b635d14fa6cefd8e": {
          "model_module": "@jupyter-widgets/base",
          "model_module_version": "1.2.0",
          "model_name": "LayoutModel",
          "state": {
            "_model_module": "@jupyter-widgets/base",
            "_model_module_version": "1.2.0",
            "_model_name": "LayoutModel",
            "_view_count": null,
            "_view_module": "@jupyter-widgets/base",
            "_view_module_version": "1.2.0",
            "_view_name": "LayoutView",
            "align_content": null,
            "align_items": null,
            "align_self": null,
            "border": null,
            "bottom": null,
            "display": null,
            "flex": null,
            "flex_flow": null,
            "grid_area": null,
            "grid_auto_columns": null,
            "grid_auto_flow": null,
            "grid_auto_rows": null,
            "grid_column": null,
            "grid_gap": null,
            "grid_row": null,
            "grid_template_areas": null,
            "grid_template_columns": null,
            "grid_template_rows": null,
            "height": null,
            "justify_content": null,
            "justify_items": null,
            "left": null,
            "margin": null,
            "max_height": null,
            "max_width": null,
            "min_height": null,
            "min_width": null,
            "object_fit": null,
            "object_position": null,
            "order": null,
            "overflow": null,
            "overflow_x": null,
            "overflow_y": null,
            "padding": null,
            "right": null,
            "top": null,
            "visibility": null,
            "width": null
          }
        },
        "8241c0949e114e96be7b356eedc788e0": {
          "model_module": "@jupyter-widgets/controls",
          "model_module_version": "1.5.0",
          "model_name": "DescriptionStyleModel",
          "state": {
            "_model_module": "@jupyter-widgets/controls",
            "_model_module_version": "1.5.0",
            "_model_name": "DescriptionStyleModel",
            "_view_count": null,
            "_view_module": "@jupyter-widgets/base",
            "_view_module_version": "1.2.0",
            "_view_name": "StyleView",
            "description_width": ""
          }
        },
        "833d1616b17c45e5a54289a86496c625": {
          "model_module": "@jupyter-widgets/controls",
          "model_module_version": "1.5.0",
          "model_name": "HTMLModel",
          "state": {
            "_dom_classes": [],
            "_model_module": "@jupyter-widgets/controls",
            "_model_module_version": "1.5.0",
            "_model_name": "HTMLModel",
            "_view_count": null,
            "_view_module": "@jupyter-widgets/controls",
            "_view_module_version": "1.5.0",
            "_view_name": "HTMLView",
            "description": "",
            "description_tooltip": null,
            "layout": "IPY_MODEL_5cc6620974e84e74b9fc0465c99ef0d8",
            "placeholder": "​",
            "style": "IPY_MODEL_32da358c4da14770a8993013d3ad959e",
            "value": "Best trial: 7. Best value: 1.44498: 100%"
          }
        },
        "8745f456c49644eaaaa2877870aa5169": {
          "model_module": "@jupyter-widgets/controls",
          "model_module_version": "1.5.0",
          "model_name": "HBoxModel",
          "state": {
            "_dom_classes": [],
            "_model_module": "@jupyter-widgets/controls",
            "_model_module_version": "1.5.0",
            "_model_name": "HBoxModel",
            "_view_count": null,
            "_view_module": "@jupyter-widgets/controls",
            "_view_module_version": "1.5.0",
            "_view_name": "HBoxView",
            "box_style": "",
            "children": [
              "IPY_MODEL_ff6ef5bd51754ca0a17acce4343e3eec",
              "IPY_MODEL_2001ea26a2354a5198e0f7927d3d657f",
              "IPY_MODEL_22febbd294e94a51a781b238a56c2c7a"
            ],
            "layout": "IPY_MODEL_3507a57279be4a48a0cec95b2764c100"
          }
        },
        "89b714dfeb4a4a17a6eec06fa2552783": {
          "model_module": "@jupyter-widgets/base",
          "model_module_version": "1.2.0",
          "model_name": "LayoutModel",
          "state": {
            "_model_module": "@jupyter-widgets/base",
            "_model_module_version": "1.2.0",
            "_model_name": "LayoutModel",
            "_view_count": null,
            "_view_module": "@jupyter-widgets/base",
            "_view_module_version": "1.2.0",
            "_view_name": "LayoutView",
            "align_content": null,
            "align_items": null,
            "align_self": null,
            "border": null,
            "bottom": null,
            "display": null,
            "flex": null,
            "flex_flow": null,
            "grid_area": null,
            "grid_auto_columns": null,
            "grid_auto_flow": null,
            "grid_auto_rows": null,
            "grid_column": null,
            "grid_gap": null,
            "grid_row": null,
            "grid_template_areas": null,
            "grid_template_columns": null,
            "grid_template_rows": null,
            "height": null,
            "justify_content": null,
            "justify_items": null,
            "left": null,
            "margin": null,
            "max_height": null,
            "max_width": null,
            "min_height": null,
            "min_width": null,
            "object_fit": null,
            "object_position": null,
            "order": null,
            "overflow": null,
            "overflow_x": null,
            "overflow_y": null,
            "padding": null,
            "right": null,
            "top": null,
            "visibility": null,
            "width": null
          }
        },
        "8c0e9bf1ed7b44e89138094f4e01e99c": {
          "model_module": "@jupyter-widgets/controls",
          "model_module_version": "1.5.0",
          "model_name": "HTMLModel",
          "state": {
            "_dom_classes": [],
            "_model_module": "@jupyter-widgets/controls",
            "_model_module_version": "1.5.0",
            "_model_name": "HTMLModel",
            "_view_count": null,
            "_view_module": "@jupyter-widgets/controls",
            "_view_module_version": "1.5.0",
            "_view_name": "HTMLView",
            "description": "",
            "description_tooltip": null,
            "layout": "IPY_MODEL_57ff063637b3444eb1ebfc2ddd8c147f",
            "placeholder": "​",
            "style": "IPY_MODEL_6ac1911605dc46158e221d7fcd4cb67e",
            "value": " 30/30 [01:48&lt;00:00,  3.83s/it]"
          }
        },
        "8c96c940df6d44e8afbca983f80466b4": {
          "model_module": "@jupyter-widgets/controls",
          "model_module_version": "1.5.0",
          "model_name": "HTMLModel",
          "state": {
            "_dom_classes": [],
            "_model_module": "@jupyter-widgets/controls",
            "_model_module_version": "1.5.0",
            "_model_name": "HTMLModel",
            "_view_count": null,
            "_view_module": "@jupyter-widgets/controls",
            "_view_module_version": "1.5.0",
            "_view_name": "HTMLView",
            "description": "",
            "description_tooltip": null,
            "layout": "IPY_MODEL_0eefe0f51e38435f84fe5cf4848a15e4",
            "placeholder": "​",
            "style": "IPY_MODEL_ba926f3f8951403596024b00b2b48f9e",
            "value": "Best trial: 21. Best value: 1.49976: 100%"
          }
        },
        "8d839205dad14f8295595a48fff6c345": {
          "model_module": "@jupyter-widgets/base",
          "model_module_version": "1.2.0",
          "model_name": "LayoutModel",
          "state": {
            "_model_module": "@jupyter-widgets/base",
            "_model_module_version": "1.2.0",
            "_model_name": "LayoutModel",
            "_view_count": null,
            "_view_module": "@jupyter-widgets/base",
            "_view_module_version": "1.2.0",
            "_view_name": "LayoutView",
            "align_content": null,
            "align_items": null,
            "align_self": null,
            "border": null,
            "bottom": null,
            "display": null,
            "flex": null,
            "flex_flow": null,
            "grid_area": null,
            "grid_auto_columns": null,
            "grid_auto_flow": null,
            "grid_auto_rows": null,
            "grid_column": null,
            "grid_gap": null,
            "grid_row": null,
            "grid_template_areas": null,
            "grid_template_columns": null,
            "grid_template_rows": null,
            "height": null,
            "justify_content": null,
            "justify_items": null,
            "left": null,
            "margin": null,
            "max_height": null,
            "max_width": null,
            "min_height": null,
            "min_width": null,
            "object_fit": null,
            "object_position": null,
            "order": null,
            "overflow": null,
            "overflow_x": null,
            "overflow_y": null,
            "padding": null,
            "right": null,
            "top": null,
            "visibility": null,
            "width": null
          }
        },
        "8f0b7095d9aa47b48737e6932bdcb455": {
          "model_module": "@jupyter-widgets/controls",
          "model_module_version": "1.5.0",
          "model_name": "HBoxModel",
          "state": {
            "_dom_classes": [],
            "_model_module": "@jupyter-widgets/controls",
            "_model_module_version": "1.5.0",
            "_model_name": "HBoxModel",
            "_view_count": null,
            "_view_module": "@jupyter-widgets/controls",
            "_view_module_version": "1.5.0",
            "_view_name": "HBoxView",
            "box_style": "",
            "children": [
              "IPY_MODEL_67e342c19306498189a3074a91636c49",
              "IPY_MODEL_242465cc346446fd980e1bba85afe68e",
              "IPY_MODEL_4c7455555d834fc79d4d2642ec3283f0"
            ],
            "layout": "IPY_MODEL_5d59443271c948b78c25cfc3fa7647ee"
          }
        },
        "8ffd114b02424cf7b9c35318cc9ec4b2": {
          "model_module": "@jupyter-widgets/base",
          "model_module_version": "1.2.0",
          "model_name": "LayoutModel",
          "state": {
            "_model_module": "@jupyter-widgets/base",
            "_model_module_version": "1.2.0",
            "_model_name": "LayoutModel",
            "_view_count": null,
            "_view_module": "@jupyter-widgets/base",
            "_view_module_version": "1.2.0",
            "_view_name": "LayoutView",
            "align_content": null,
            "align_items": null,
            "align_self": null,
            "border": null,
            "bottom": null,
            "display": null,
            "flex": null,
            "flex_flow": null,
            "grid_area": null,
            "grid_auto_columns": null,
            "grid_auto_flow": null,
            "grid_auto_rows": null,
            "grid_column": null,
            "grid_gap": null,
            "grid_row": null,
            "grid_template_areas": null,
            "grid_template_columns": null,
            "grid_template_rows": null,
            "height": null,
            "justify_content": null,
            "justify_items": null,
            "left": null,
            "margin": null,
            "max_height": null,
            "max_width": null,
            "min_height": null,
            "min_width": null,
            "object_fit": null,
            "object_position": null,
            "order": null,
            "overflow": null,
            "overflow_x": null,
            "overflow_y": null,
            "padding": null,
            "right": null,
            "top": null,
            "visibility": null,
            "width": null
          }
        },
        "90ff5dba274e4e4a864d9e141f15e79e": {
          "model_module": "@jupyter-widgets/base",
          "model_module_version": "1.2.0",
          "model_name": "LayoutModel",
          "state": {
            "_model_module": "@jupyter-widgets/base",
            "_model_module_version": "1.2.0",
            "_model_name": "LayoutModel",
            "_view_count": null,
            "_view_module": "@jupyter-widgets/base",
            "_view_module_version": "1.2.0",
            "_view_name": "LayoutView",
            "align_content": null,
            "align_items": null,
            "align_self": null,
            "border": null,
            "bottom": null,
            "display": null,
            "flex": null,
            "flex_flow": null,
            "grid_area": null,
            "grid_auto_columns": null,
            "grid_auto_flow": null,
            "grid_auto_rows": null,
            "grid_column": null,
            "grid_gap": null,
            "grid_row": null,
            "grid_template_areas": null,
            "grid_template_columns": null,
            "grid_template_rows": null,
            "height": null,
            "justify_content": null,
            "justify_items": null,
            "left": null,
            "margin": null,
            "max_height": null,
            "max_width": null,
            "min_height": null,
            "min_width": null,
            "object_fit": null,
            "object_position": null,
            "order": null,
            "overflow": null,
            "overflow_x": null,
            "overflow_y": null,
            "padding": null,
            "right": null,
            "top": null,
            "visibility": null,
            "width": null
          }
        },
        "91810fc66f5945678bae582354c93d7a": {
          "model_module": "@jupyter-widgets/controls",
          "model_module_version": "1.5.0",
          "model_name": "DescriptionStyleModel",
          "state": {
            "_model_module": "@jupyter-widgets/controls",
            "_model_module_version": "1.5.0",
            "_model_name": "DescriptionStyleModel",
            "_view_count": null,
            "_view_module": "@jupyter-widgets/base",
            "_view_module_version": "1.2.0",
            "_view_name": "StyleView",
            "description_width": ""
          }
        },
        "93af806387ea4d89b57e9bb2be5943e3": {
          "model_module": "@jupyter-widgets/base",
          "model_module_version": "1.2.0",
          "model_name": "LayoutModel",
          "state": {
            "_model_module": "@jupyter-widgets/base",
            "_model_module_version": "1.2.0",
            "_model_name": "LayoutModel",
            "_view_count": null,
            "_view_module": "@jupyter-widgets/base",
            "_view_module_version": "1.2.0",
            "_view_name": "LayoutView",
            "align_content": null,
            "align_items": null,
            "align_self": null,
            "border": null,
            "bottom": null,
            "display": null,
            "flex": null,
            "flex_flow": null,
            "grid_area": null,
            "grid_auto_columns": null,
            "grid_auto_flow": null,
            "grid_auto_rows": null,
            "grid_column": null,
            "grid_gap": null,
            "grid_row": null,
            "grid_template_areas": null,
            "grid_template_columns": null,
            "grid_template_rows": null,
            "height": null,
            "justify_content": null,
            "justify_items": null,
            "left": null,
            "margin": null,
            "max_height": null,
            "max_width": null,
            "min_height": null,
            "min_width": null,
            "object_fit": null,
            "object_position": null,
            "order": null,
            "overflow": null,
            "overflow_x": null,
            "overflow_y": null,
            "padding": null,
            "right": null,
            "top": null,
            "visibility": null,
            "width": null
          }
        },
        "95a9657c06af473fbc5a7b4b89491886": {
          "model_module": "@jupyter-widgets/base",
          "model_module_version": "1.2.0",
          "model_name": "LayoutModel",
          "state": {
            "_model_module": "@jupyter-widgets/base",
            "_model_module_version": "1.2.0",
            "_model_name": "LayoutModel",
            "_view_count": null,
            "_view_module": "@jupyter-widgets/base",
            "_view_module_version": "1.2.0",
            "_view_name": "LayoutView",
            "align_content": null,
            "align_items": null,
            "align_self": null,
            "border": null,
            "bottom": null,
            "display": null,
            "flex": null,
            "flex_flow": null,
            "grid_area": null,
            "grid_auto_columns": null,
            "grid_auto_flow": null,
            "grid_auto_rows": null,
            "grid_column": null,
            "grid_gap": null,
            "grid_row": null,
            "grid_template_areas": null,
            "grid_template_columns": null,
            "grid_template_rows": null,
            "height": null,
            "justify_content": null,
            "justify_items": null,
            "left": null,
            "margin": null,
            "max_height": null,
            "max_width": null,
            "min_height": null,
            "min_width": null,
            "object_fit": null,
            "object_position": null,
            "order": null,
            "overflow": null,
            "overflow_x": null,
            "overflow_y": null,
            "padding": null,
            "right": null,
            "top": null,
            "visibility": null,
            "width": null
          }
        },
        "97c8b48f50d646e9b3c6c614f4d49870": {
          "model_module": "@jupyter-widgets/base",
          "model_module_version": "1.2.0",
          "model_name": "LayoutModel",
          "state": {
            "_model_module": "@jupyter-widgets/base",
            "_model_module_version": "1.2.0",
            "_model_name": "LayoutModel",
            "_view_count": null,
            "_view_module": "@jupyter-widgets/base",
            "_view_module_version": "1.2.0",
            "_view_name": "LayoutView",
            "align_content": null,
            "align_items": null,
            "align_self": null,
            "border": null,
            "bottom": null,
            "display": null,
            "flex": null,
            "flex_flow": null,
            "grid_area": null,
            "grid_auto_columns": null,
            "grid_auto_flow": null,
            "grid_auto_rows": null,
            "grid_column": null,
            "grid_gap": null,
            "grid_row": null,
            "grid_template_areas": null,
            "grid_template_columns": null,
            "grid_template_rows": null,
            "height": null,
            "justify_content": null,
            "justify_items": null,
            "left": null,
            "margin": null,
            "max_height": null,
            "max_width": null,
            "min_height": null,
            "min_width": null,
            "object_fit": null,
            "object_position": null,
            "order": null,
            "overflow": null,
            "overflow_x": null,
            "overflow_y": null,
            "padding": null,
            "right": null,
            "top": null,
            "visibility": null,
            "width": null
          }
        },
        "9b12e5ab053a49008b6caab44166d03d": {
          "model_module": "@jupyter-widgets/controls",
          "model_module_version": "1.5.0",
          "model_name": "FloatProgressModel",
          "state": {
            "_dom_classes": [],
            "_model_module": "@jupyter-widgets/controls",
            "_model_module_version": "1.5.0",
            "_model_name": "FloatProgressModel",
            "_view_count": null,
            "_view_module": "@jupyter-widgets/controls",
            "_view_module_version": "1.5.0",
            "_view_name": "ProgressView",
            "bar_style": "success",
            "description": "",
            "description_tooltip": null,
            "layout": "IPY_MODEL_f73f2c08db224796a25fd487931f7ecd",
            "max": 30,
            "min": 0,
            "orientation": "horizontal",
            "style": "IPY_MODEL_491db23e4fa348b5aabb08fb9c676c09",
            "value": 30
          }
        },
        "a285feaff4c94ae8848395b606813538": {
          "model_module": "@jupyter-widgets/base",
          "model_module_version": "1.2.0",
          "model_name": "LayoutModel",
          "state": {
            "_model_module": "@jupyter-widgets/base",
            "_model_module_version": "1.2.0",
            "_model_name": "LayoutModel",
            "_view_count": null,
            "_view_module": "@jupyter-widgets/base",
            "_view_module_version": "1.2.0",
            "_view_name": "LayoutView",
            "align_content": null,
            "align_items": null,
            "align_self": null,
            "border": null,
            "bottom": null,
            "display": null,
            "flex": null,
            "flex_flow": null,
            "grid_area": null,
            "grid_auto_columns": null,
            "grid_auto_flow": null,
            "grid_auto_rows": null,
            "grid_column": null,
            "grid_gap": null,
            "grid_row": null,
            "grid_template_areas": null,
            "grid_template_columns": null,
            "grid_template_rows": null,
            "height": null,
            "justify_content": null,
            "justify_items": null,
            "left": null,
            "margin": null,
            "max_height": null,
            "max_width": null,
            "min_height": null,
            "min_width": null,
            "object_fit": null,
            "object_position": null,
            "order": null,
            "overflow": null,
            "overflow_x": null,
            "overflow_y": null,
            "padding": null,
            "right": null,
            "top": null,
            "visibility": null,
            "width": null
          }
        },
        "a3953008296447b9a496ca259052eb20": {
          "model_module": "@jupyter-widgets/controls",
          "model_module_version": "1.5.0",
          "model_name": "FloatProgressModel",
          "state": {
            "_dom_classes": [],
            "_model_module": "@jupyter-widgets/controls",
            "_model_module_version": "1.5.0",
            "_model_name": "FloatProgressModel",
            "_view_count": null,
            "_view_module": "@jupyter-widgets/controls",
            "_view_module_version": "1.5.0",
            "_view_name": "ProgressView",
            "bar_style": "success",
            "description": "",
            "description_tooltip": null,
            "layout": "IPY_MODEL_77cf8a1a040a4a23b04fdb35370832ba",
            "max": 30,
            "min": 0,
            "orientation": "horizontal",
            "style": "IPY_MODEL_5feb1b3dc8474f12807d01b241ba6f92",
            "value": 30
          }
        },
        "aa161309dd784272ae566054fe097bf8": {
          "model_module": "@jupyter-widgets/controls",
          "model_module_version": "1.5.0",
          "model_name": "HTMLModel",
          "state": {
            "_dom_classes": [],
            "_model_module": "@jupyter-widgets/controls",
            "_model_module_version": "1.5.0",
            "_model_name": "HTMLModel",
            "_view_count": null,
            "_view_module": "@jupyter-widgets/controls",
            "_view_module_version": "1.5.0",
            "_view_name": "HTMLView",
            "description": "",
            "description_tooltip": null,
            "layout": "IPY_MODEL_a285feaff4c94ae8848395b606813538",
            "placeholder": "​",
            "style": "IPY_MODEL_39d30134067443ae978b075d5dafe283",
            "value": " 30/30 [01:37&lt;00:00,  1.46s/it]"
          }
        },
        "aa4ceb6fb5034174be01e407b567478b": {
          "model_module": "@jupyter-widgets/base",
          "model_module_version": "1.2.0",
          "model_name": "LayoutModel",
          "state": {
            "_model_module": "@jupyter-widgets/base",
            "_model_module_version": "1.2.0",
            "_model_name": "LayoutModel",
            "_view_count": null,
            "_view_module": "@jupyter-widgets/base",
            "_view_module_version": "1.2.0",
            "_view_name": "LayoutView",
            "align_content": null,
            "align_items": null,
            "align_self": null,
            "border": null,
            "bottom": null,
            "display": null,
            "flex": null,
            "flex_flow": null,
            "grid_area": null,
            "grid_auto_columns": null,
            "grid_auto_flow": null,
            "grid_auto_rows": null,
            "grid_column": null,
            "grid_gap": null,
            "grid_row": null,
            "grid_template_areas": null,
            "grid_template_columns": null,
            "grid_template_rows": null,
            "height": null,
            "justify_content": null,
            "justify_items": null,
            "left": null,
            "margin": null,
            "max_height": null,
            "max_width": null,
            "min_height": null,
            "min_width": null,
            "object_fit": null,
            "object_position": null,
            "order": null,
            "overflow": null,
            "overflow_x": null,
            "overflow_y": null,
            "padding": null,
            "right": null,
            "top": null,
            "visibility": null,
            "width": null
          }
        },
        "aa5d16e7be21492ebc5277b6a475b84c": {
          "model_module": "@jupyter-widgets/controls",
          "model_module_version": "1.5.0",
          "model_name": "HTMLModel",
          "state": {
            "_dom_classes": [],
            "_model_module": "@jupyter-widgets/controls",
            "_model_module_version": "1.5.0",
            "_model_name": "HTMLModel",
            "_view_count": null,
            "_view_module": "@jupyter-widgets/controls",
            "_view_module_version": "1.5.0",
            "_view_name": "HTMLView",
            "description": "",
            "description_tooltip": null,
            "layout": "IPY_MODEL_ee4e44cb9def436491a7c6b24658a25e",
            "placeholder": "​",
            "style": "IPY_MODEL_3d166821271d46a789fa6fa18a9bf810",
            "value": "Best trial: 21. Best value: 232.644: 100%"
          }
        },
        "ab6d9f5b9753402ca9716937cee29340": {
          "model_module": "@jupyter-widgets/controls",
          "model_module_version": "1.5.0",
          "model_name": "DescriptionStyleModel",
          "state": {
            "_model_module": "@jupyter-widgets/controls",
            "_model_module_version": "1.5.0",
            "_model_name": "DescriptionStyleModel",
            "_view_count": null,
            "_view_module": "@jupyter-widgets/base",
            "_view_module_version": "1.2.0",
            "_view_name": "StyleView",
            "description_width": ""
          }
        },
        "ae232e1307ff4f5cbe7d273805fb6f10": {
          "model_module": "@jupyter-widgets/base",
          "model_module_version": "1.2.0",
          "model_name": "LayoutModel",
          "state": {
            "_model_module": "@jupyter-widgets/base",
            "_model_module_version": "1.2.0",
            "_model_name": "LayoutModel",
            "_view_count": null,
            "_view_module": "@jupyter-widgets/base",
            "_view_module_version": "1.2.0",
            "_view_name": "LayoutView",
            "align_content": null,
            "align_items": null,
            "align_self": null,
            "border": null,
            "bottom": null,
            "display": null,
            "flex": null,
            "flex_flow": null,
            "grid_area": null,
            "grid_auto_columns": null,
            "grid_auto_flow": null,
            "grid_auto_rows": null,
            "grid_column": null,
            "grid_gap": null,
            "grid_row": null,
            "grid_template_areas": null,
            "grid_template_columns": null,
            "grid_template_rows": null,
            "height": null,
            "justify_content": null,
            "justify_items": null,
            "left": null,
            "margin": null,
            "max_height": null,
            "max_width": null,
            "min_height": null,
            "min_width": null,
            "object_fit": null,
            "object_position": null,
            "order": null,
            "overflow": null,
            "overflow_x": null,
            "overflow_y": null,
            "padding": null,
            "right": null,
            "top": null,
            "visibility": null,
            "width": null
          }
        },
        "b59427d1036c451dafcf9145942416c5": {
          "model_module": "@jupyter-widgets/controls",
          "model_module_version": "1.5.0",
          "model_name": "HBoxModel",
          "state": {
            "_dom_classes": [],
            "_model_module": "@jupyter-widgets/controls",
            "_model_module_version": "1.5.0",
            "_model_name": "HBoxModel",
            "_view_count": null,
            "_view_module": "@jupyter-widgets/controls",
            "_view_module_version": "1.5.0",
            "_view_name": "HBoxView",
            "box_style": "",
            "children": [
              "IPY_MODEL_8c96c940df6d44e8afbca983f80466b4",
              "IPY_MODEL_b80dc4016b17402fbc9faad692637fa3",
              "IPY_MODEL_1b0b8733d81b4f86bd49a5ce2f5d6d98"
            ],
            "layout": "IPY_MODEL_93af806387ea4d89b57e9bb2be5943e3"
          }
        },
        "b80dc4016b17402fbc9faad692637fa3": {
          "model_module": "@jupyter-widgets/controls",
          "model_module_version": "1.5.0",
          "model_name": "FloatProgressModel",
          "state": {
            "_dom_classes": [],
            "_model_module": "@jupyter-widgets/controls",
            "_model_module_version": "1.5.0",
            "_model_name": "FloatProgressModel",
            "_view_count": null,
            "_view_module": "@jupyter-widgets/controls",
            "_view_module_version": "1.5.0",
            "_view_name": "ProgressView",
            "bar_style": "success",
            "description": "",
            "description_tooltip": null,
            "layout": "IPY_MODEL_8d839205dad14f8295595a48fff6c345",
            "max": 30,
            "min": 0,
            "orientation": "horizontal",
            "style": "IPY_MODEL_d4d91b09d2dd4535bc99d3150aea73c8",
            "value": 30
          }
        },
        "ba926f3f8951403596024b00b2b48f9e": {
          "model_module": "@jupyter-widgets/controls",
          "model_module_version": "1.5.0",
          "model_name": "DescriptionStyleModel",
          "state": {
            "_model_module": "@jupyter-widgets/controls",
            "_model_module_version": "1.5.0",
            "_model_name": "DescriptionStyleModel",
            "_view_count": null,
            "_view_module": "@jupyter-widgets/base",
            "_view_module_version": "1.2.0",
            "_view_name": "StyleView",
            "description_width": ""
          }
        },
        "bc9043fac28340628b8140f2dcc3de2c": {
          "model_module": "@jupyter-widgets/base",
          "model_module_version": "1.2.0",
          "model_name": "LayoutModel",
          "state": {
            "_model_module": "@jupyter-widgets/base",
            "_model_module_version": "1.2.0",
            "_model_name": "LayoutModel",
            "_view_count": null,
            "_view_module": "@jupyter-widgets/base",
            "_view_module_version": "1.2.0",
            "_view_name": "LayoutView",
            "align_content": null,
            "align_items": null,
            "align_self": null,
            "border": null,
            "bottom": null,
            "display": null,
            "flex": null,
            "flex_flow": null,
            "grid_area": null,
            "grid_auto_columns": null,
            "grid_auto_flow": null,
            "grid_auto_rows": null,
            "grid_column": null,
            "grid_gap": null,
            "grid_row": null,
            "grid_template_areas": null,
            "grid_template_columns": null,
            "grid_template_rows": null,
            "height": null,
            "justify_content": null,
            "justify_items": null,
            "left": null,
            "margin": null,
            "max_height": null,
            "max_width": null,
            "min_height": null,
            "min_width": null,
            "object_fit": null,
            "object_position": null,
            "order": null,
            "overflow": null,
            "overflow_x": null,
            "overflow_y": null,
            "padding": null,
            "right": null,
            "top": null,
            "visibility": null,
            "width": null
          }
        },
        "bca408e926884954a53c5f5ad1fa3dee": {
          "model_module": "@jupyter-widgets/base",
          "model_module_version": "1.2.0",
          "model_name": "LayoutModel",
          "state": {
            "_model_module": "@jupyter-widgets/base",
            "_model_module_version": "1.2.0",
            "_model_name": "LayoutModel",
            "_view_count": null,
            "_view_module": "@jupyter-widgets/base",
            "_view_module_version": "1.2.0",
            "_view_name": "LayoutView",
            "align_content": null,
            "align_items": null,
            "align_self": null,
            "border": null,
            "bottom": null,
            "display": null,
            "flex": null,
            "flex_flow": null,
            "grid_area": null,
            "grid_auto_columns": null,
            "grid_auto_flow": null,
            "grid_auto_rows": null,
            "grid_column": null,
            "grid_gap": null,
            "grid_row": null,
            "grid_template_areas": null,
            "grid_template_columns": null,
            "grid_template_rows": null,
            "height": null,
            "justify_content": null,
            "justify_items": null,
            "left": null,
            "margin": null,
            "max_height": null,
            "max_width": null,
            "min_height": null,
            "min_width": null,
            "object_fit": null,
            "object_position": null,
            "order": null,
            "overflow": null,
            "overflow_x": null,
            "overflow_y": null,
            "padding": null,
            "right": null,
            "top": null,
            "visibility": null,
            "width": null
          }
        },
        "be3c429e31de4415997ac5a72b93b997": {
          "model_module": "@jupyter-widgets/base",
          "model_module_version": "1.2.0",
          "model_name": "LayoutModel",
          "state": {
            "_model_module": "@jupyter-widgets/base",
            "_model_module_version": "1.2.0",
            "_model_name": "LayoutModel",
            "_view_count": null,
            "_view_module": "@jupyter-widgets/base",
            "_view_module_version": "1.2.0",
            "_view_name": "LayoutView",
            "align_content": null,
            "align_items": null,
            "align_self": null,
            "border": null,
            "bottom": null,
            "display": null,
            "flex": null,
            "flex_flow": null,
            "grid_area": null,
            "grid_auto_columns": null,
            "grid_auto_flow": null,
            "grid_auto_rows": null,
            "grid_column": null,
            "grid_gap": null,
            "grid_row": null,
            "grid_template_areas": null,
            "grid_template_columns": null,
            "grid_template_rows": null,
            "height": null,
            "justify_content": null,
            "justify_items": null,
            "left": null,
            "margin": null,
            "max_height": null,
            "max_width": null,
            "min_height": null,
            "min_width": null,
            "object_fit": null,
            "object_position": null,
            "order": null,
            "overflow": null,
            "overflow_x": null,
            "overflow_y": null,
            "padding": null,
            "right": null,
            "top": null,
            "visibility": null,
            "width": null
          }
        },
        "c31d9d18dad84ca48a3754241cc2fff7": {
          "model_module": "@jupyter-widgets/controls",
          "model_module_version": "1.5.0",
          "model_name": "HBoxModel",
          "state": {
            "_dom_classes": [],
            "_model_module": "@jupyter-widgets/controls",
            "_model_module_version": "1.5.0",
            "_model_name": "HBoxModel",
            "_view_count": null,
            "_view_module": "@jupyter-widgets/controls",
            "_view_module_version": "1.5.0",
            "_view_name": "HBoxView",
            "box_style": "",
            "children": [
              "IPY_MODEL_12b96dfe170c49bd821fa46c0f373a86",
              "IPY_MODEL_659e066897e04234b87bb5fe99400ba3",
              "IPY_MODEL_1aa2fb75e7c44aacbe4584543bc58355"
            ],
            "layout": "IPY_MODEL_41effd5a07c74fecbd364d3ba90a4bf6"
          }
        },
        "c9d896491d024538837f2140be568701": {
          "model_module": "@jupyter-widgets/base",
          "model_module_version": "1.2.0",
          "model_name": "LayoutModel",
          "state": {
            "_model_module": "@jupyter-widgets/base",
            "_model_module_version": "1.2.0",
            "_model_name": "LayoutModel",
            "_view_count": null,
            "_view_module": "@jupyter-widgets/base",
            "_view_module_version": "1.2.0",
            "_view_name": "LayoutView",
            "align_content": null,
            "align_items": null,
            "align_self": null,
            "border": null,
            "bottom": null,
            "display": null,
            "flex": null,
            "flex_flow": null,
            "grid_area": null,
            "grid_auto_columns": null,
            "grid_auto_flow": null,
            "grid_auto_rows": null,
            "grid_column": null,
            "grid_gap": null,
            "grid_row": null,
            "grid_template_areas": null,
            "grid_template_columns": null,
            "grid_template_rows": null,
            "height": null,
            "justify_content": null,
            "justify_items": null,
            "left": null,
            "margin": null,
            "max_height": null,
            "max_width": null,
            "min_height": null,
            "min_width": null,
            "object_fit": null,
            "object_position": null,
            "order": null,
            "overflow": null,
            "overflow_x": null,
            "overflow_y": null,
            "padding": null,
            "right": null,
            "top": null,
            "visibility": null,
            "width": null
          }
        },
        "cc172ce608874c6d9cd8327848eafc0e": {
          "model_module": "@jupyter-widgets/controls",
          "model_module_version": "1.5.0",
          "model_name": "FloatProgressModel",
          "state": {
            "_dom_classes": [],
            "_model_module": "@jupyter-widgets/controls",
            "_model_module_version": "1.5.0",
            "_model_name": "FloatProgressModel",
            "_view_count": null,
            "_view_module": "@jupyter-widgets/controls",
            "_view_module_version": "1.5.0",
            "_view_name": "ProgressView",
            "bar_style": "success",
            "description": "",
            "description_tooltip": null,
            "layout": "IPY_MODEL_d373f5dd3e574323932094b142e172b0",
            "max": 30,
            "min": 0,
            "orientation": "horizontal",
            "style": "IPY_MODEL_f0f66fa9a0a84e3c97592a2cf63ba94d",
            "value": 30
          }
        },
        "cf4aa778c9a94de1ab1fb0aa1655262a": {
          "model_module": "@jupyter-widgets/controls",
          "model_module_version": "1.5.0",
          "model_name": "DescriptionStyleModel",
          "state": {
            "_model_module": "@jupyter-widgets/controls",
            "_model_module_version": "1.5.0",
            "_model_name": "DescriptionStyleModel",
            "_view_count": null,
            "_view_module": "@jupyter-widgets/base",
            "_view_module_version": "1.2.0",
            "_view_name": "StyleView",
            "description_width": ""
          }
        },
        "d34bde51d38d486f889054e004694cf5": {
          "model_module": "@jupyter-widgets/controls",
          "model_module_version": "1.5.0",
          "model_name": "ProgressStyleModel",
          "state": {
            "_model_module": "@jupyter-widgets/controls",
            "_model_module_version": "1.5.0",
            "_model_name": "ProgressStyleModel",
            "_view_count": null,
            "_view_module": "@jupyter-widgets/base",
            "_view_module_version": "1.2.0",
            "_view_name": "StyleView",
            "bar_color": null,
            "description_width": ""
          }
        },
        "d373f5dd3e574323932094b142e172b0": {
          "model_module": "@jupyter-widgets/base",
          "model_module_version": "1.2.0",
          "model_name": "LayoutModel",
          "state": {
            "_model_module": "@jupyter-widgets/base",
            "_model_module_version": "1.2.0",
            "_model_name": "LayoutModel",
            "_view_count": null,
            "_view_module": "@jupyter-widgets/base",
            "_view_module_version": "1.2.0",
            "_view_name": "LayoutView",
            "align_content": null,
            "align_items": null,
            "align_self": null,
            "border": null,
            "bottom": null,
            "display": null,
            "flex": null,
            "flex_flow": null,
            "grid_area": null,
            "grid_auto_columns": null,
            "grid_auto_flow": null,
            "grid_auto_rows": null,
            "grid_column": null,
            "grid_gap": null,
            "grid_row": null,
            "grid_template_areas": null,
            "grid_template_columns": null,
            "grid_template_rows": null,
            "height": null,
            "justify_content": null,
            "justify_items": null,
            "left": null,
            "margin": null,
            "max_height": null,
            "max_width": null,
            "min_height": null,
            "min_width": null,
            "object_fit": null,
            "object_position": null,
            "order": null,
            "overflow": null,
            "overflow_x": null,
            "overflow_y": null,
            "padding": null,
            "right": null,
            "top": null,
            "visibility": null,
            "width": null
          }
        },
        "d4d91b09d2dd4535bc99d3150aea73c8": {
          "model_module": "@jupyter-widgets/controls",
          "model_module_version": "1.5.0",
          "model_name": "ProgressStyleModel",
          "state": {
            "_model_module": "@jupyter-widgets/controls",
            "_model_module_version": "1.5.0",
            "_model_name": "ProgressStyleModel",
            "_view_count": null,
            "_view_module": "@jupyter-widgets/base",
            "_view_module_version": "1.2.0",
            "_view_name": "StyleView",
            "bar_color": null,
            "description_width": ""
          }
        },
        "d8c9351c621b49149c140f6e35783c96": {
          "model_module": "@jupyter-widgets/controls",
          "model_module_version": "1.5.0",
          "model_name": "DescriptionStyleModel",
          "state": {
            "_model_module": "@jupyter-widgets/controls",
            "_model_module_version": "1.5.0",
            "_model_name": "DescriptionStyleModel",
            "_view_count": null,
            "_view_module": "@jupyter-widgets/base",
            "_view_module_version": "1.2.0",
            "_view_name": "StyleView",
            "description_width": ""
          }
        },
        "d9c256530be14ef9bf05dbae135c9b3a": {
          "model_module": "@jupyter-widgets/base",
          "model_module_version": "1.2.0",
          "model_name": "LayoutModel",
          "state": {
            "_model_module": "@jupyter-widgets/base",
            "_model_module_version": "1.2.0",
            "_model_name": "LayoutModel",
            "_view_count": null,
            "_view_module": "@jupyter-widgets/base",
            "_view_module_version": "1.2.0",
            "_view_name": "LayoutView",
            "align_content": null,
            "align_items": null,
            "align_self": null,
            "border": null,
            "bottom": null,
            "display": null,
            "flex": null,
            "flex_flow": null,
            "grid_area": null,
            "grid_auto_columns": null,
            "grid_auto_flow": null,
            "grid_auto_rows": null,
            "grid_column": null,
            "grid_gap": null,
            "grid_row": null,
            "grid_template_areas": null,
            "grid_template_columns": null,
            "grid_template_rows": null,
            "height": null,
            "justify_content": null,
            "justify_items": null,
            "left": null,
            "margin": null,
            "max_height": null,
            "max_width": null,
            "min_height": null,
            "min_width": null,
            "object_fit": null,
            "object_position": null,
            "order": null,
            "overflow": null,
            "overflow_x": null,
            "overflow_y": null,
            "padding": null,
            "right": null,
            "top": null,
            "visibility": null,
            "width": null
          }
        },
        "db1f18d6f5f142d3af489bdd1383a160": {
          "model_module": "@jupyter-widgets/controls",
          "model_module_version": "1.5.0",
          "model_name": "DescriptionStyleModel",
          "state": {
            "_model_module": "@jupyter-widgets/controls",
            "_model_module_version": "1.5.0",
            "_model_name": "DescriptionStyleModel",
            "_view_count": null,
            "_view_module": "@jupyter-widgets/base",
            "_view_module_version": "1.2.0",
            "_view_name": "StyleView",
            "description_width": ""
          }
        },
        "dbafdbf42fc742beae3a462ba933b614": {
          "model_module": "@jupyter-widgets/base",
          "model_module_version": "1.2.0",
          "model_name": "LayoutModel",
          "state": {
            "_model_module": "@jupyter-widgets/base",
            "_model_module_version": "1.2.0",
            "_model_name": "LayoutModel",
            "_view_count": null,
            "_view_module": "@jupyter-widgets/base",
            "_view_module_version": "1.2.0",
            "_view_name": "LayoutView",
            "align_content": null,
            "align_items": null,
            "align_self": null,
            "border": null,
            "bottom": null,
            "display": null,
            "flex": null,
            "flex_flow": null,
            "grid_area": null,
            "grid_auto_columns": null,
            "grid_auto_flow": null,
            "grid_auto_rows": null,
            "grid_column": null,
            "grid_gap": null,
            "grid_row": null,
            "grid_template_areas": null,
            "grid_template_columns": null,
            "grid_template_rows": null,
            "height": null,
            "justify_content": null,
            "justify_items": null,
            "left": null,
            "margin": null,
            "max_height": null,
            "max_width": null,
            "min_height": null,
            "min_width": null,
            "object_fit": null,
            "object_position": null,
            "order": null,
            "overflow": null,
            "overflow_x": null,
            "overflow_y": null,
            "padding": null,
            "right": null,
            "top": null,
            "visibility": null,
            "width": null
          }
        },
        "dc7b7b59cad84bf583a683efe107c018": {
          "model_module": "@jupyter-widgets/base",
          "model_module_version": "1.2.0",
          "model_name": "LayoutModel",
          "state": {
            "_model_module": "@jupyter-widgets/base",
            "_model_module_version": "1.2.0",
            "_model_name": "LayoutModel",
            "_view_count": null,
            "_view_module": "@jupyter-widgets/base",
            "_view_module_version": "1.2.0",
            "_view_name": "LayoutView",
            "align_content": null,
            "align_items": null,
            "align_self": null,
            "border": null,
            "bottom": null,
            "display": null,
            "flex": null,
            "flex_flow": null,
            "grid_area": null,
            "grid_auto_columns": null,
            "grid_auto_flow": null,
            "grid_auto_rows": null,
            "grid_column": null,
            "grid_gap": null,
            "grid_row": null,
            "grid_template_areas": null,
            "grid_template_columns": null,
            "grid_template_rows": null,
            "height": null,
            "justify_content": null,
            "justify_items": null,
            "left": null,
            "margin": null,
            "max_height": null,
            "max_width": null,
            "min_height": null,
            "min_width": null,
            "object_fit": null,
            "object_position": null,
            "order": null,
            "overflow": null,
            "overflow_x": null,
            "overflow_y": null,
            "padding": null,
            "right": null,
            "top": null,
            "visibility": null,
            "width": null
          }
        },
        "dc7d0466372e4cd6b96079f364817a0d": {
          "model_module": "@jupyter-widgets/controls",
          "model_module_version": "1.5.0",
          "model_name": "DescriptionStyleModel",
          "state": {
            "_model_module": "@jupyter-widgets/controls",
            "_model_module_version": "1.5.0",
            "_model_name": "DescriptionStyleModel",
            "_view_count": null,
            "_view_module": "@jupyter-widgets/base",
            "_view_module_version": "1.2.0",
            "_view_name": "StyleView",
            "description_width": ""
          }
        },
        "ece27649fa934b6091d1ad468a351da2": {
          "model_module": "@jupyter-widgets/base",
          "model_module_version": "1.2.0",
          "model_name": "LayoutModel",
          "state": {
            "_model_module": "@jupyter-widgets/base",
            "_model_module_version": "1.2.0",
            "_model_name": "LayoutModel",
            "_view_count": null,
            "_view_module": "@jupyter-widgets/base",
            "_view_module_version": "1.2.0",
            "_view_name": "LayoutView",
            "align_content": null,
            "align_items": null,
            "align_self": null,
            "border": null,
            "bottom": null,
            "display": null,
            "flex": null,
            "flex_flow": null,
            "grid_area": null,
            "grid_auto_columns": null,
            "grid_auto_flow": null,
            "grid_auto_rows": null,
            "grid_column": null,
            "grid_gap": null,
            "grid_row": null,
            "grid_template_areas": null,
            "grid_template_columns": null,
            "grid_template_rows": null,
            "height": null,
            "justify_content": null,
            "justify_items": null,
            "left": null,
            "margin": null,
            "max_height": null,
            "max_width": null,
            "min_height": null,
            "min_width": null,
            "object_fit": null,
            "object_position": null,
            "order": null,
            "overflow": null,
            "overflow_x": null,
            "overflow_y": null,
            "padding": null,
            "right": null,
            "top": null,
            "visibility": null,
            "width": null
          }
        },
        "ee4e44cb9def436491a7c6b24658a25e": {
          "model_module": "@jupyter-widgets/base",
          "model_module_version": "1.2.0",
          "model_name": "LayoutModel",
          "state": {
            "_model_module": "@jupyter-widgets/base",
            "_model_module_version": "1.2.0",
            "_model_name": "LayoutModel",
            "_view_count": null,
            "_view_module": "@jupyter-widgets/base",
            "_view_module_version": "1.2.0",
            "_view_name": "LayoutView",
            "align_content": null,
            "align_items": null,
            "align_self": null,
            "border": null,
            "bottom": null,
            "display": null,
            "flex": null,
            "flex_flow": null,
            "grid_area": null,
            "grid_auto_columns": null,
            "grid_auto_flow": null,
            "grid_auto_rows": null,
            "grid_column": null,
            "grid_gap": null,
            "grid_row": null,
            "grid_template_areas": null,
            "grid_template_columns": null,
            "grid_template_rows": null,
            "height": null,
            "justify_content": null,
            "justify_items": null,
            "left": null,
            "margin": null,
            "max_height": null,
            "max_width": null,
            "min_height": null,
            "min_width": null,
            "object_fit": null,
            "object_position": null,
            "order": null,
            "overflow": null,
            "overflow_x": null,
            "overflow_y": null,
            "padding": null,
            "right": null,
            "top": null,
            "visibility": null,
            "width": null
          }
        },
        "f0f66fa9a0a84e3c97592a2cf63ba94d": {
          "model_module": "@jupyter-widgets/controls",
          "model_module_version": "1.5.0",
          "model_name": "ProgressStyleModel",
          "state": {
            "_model_module": "@jupyter-widgets/controls",
            "_model_module_version": "1.5.0",
            "_model_name": "ProgressStyleModel",
            "_view_count": null,
            "_view_module": "@jupyter-widgets/base",
            "_view_module_version": "1.2.0",
            "_view_name": "StyleView",
            "bar_color": null,
            "description_width": ""
          }
        },
        "f25c91a3c42a421c84fb6b3fee877aac": {
          "model_module": "@jupyter-widgets/controls",
          "model_module_version": "1.5.0",
          "model_name": "DescriptionStyleModel",
          "state": {
            "_model_module": "@jupyter-widgets/controls",
            "_model_module_version": "1.5.0",
            "_model_name": "DescriptionStyleModel",
            "_view_count": null,
            "_view_module": "@jupyter-widgets/base",
            "_view_module_version": "1.2.0",
            "_view_name": "StyleView",
            "description_width": ""
          }
        },
        "f5018e6a59574ddab12282739ef761ad": {
          "model_module": "@jupyter-widgets/controls",
          "model_module_version": "1.5.0",
          "model_name": "ProgressStyleModel",
          "state": {
            "_model_module": "@jupyter-widgets/controls",
            "_model_module_version": "1.5.0",
            "_model_name": "ProgressStyleModel",
            "_view_count": null,
            "_view_module": "@jupyter-widgets/base",
            "_view_module_version": "1.2.0",
            "_view_name": "StyleView",
            "bar_color": null,
            "description_width": ""
          }
        },
        "f73f2c08db224796a25fd487931f7ecd": {
          "model_module": "@jupyter-widgets/base",
          "model_module_version": "1.2.0",
          "model_name": "LayoutModel",
          "state": {
            "_model_module": "@jupyter-widgets/base",
            "_model_module_version": "1.2.0",
            "_model_name": "LayoutModel",
            "_view_count": null,
            "_view_module": "@jupyter-widgets/base",
            "_view_module_version": "1.2.0",
            "_view_name": "LayoutView",
            "align_content": null,
            "align_items": null,
            "align_self": null,
            "border": null,
            "bottom": null,
            "display": null,
            "flex": null,
            "flex_flow": null,
            "grid_area": null,
            "grid_auto_columns": null,
            "grid_auto_flow": null,
            "grid_auto_rows": null,
            "grid_column": null,
            "grid_gap": null,
            "grid_row": null,
            "grid_template_areas": null,
            "grid_template_columns": null,
            "grid_template_rows": null,
            "height": null,
            "justify_content": null,
            "justify_items": null,
            "left": null,
            "margin": null,
            "max_height": null,
            "max_width": null,
            "min_height": null,
            "min_width": null,
            "object_fit": null,
            "object_position": null,
            "order": null,
            "overflow": null,
            "overflow_x": null,
            "overflow_y": null,
            "padding": null,
            "right": null,
            "top": null,
            "visibility": null,
            "width": null
          }
        },
        "f84c7c22b3ba4694b9fc6e7773562c32": {
          "model_module": "@jupyter-widgets/controls",
          "model_module_version": "1.5.0",
          "model_name": "HTMLModel",
          "state": {
            "_dom_classes": [],
            "_model_module": "@jupyter-widgets/controls",
            "_model_module_version": "1.5.0",
            "_model_name": "HTMLModel",
            "_view_count": null,
            "_view_module": "@jupyter-widgets/controls",
            "_view_module_version": "1.5.0",
            "_view_name": "HTMLView",
            "description": "",
            "description_tooltip": null,
            "layout": "IPY_MODEL_ae232e1307ff4f5cbe7d273805fb6f10",
            "placeholder": "​",
            "style": "IPY_MODEL_51ab4fa59b8c4d07b99fe8ddb052941f",
            "value": " 30/30 [00:01&lt;00:00, 16.50it/s]"
          }
        },
        "faae3e6fb4134c36b0e41b79fb7806f3": {
          "model_module": "@jupyter-widgets/base",
          "model_module_version": "1.2.0",
          "model_name": "LayoutModel",
          "state": {
            "_model_module": "@jupyter-widgets/base",
            "_model_module_version": "1.2.0",
            "_model_name": "LayoutModel",
            "_view_count": null,
            "_view_module": "@jupyter-widgets/base",
            "_view_module_version": "1.2.0",
            "_view_name": "LayoutView",
            "align_content": null,
            "align_items": null,
            "align_self": null,
            "border": null,
            "bottom": null,
            "display": null,
            "flex": null,
            "flex_flow": null,
            "grid_area": null,
            "grid_auto_columns": null,
            "grid_auto_flow": null,
            "grid_auto_rows": null,
            "grid_column": null,
            "grid_gap": null,
            "grid_row": null,
            "grid_template_areas": null,
            "grid_template_columns": null,
            "grid_template_rows": null,
            "height": null,
            "justify_content": null,
            "justify_items": null,
            "left": null,
            "margin": null,
            "max_height": null,
            "max_width": null,
            "min_height": null,
            "min_width": null,
            "object_fit": null,
            "object_position": null,
            "order": null,
            "overflow": null,
            "overflow_x": null,
            "overflow_y": null,
            "padding": null,
            "right": null,
            "top": null,
            "visibility": null,
            "width": null
          }
        },
        "ff6ef5bd51754ca0a17acce4343e3eec": {
          "model_module": "@jupyter-widgets/controls",
          "model_module_version": "1.5.0",
          "model_name": "HTMLModel",
          "state": {
            "_dom_classes": [],
            "_model_module": "@jupyter-widgets/controls",
            "_model_module_version": "1.5.0",
            "_model_name": "HTMLModel",
            "_view_count": null,
            "_view_module": "@jupyter-widgets/controls",
            "_view_module_version": "1.5.0",
            "_view_name": "HTMLView",
            "description": "",
            "description_tooltip": null,
            "layout": "IPY_MODEL_3316d46bd1b249bf93f6be12b2cd16fb",
            "placeholder": "​",
            "style": "IPY_MODEL_db1f18d6f5f142d3af489bdd1383a160",
            "value": "Best trial: 25. Best value: 212.31: 100%"
          }
        }
      }
    }
  },
  "nbformat": 4,
  "nbformat_minor": 0
}